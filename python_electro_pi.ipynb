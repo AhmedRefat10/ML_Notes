{
  "nbformat": 4,
  "nbformat_minor": 0,
  "metadata": {
    "colab": {
      "provenance": [],
      "authorship_tag": "ABX9TyNlGRXA9tc7E11uuX7s4I0y",
      "include_colab_link": true
    },
    "kernelspec": {
      "name": "python3",
      "display_name": "Python 3"
    },
    "language_info": {
      "name": "python"
    }
  },
  "cells": [
    {
      "cell_type": "markdown",
      "metadata": {
        "id": "view-in-github",
        "colab_type": "text"
      },
      "source": [
        "<a href=\"https://colab.research.google.com/github/AhmedRefat10/ML_Notes/blob/main/python_electro_pi.ipynb\" target=\"_parent\"><img src=\"https://colab.research.google.com/assets/colab-badge.svg\" alt=\"Open In Colab\"/></a>"
      ]
    },
    {
      "cell_type": "code",
      "execution_count": null,
      "metadata": {
        "id": "Ip9KQwhSGbDt"
      },
      "outputs": [],
      "source": []
    },
    {
      "cell_type": "markdown",
      "source": [
        "## Data Structure"
      ],
      "metadata": {
        "id": "7r4BGBE1wb6s"
      }
    },
    {
      "cell_type": "code",
      "execution_count": null,
      "metadata": {
        "id": "u0TfJ9XLmlhf"
      },
      "outputs": [],
      "source": [
        "## strings\n",
        "x = 'we are electro pi'"
      ]
    },
    {
      "cell_type": "code",
      "source": [
        "x[::-1]"
      ],
      "metadata": {
        "colab": {
          "base_uri": "https://localhost:8080/",
          "height": 36
        },
        "id": "nQXX6bi9mrAb",
        "outputId": "37cb4c53-2896-4a46-92ed-859edf39713f"
      },
      "execution_count": null,
      "outputs": [
        {
          "output_type": "execute_result",
          "data": {
            "text/plain": [
              "'ip ortcele era ew'"
            ],
            "application/vnd.google.colaboratory.intrinsic+json": {
              "type": "string"
            }
          },
          "metadata": {},
          "execution_count": 2
        }
      ]
    },
    {
      "cell_type": "code",
      "source": [
        "name = 'ahmed'\n",
        "age = '18'"
      ],
      "metadata": {
        "id": "gX8kEiFamswa"
      },
      "execution_count": null,
      "outputs": []
    },
    {
      "cell_type": "code",
      "source": [
        "print('welcome {} your age is {}'.format(name, age))"
      ],
      "metadata": {
        "colab": {
          "base_uri": "https://localhost:8080/"
        },
        "id": "RcmSrAJHnOCw",
        "outputId": "302fd78d-262a-40cb-d0ab-99bfd03b7bdc"
      },
      "execution_count": null,
      "outputs": [
        {
          "output_type": "stream",
          "name": "stdout",
          "text": [
            "welcome ahmed your age is 18\n"
          ]
        }
      ]
    },
    {
      "cell_type": "code",
      "source": [
        "## lists\n",
        "list1 = [1, 2, 3]\n"
      ],
      "metadata": {
        "id": "kmZd1ccFnSt5"
      },
      "execution_count": null,
      "outputs": []
    },
    {
      "cell_type": "code",
      "source": [
        "list2 = [4, 5]"
      ],
      "metadata": {
        "id": "M2dnn3i8oRxp"
      },
      "execution_count": null,
      "outputs": []
    },
    {
      "cell_type": "code",
      "source": [
        "list1.extend(list2)"
      ],
      "metadata": {
        "id": "dRhZVtVeoThR"
      },
      "execution_count": null,
      "outputs": []
    },
    {
      "cell_type": "code",
      "source": [
        "list1"
      ],
      "metadata": {
        "colab": {
          "base_uri": "https://localhost:8080/"
        },
        "id": "UHsafbr7oVKi",
        "outputId": "74587a50-e2a1-46f1-de4c-c74f1b89f8e4"
      },
      "execution_count": null,
      "outputs": [
        {
          "output_type": "execute_result",
          "data": {
            "text/plain": [
              "[1, 2, 3, 4, 5]"
            ]
          },
          "metadata": {},
          "execution_count": 11
        }
      ]
    },
    {
      "cell_type": "code",
      "source": [
        "## tuple\n",
        "t = ('ahmed', '18', 'male')"
      ],
      "metadata": {
        "id": "3EBpm09Jou3Y"
      },
      "execution_count": null,
      "outputs": []
    },
    {
      "cell_type": "code",
      "source": [
        "(name, age, gender) = t"
      ],
      "metadata": {
        "id": "V2mxIvv4qbTA"
      },
      "execution_count": null,
      "outputs": []
    },
    {
      "cell_type": "code",
      "source": [
        "name"
      ],
      "metadata": {
        "colab": {
          "base_uri": "https://localhost:8080/",
          "height": 36
        },
        "id": "nvxc4iP_qe-_",
        "outputId": "aab1068f-955b-4a07-abf1-4dee3fcdf12d"
      },
      "execution_count": null,
      "outputs": [
        {
          "output_type": "execute_result",
          "data": {
            "text/plain": [
              "'ahmed'"
            ],
            "application/vnd.google.colaboratory.intrinsic+json": {
              "type": "string"
            }
          },
          "metadata": {},
          "execution_count": 19
        }
      ]
    },
    {
      "cell_type": "code",
      "source": [
        "age"
      ],
      "metadata": {
        "colab": {
          "base_uri": "https://localhost:8080/",
          "height": 36
        },
        "id": "nmXLaLbyqiWi",
        "outputId": "0d5360a0-eb63-42ab-c080-44cd10feb14c"
      },
      "execution_count": null,
      "outputs": [
        {
          "output_type": "execute_result",
          "data": {
            "text/plain": [
              "'18'"
            ],
            "application/vnd.google.colaboratory.intrinsic+json": {
              "type": "string"
            }
          },
          "metadata": {},
          "execution_count": 20
        }
      ]
    },
    {
      "cell_type": "code",
      "source": [
        "t = ('ali', 20, 10, 22, 30, 'male')"
      ],
      "metadata": {
        "id": "wdBImsYSqvEB"
      },
      "execution_count": null,
      "outputs": []
    },
    {
      "cell_type": "code",
      "source": [
        "# print first and last element in the tuple\n",
        "(name, *detalis, gender) = t"
      ],
      "metadata": {
        "id": "-C53nainq4Fw"
      },
      "execution_count": null,
      "outputs": []
    },
    {
      "cell_type": "code",
      "source": [
        "name"
      ],
      "metadata": {
        "colab": {
          "base_uri": "https://localhost:8080/",
          "height": 36
        },
        "id": "-pylZezhrER6",
        "outputId": "6b47c296-ec02-46e2-c043-6fb347ee4b0d"
      },
      "execution_count": null,
      "outputs": [
        {
          "output_type": "execute_result",
          "data": {
            "text/plain": [
              "'ali'"
            ],
            "application/vnd.google.colaboratory.intrinsic+json": {
              "type": "string"
            }
          },
          "metadata": {},
          "execution_count": 28
        }
      ]
    },
    {
      "cell_type": "code",
      "source": [
        "## set\n",
        "nums = {1, 2, 2, 3, 4}"
      ],
      "metadata": {
        "id": "jp8tKGOErglS"
      },
      "execution_count": null,
      "outputs": []
    },
    {
      "cell_type": "code",
      "source": [
        "nums"
      ],
      "metadata": {
        "colab": {
          "base_uri": "https://localhost:8080/"
        },
        "id": "0Guo-96psSjx",
        "outputId": "f68cfe32-61c7-4778-f2ce-11402c1ed6fb"
      },
      "execution_count": null,
      "outputs": [
        {
          "output_type": "execute_result",
          "data": {
            "text/plain": [
              "{1, 2, 3, 4}"
            ]
          },
          "metadata": {},
          "execution_count": 30
        }
      ]
    },
    {
      "cell_type": "code",
      "source": [
        "nums.add(4)\n",
        "nums"
      ],
      "metadata": {
        "colab": {
          "base_uri": "https://localhost:8080/"
        },
        "id": "SIaCg_-VsTta",
        "outputId": "02355a88-426b-466d-8413-88bbcb25f80a"
      },
      "execution_count": null,
      "outputs": [
        {
          "output_type": "execute_result",
          "data": {
            "text/plain": [
              "{1, 2, 3, 4}"
            ]
          },
          "metadata": {},
          "execution_count": 32
        }
      ]
    },
    {
      "cell_type": "code",
      "source": [
        "s1 = {1, 2}\n",
        "s2 = {3, 4, 4}"
      ],
      "metadata": {
        "id": "56K2dkwysWPS"
      },
      "execution_count": null,
      "outputs": []
    },
    {
      "cell_type": "code",
      "source": [
        "s1.update(s2)"
      ],
      "metadata": {
        "id": "aMXr-qkFsdrJ"
      },
      "execution_count": null,
      "outputs": []
    },
    {
      "cell_type": "code",
      "source": [
        "s1"
      ],
      "metadata": {
        "colab": {
          "base_uri": "https://localhost:8080/"
        },
        "id": "qqmRkXyksfGx",
        "outputId": "c0eed222-c399-45ce-eb3d-a142caa132e7"
      },
      "execution_count": null,
      "outputs": [
        {
          "output_type": "execute_result",
          "data": {
            "text/plain": [
              "{1, 2, 3, 4}"
            ]
          },
          "metadata": {},
          "execution_count": 38
        }
      ]
    },
    {
      "cell_type": "code",
      "source": [
        "s1.remove(3)"
      ],
      "metadata": {
        "id": "SpxDdIeLsgcJ"
      },
      "execution_count": null,
      "outputs": []
    },
    {
      "cell_type": "code",
      "source": [
        "s1"
      ],
      "metadata": {
        "colab": {
          "base_uri": "https://localhost:8080/"
        },
        "id": "jqjsYVtCss1K",
        "outputId": "a5336cd8-e055-4d7d-a430-69958f5425cf"
      },
      "execution_count": null,
      "outputs": [
        {
          "output_type": "execute_result",
          "data": {
            "text/plain": [
              "{1, 2, 4}"
            ]
          },
          "metadata": {},
          "execution_count": 40
        }
      ]
    },
    {
      "cell_type": "code",
      "source": [
        "s1.discard(1)"
      ],
      "metadata": {
        "id": "O0zVN93qstjI"
      },
      "execution_count": null,
      "outputs": []
    },
    {
      "cell_type": "code",
      "source": [
        "s1"
      ],
      "metadata": {
        "colab": {
          "base_uri": "https://localhost:8080/"
        },
        "id": "zYAyIC6es1cB",
        "outputId": "1ca50b57-c242-40c2-f4e4-fcb0565a7e25"
      },
      "execution_count": null,
      "outputs": [
        {
          "output_type": "execute_result",
          "data": {
            "text/plain": [
              "{2, 4}"
            ]
          },
          "metadata": {},
          "execution_count": 42
        }
      ]
    },
    {
      "cell_type": "code",
      "source": [
        "\"\"\" diffrence between remove and discard is:\n",
        "if we pass an element doesn't exist in the set the reomve will cause an error while discard will return nothing\n",
        "\"\"\""
      ],
      "metadata": {
        "colab": {
          "base_uri": "https://localhost:8080/",
          "height": 36
        },
        "id": "1msVHEFIs166",
        "outputId": "266b3d79-92ce-4880-97d8-b0f984dcee97"
      },
      "execution_count": null,
      "outputs": [
        {
          "output_type": "execute_result",
          "data": {
            "text/plain": [
              "\" diffrence between remove and discard is:\\nif we pass an element doesn't exist in the set the reomve will cause an error while discard will return nothing \\n\""
            ],
            "application/vnd.google.colaboratory.intrinsic+json": {
              "type": "string"
            }
          },
          "metadata": {},
          "execution_count": 45
        }
      ]
    },
    {
      "cell_type": "code",
      "source": [
        "s1.remove(10)"
      ],
      "metadata": {
        "colab": {
          "base_uri": "https://localhost:8080/",
          "height": 182
        },
        "id": "LdhwowQFtPPZ",
        "outputId": "e00b05ba-a9e7-4153-f8d0-b07d8dc340b5"
      },
      "execution_count": null,
      "outputs": [
        {
          "output_type": "error",
          "ename": "NameError",
          "evalue": "ignored",
          "traceback": [
            "\u001b[0;31m---------------------------------------------------------------------------\u001b[0m",
            "\u001b[0;31mNameError\u001b[0m                                 Traceback (most recent call last)",
            "\u001b[0;32m<ipython-input-1-787c050b4d4e>\u001b[0m in \u001b[0;36m<cell line: 1>\u001b[0;34m()\u001b[0m\n\u001b[0;32m----> 1\u001b[0;31m \u001b[0ms1\u001b[0m\u001b[0;34m.\u001b[0m\u001b[0mremove\u001b[0m\u001b[0;34m(\u001b[0m\u001b[0;36m10\u001b[0m\u001b[0;34m)\u001b[0m\u001b[0;34m\u001b[0m\u001b[0;34m\u001b[0m\u001b[0m\n\u001b[0m",
            "\u001b[0;31mNameError\u001b[0m: name 's1' is not defined"
          ]
        }
      ]
    },
    {
      "cell_type": "code",
      "source": [
        "s1.discard(10)"
      ],
      "metadata": {
        "id": "Q5YtxvUatRfj"
      },
      "execution_count": null,
      "outputs": []
    },
    {
      "cell_type": "code",
      "source": [
        "s1.clear()"
      ],
      "metadata": {
        "id": "6LVvulyLtYEJ"
      },
      "execution_count": null,
      "outputs": []
    },
    {
      "cell_type": "code",
      "source": [
        "s1"
      ],
      "metadata": {
        "colab": {
          "base_uri": "https://localhost:8080/"
        },
        "id": "UkZNm0sOtcDp",
        "outputId": "db44bcab-bab2-40ae-fba4-8fa2840f8d16"
      },
      "execution_count": null,
      "outputs": [
        {
          "output_type": "execute_result",
          "data": {
            "text/plain": [
              "set()"
            ]
          },
          "metadata": {},
          "execution_count": 49
        }
      ]
    },
    {
      "cell_type": "code",
      "source": [
        "a = {'name': 'John', 'age': 30}\n",
        "b = a.items()"
      ],
      "metadata": {
        "id": "L1rkicI-tcgZ"
      },
      "execution_count": null,
      "outputs": []
    },
    {
      "cell_type": "code",
      "source": [
        "print(b)"
      ],
      "metadata": {
        "colab": {
          "base_uri": "https://localhost:8080/"
        },
        "id": "N6T1mm3duUoh",
        "outputId": "c01dd65b-969d-49b6-ad02-43b1f1787ed8"
      },
      "execution_count": null,
      "outputs": [
        {
          "output_type": "stream",
          "name": "stdout",
          "text": [
            "dict_items([('name', 'John'), ('age', 30)])\n"
          ]
        }
      ]
    },
    {
      "cell_type": "code",
      "source": [
        "a = {'name': 'John', 'age': 30}\n",
        "b = a.items()\n",
        "a['gender'] = 'Male'\n",
        "print(list(b))"
      ],
      "metadata": {
        "colab": {
          "base_uri": "https://localhost:8080/"
        },
        "id": "teH-zbRAvtwa",
        "outputId": "42ff9505-95a6-411d-83e3-f7a43d2fe349"
      },
      "execution_count": null,
      "outputs": [
        {
          "output_type": "stream",
          "name": "stdout",
          "text": [
            "[('name', 'John'), ('age', 30), ('gender', 'Male')]\n"
          ]
        }
      ]
    },
    {
      "cell_type": "code",
      "source": [],
      "metadata": {
        "id": "Dnw8S-g7v0Ai"
      },
      "execution_count": null,
      "outputs": []
    },
    {
      "cell_type": "markdown",
      "source": [
        "# book"
      ],
      "metadata": {
        "id": "5AKatMIINqus"
      }
    },
    {
      "cell_type": "code",
      "source": [
        "%matplotlib inline\n",
        "import matplotlib.pyplot as plt\n",
        "import seaborn as sns; sns.set()\n",
        "import numpy as np\n",
        "import pandas as pd"
      ],
      "metadata": {
        "id": "wSrq6kJAGHLO"
      },
      "execution_count": null,
      "outputs": []
    },
    {
      "cell_type": "code",
      "source": [
        "rng = np.random.RandomState(1)\n",
        "x = 10 * rng.rand(50)\n",
        "y = 2 * x - 5 + rng.randn(50)\n",
        "plt.scatter(x, y);"
      ],
      "metadata": {
        "colab": {
          "base_uri": "https://localhost:8080/",
          "height": 452
        },
        "id": "tjoCWaJyGIZn",
        "outputId": "e12c8825-c0e5-499a-b6af-8790f4b2af13"
      },
      "execution_count": null,
      "outputs": [
        {
          "output_type": "stream",
          "name": "stdout",
          "text": [
            "50\n"
          ]
        },
        {
          "output_type": "display_data",
          "data": {
            "text/plain": [
              "<Figure size 640x480 with 1 Axes>"
            ],
            "image/png": "[encoded data removed]"
          },
          "metadata": {}
        }
      ]
    },
    {
      "cell_type": "code",
      "source": [
        "from sklearn.linear_model import LinearRegression\n",
        "model = LinearRegression(fit_intercept=True)\n",
        "\n",
        "model.fit(x[:, np.newaxis], y)\n",
        "\n",
        "xfit = np.linspace(0, 10, 1000)\n",
        "yfit = model.predict(xfit[:, np.newaxis])\n",
        "\n",
        "plt.scatter(x, y)\n",
        "plt.plot(xfit, yfit);"
      ],
      "metadata": {
        "colab": {
          "base_uri": "https://localhost:8080/",
          "height": 452
        },
        "id": "xVNoSMroGNQt",
        "outputId": "434548f3-348b-469c-90a4-0cd2568d01ee"
      },
      "execution_count": null,
      "outputs": [
        {
          "output_type": "stream",
          "name": "stdout",
          "text": [
            "1000\n"
          ]
        },
        {
          "output_type": "display_data",
          "data": {
            "text/plain": [
              "<Figure size 640x480 with 1 Axes>"
            ],
            "image/png": "[encoded data removed]"
          },
          "metadata": {}
        }
      ]
    },
    {
      "cell_type": "code",
      "source": [
        "from sklearn.preprocessing import PolynomialFeatures\n",
        "x = np.array([2, 3, 4]).reshape(-1, 1)\n",
        "poly = PolynomialFeatures(3, include_bias=False)\n",
        "poly.fit_transform(x)"
      ],
      "metadata": {
        "colab": {
          "base_uri": "https://localhost:8080/"
        },
        "id": "Ha2nJPqdEnx3",
        "outputId": "f4314747-cf68-40b6-c70b-bce826604761"
      },
      "execution_count": null,
      "outputs": [
        {
          "output_type": "execute_result",
          "data": {
            "text/plain": [
              "array([[ 2.,  4.,  8.],\n",
              "       [ 3.,  9., 27.],\n",
              "       [ 4., 16., 64.]])"
            ]
          },
          "metadata": {},
          "execution_count": 22
        }
      ]
    },
    {
      "cell_type": "code",
      "source": [
        "from sklearn.pipeline import make_pipeline\n",
        "poly_model = make_pipeline(PolynomialFeatures(7),\n",
        "                           LinearRegression())"
      ],
      "metadata": {
        "id": "4f8QyswAwjYp"
      },
      "execution_count": null,
      "outputs": []
    },
    {
      "cell_type": "code",
      "source": [
        "rng = np.random.RandomState(1)\n",
        "x = 10 * rng.rand(50)\n",
        "y = np.sin(x) + 0.1 * rng.randn(50)\n",
        "\n",
        "poly_model.fit(x[:, np.newaxis], y)\n",
        "yfit = poly_model.predict(xfit[:, np.newaxis])\n",
        "\n",
        "plt.scatter(x,y)\n",
        "plt.plot(xfit, yfit);"
      ],
      "metadata": {
        "colab": {
          "base_uri": "https://localhost:8080/",
          "height": 434
        },
        "id": "qK0DQedfFlpY",
        "outputId": "732ed97c-ba59-40dd-98b0-02dbfbd4532f"
      },
      "execution_count": null,
      "outputs": [
        {
          "output_type": "display_data",
          "data": {
            "text/plain": [
              "<Figure size 640x480 with 1 Axes>"
            ],
            "image/png": "[encoded data removed]"
          },
          "metadata": {}
        }
      ]
    },
    {
      "cell_type": "code",
      "source": [],
      "metadata": {
        "id": "fXW4nD9LQt39",
        "colab": {
          "base_uri": "https://localhost:8080/"
        },
        "outputId": "51e4b462-d052-44b9-c71c-378440517a1c"
      },
      "execution_count": null,
      "outputs": [
        {
          "output_type": "stream",
          "name": "stdout",
          "text": [
            "A\n",
            "B\n"
          ]
        }
      ]
    },
    {
      "cell_type": "code",
      "source": [],
      "metadata": {
        "colab": {
          "base_uri": "https://localhost:8080/"
        },
        "id": "mEXPe61fJb7o",
        "outputId": "e75ac65e-17ce-4a6e-9b1f-b2d83910ddd2"
      },
      "execution_count": null,
      "outputs": [
        {
          "output_type": "stream",
          "name": "stdout",
          "text": [
            "item1\n",
            "item2\n",
            "item3\n"
          ]
        }
      ]
    },
    {
      "cell_type": "code",
      "source": [],
      "metadata": {
        "id": "89YQHC5CJj3m"
      },
      "execution_count": null,
      "outputs": []
    },
    {
      "cell_type": "markdown",
      "source": [
        "# Condition"
      ],
      "metadata": {
        "id": "LFvoWwUywg6s"
      }
    },
    {
      "cell_type": "code",
      "source": [
        "import random"
      ],
      "metadata": {
        "id": "xTyGH86XNwuj"
      },
      "execution_count": null,
      "outputs": []
    },
    {
      "cell_type": "code",
      "source": [
        "actual = random.randint(0, 100)"
      ],
      "metadata": {
        "id": "YAKoLQv6N5kz"
      },
      "execution_count": null,
      "outputs": []
    },
    {
      "cell_type": "code",
      "source": [
        "actual"
      ],
      "metadata": {
        "colab": {
          "base_uri": "https://localhost:8080/"
        },
        "id": "IMx-v3tZN9qL",
        "outputId": "605859f7-d239-425c-8194-d56a766f9315"
      },
      "execution_count": null,
      "outputs": [
        {
          "output_type": "execute_result",
          "data": {
            "text/plain": [
              "82"
            ]
          },
          "metadata": {},
          "execution_count": 11
        }
      ]
    },
    {
      "cell_type": "code",
      "source": [
        "guesses = []\n",
        "while True:\n",
        "  try:\n",
        "    guess = int(input(\"enter guess: \"))\n",
        "  except ValueError:\n",
        "    print(\"plz enter a number\")\n",
        "    continue\n",
        "\n",
        "  if (guess > 100) or (guess < 0):\n",
        "    print('enter from 0 to 100')\n",
        "    guesses.append(guess)\n",
        "    continue\n",
        "\n",
        "  if guess == actual:\n",
        "    print('correct in ', len(guesses), 'times')\n",
        "    guesses.append(guess)\n",
        "    break\n",
        "\n",
        "  elif len(guesses) <= 0:\n",
        "    print(\"first guess keep going\")\n",
        "    guesses.append(guess)\n",
        "\n",
        "  elif abs(guess - actual) > abs(guesses[-1] - actual):\n",
        "    print(\"you are getting further\")\n",
        "    guesses.append(guess)\n",
        "\n",
        "  else:\n",
        "    print('you are getting closer')\n",
        "    guesses.append(guess)"
      ],
      "metadata": {
        "colab": {
          "base_uri": "https://localhost:8080/",
          "height": 427
        },
        "id": "p4uvr_b0OG1q",
        "outputId": "31d4d076-0d2e-4300-a1eb-d1da9f370799"
      },
      "execution_count": null,
      "outputs": [
        {
          "metadata": {
            "tags": null
          },
          "name": "stdout",
          "output_type": "stream",
          "text": [
            "plz enter a number\n"
          ]
        },
        {
          "output_type": "error",
          "ename": "KeyboardInterrupt",
          "evalue": "ignored",
          "traceback": [
            "\u001b[0;31m---------------------------------------------------------------------------\u001b[0m",
            "\u001b[0;31mKeyboardInterrupt\u001b[0m                         Traceback (most recent call last)",
            "\u001b[0;32m<ipython-input-18-04f2705c51b5>\u001b[0m in \u001b[0;36m<cell line: 2>\u001b[0;34m()\u001b[0m\n\u001b[1;32m      2\u001b[0m \u001b[0;32mwhile\u001b[0m \u001b[0;32mTrue\u001b[0m\u001b[0;34m:\u001b[0m\u001b[0;34m\u001b[0m\u001b[0;34m\u001b[0m\u001b[0m\n\u001b[1;32m      3\u001b[0m   \u001b[0;32mtry\u001b[0m\u001b[0;34m:\u001b[0m\u001b[0;34m\u001b[0m\u001b[0;34m\u001b[0m\u001b[0m\n\u001b[0;32m----> 4\u001b[0;31m     \u001b[0mguess\u001b[0m \u001b[0;34m=\u001b[0m \u001b[0mint\u001b[0m\u001b[0;34m(\u001b[0m\u001b[0minput\u001b[0m\u001b[0;34m(\u001b[0m\u001b[0;34m\"enter guess: \"\u001b[0m\u001b[0;34m)\u001b[0m\u001b[0;34m)\u001b[0m\u001b[0;34m\u001b[0m\u001b[0;34m\u001b[0m\u001b[0m\n\u001b[0m\u001b[1;32m      5\u001b[0m   \u001b[0;32mexcept\u001b[0m \u001b[0mValueError\u001b[0m\u001b[0;34m:\u001b[0m\u001b[0;34m\u001b[0m\u001b[0;34m\u001b[0m\u001b[0m\n\u001b[1;32m      6\u001b[0m     \u001b[0mprint\u001b[0m\u001b[0;34m(\u001b[0m\u001b[0;34m\"plz enter a number\"\u001b[0m\u001b[0;34m)\u001b[0m\u001b[0;34m\u001b[0m\u001b[0;34m\u001b[0m\u001b[0m\n",
            "\u001b[0;32m/usr/local/lib/python3.10/dist-packages/ipykernel/kernelbase.py\u001b[0m in \u001b[0;36mraw_input\u001b[0;34m(self, prompt)\u001b[0m\n\u001b[1;32m    849\u001b[0m                 \u001b[0;34m\"raw_input was called, but this frontend does not support input requests.\"\u001b[0m\u001b[0;34m\u001b[0m\u001b[0;34m\u001b[0m\u001b[0m\n\u001b[1;32m    850\u001b[0m             )\n\u001b[0;32m--> 851\u001b[0;31m         return self._input_request(str(prompt),\n\u001b[0m\u001b[1;32m    852\u001b[0m             \u001b[0mself\u001b[0m\u001b[0;34m.\u001b[0m\u001b[0m_parent_ident\u001b[0m\u001b[0;34m,\u001b[0m\u001b[0;34m\u001b[0m\u001b[0;34m\u001b[0m\u001b[0m\n\u001b[1;32m    853\u001b[0m             \u001b[0mself\u001b[0m\u001b[0;34m.\u001b[0m\u001b[0m_parent_header\u001b[0m\u001b[0;34m,\u001b[0m\u001b[0;34m\u001b[0m\u001b[0;34m\u001b[0m\u001b[0m\n",
            "\u001b[0;32m/usr/local/lib/python3.10/dist-packages/ipykernel/kernelbase.py\u001b[0m in \u001b[0;36m_input_request\u001b[0;34m(self, prompt, ident, parent, password)\u001b[0m\n\u001b[1;32m    893\u001b[0m             \u001b[0;32mexcept\u001b[0m \u001b[0mKeyboardInterrupt\u001b[0m\u001b[0;34m:\u001b[0m\u001b[0;34m\u001b[0m\u001b[0;34m\u001b[0m\u001b[0m\n\u001b[1;32m    894\u001b[0m                 \u001b[0;31m# re-raise KeyboardInterrupt, to truncate traceback\u001b[0m\u001b[0;34m\u001b[0m\u001b[0;34m\u001b[0m\u001b[0m\n\u001b[0;32m--> 895\u001b[0;31m                 \u001b[0;32mraise\u001b[0m \u001b[0mKeyboardInterrupt\u001b[0m\u001b[0;34m(\u001b[0m\u001b[0;34m\"Interrupted by user\"\u001b[0m\u001b[0;34m)\u001b[0m \u001b[0;32mfrom\u001b[0m \u001b[0;32mNone\u001b[0m\u001b[0;34m\u001b[0m\u001b[0;34m\u001b[0m\u001b[0m\n\u001b[0m\u001b[1;32m    896\u001b[0m             \u001b[0;32mexcept\u001b[0m \u001b[0mException\u001b[0m \u001b[0;32mas\u001b[0m \u001b[0me\u001b[0m\u001b[0;34m:\u001b[0m\u001b[0;34m\u001b[0m\u001b[0;34m\u001b[0m\u001b[0m\n\u001b[1;32m    897\u001b[0m                 \u001b[0mself\u001b[0m\u001b[0;34m.\u001b[0m\u001b[0mlog\u001b[0m\u001b[0;34m.\u001b[0m\u001b[0mwarning\u001b[0m\u001b[0;34m(\u001b[0m\u001b[0;34m\"Invalid Message:\"\u001b[0m\u001b[0;34m,\u001b[0m \u001b[0mexc_info\u001b[0m\u001b[0;34m=\u001b[0m\u001b[0;32mTrue\u001b[0m\u001b[0;34m)\u001b[0m\u001b[0;34m\u001b[0m\u001b[0;34m\u001b[0m\u001b[0m\n",
            "\u001b[0;31mKeyboardInterrupt\u001b[0m: Interrupted by user"
          ]
        }
      ]
    },
    {
      "cell_type": "markdown",
      "source": [
        "# Functions"
      ],
      "metadata": {
        "id": "VuBxXshDmcB_"
      }
    },
    {
      "cell_type": "code",
      "source": [
        "# args\n",
        "def greeting(**args):\n",
        "  print(args['name'], args['age'])"
      ],
      "metadata": {
        "id": "41fGgD9sPY2-"
      },
      "execution_count": null,
      "outputs": []
    },
    {
      "cell_type": "code",
      "source": [
        "greeting(name='ahmed', age=10)"
      ],
      "metadata": {
        "colab": {
          "base_uri": "https://localhost:8080/"
        },
        "id": "A8YO0wgwWpPi",
        "outputId": "4c5476e4-88be-4858-a02c-ddb45c518c7b"
      },
      "execution_count": null,
      "outputs": [
        {
          "output_type": "stream",
          "name": "stdout",
          "text": [
            "ahmed 10\n"
          ]
        }
      ]
    },
    {
      "cell_type": "code",
      "source": [
        "# lambda\n",
        "def enlarge(n):\n",
        "  return lambda a: a*n"
      ],
      "metadata": {
        "id": "8p_JDGKBjrZk"
      },
      "execution_count": null,
      "outputs": []
    },
    {
      "cell_type": "code",
      "source": [
        "triple_enlarge = enlarge(2)"
      ],
      "metadata": {
        "id": "EmV1p12djwQ5"
      },
      "execution_count": null,
      "outputs": []
    },
    {
      "cell_type": "code",
      "source": [
        "print(triple_enlarge(3))"
      ],
      "metadata": {
        "colab": {
          "base_uri": "https://localhost:8080/"
        },
        "id": "rQI9QRzej54t",
        "outputId": "a5e069ae-231c-431c-aff2-2b7872b22d47"
      },
      "execution_count": null,
      "outputs": [
        {
          "output_type": "stream",
          "name": "stdout",
          "text": [
            "6\n"
          ]
        }
      ]
    },
    {
      "cell_type": "code",
      "source": [
        "print(enlarge(2)(3))"
      ],
      "metadata": {
        "colab": {
          "base_uri": "https://localhost:8080/"
        },
        "id": "YCsN6qQ2j_o9",
        "outputId": "b351770d-899c-4508-89fa-2a0c266ef448"
      },
      "execution_count": null,
      "outputs": [
        {
          "output_type": "stream",
          "name": "stdout",
          "text": [
            "6\n"
          ]
        }
      ]
    },
    {
      "cell_type": "code",
      "source": [],
      "metadata": {
        "id": "BR3FU5iJkFnl"
      },
      "execution_count": null,
      "outputs": []
    },
    {
      "cell_type": "code",
      "source": [
        "# map\n",
        "a = [1, 2, 3]\n",
        "b = [4, 5, 6]\n",
        "c = [7, 8, 9]\n",
        "\n",
        "list(map(lambda x,y,z : x+y+z, a,b,c))"
      ],
      "metadata": {
        "colab": {
          "base_uri": "https://localhost:8080/"
        },
        "id": "GNX03SKplM9N",
        "outputId": "a0c0992a-d083-4708-9791-5f40d561a494"
      },
      "execution_count": null,
      "outputs": [
        {
          "output_type": "execute_result",
          "data": {
            "text/plain": [
              "[12, 15, 18]"
            ]
          },
          "metadata": {},
          "execution_count": 35
        }
      ]
    },
    {
      "cell_type": "code",
      "source": [
        "# reduce\n",
        "lst = [10, 20, 30, 40]\n",
        "\n",
        "from functools import reduce\n",
        "\n",
        "reduce(lambda a,b: 3*a + b, lst)"
      ],
      "metadata": {
        "colab": {
          "base_uri": "https://localhost:8080/"
        },
        "id": "gPl6Qkj4lTp4",
        "outputId": "8278c70c-91d3-4837-bd49-d02365f75aff"
      },
      "execution_count": null,
      "outputs": [
        {
          "output_type": "execute_result",
          "data": {
            "text/plain": [
              "580"
            ]
          },
          "metadata": {},
          "execution_count": 3
        }
      ]
    },
    {
      "cell_type": "code",
      "source": [
        "# filter\n",
        "lst = [10, 15, 20, 25]\n",
        "list(filter(lambda x: x%2 == 0, lst))"
      ],
      "metadata": {
        "colab": {
          "base_uri": "https://localhost:8080/"
        },
        "id": "wTghHJJNmKbe",
        "outputId": "eb571c66-9b10-47b4-ead7-662fc2ee053b"
      },
      "execution_count": null,
      "outputs": [
        {
          "output_type": "execute_result",
          "data": {
            "text/plain": [
              "[10, 20]"
            ]
          },
          "metadata": {},
          "execution_count": 38
        }
      ]
    },
    {
      "cell_type": "code",
      "source": [
        "\n",
        "def find_max(numbers):\n",
        "    return reduce(lambda x, y: x if x > y else y, numbers)\n",
        "\n",
        "result = find_max([3, 5, 1, 7, 2])\n",
        "print(result)"
      ],
      "metadata": {
        "id": "T3YInN9CnWqb",
        "colab": {
          "base_uri": "https://localhost:8080/"
        },
        "outputId": "cb571dde-2348-40ce-998d-f0ed2b570b54"
      },
      "execution_count": null,
      "outputs": [
        {
          "output_type": "stream",
          "name": "stdout",
          "text": [
            "7\n"
          ]
        }
      ]
    },
    {
      "cell_type": "markdown",
      "source": [
        "# Files"
      ],
      "metadata": {
        "id": "lFNRtV9FhGAC"
      }
    },
    {
      "cell_type": "code",
      "source": [
        "# create a txt file and write in it\n",
        "%%writefile test.txt\n",
        "my name is ahmed\n",
        "i am 18 years old"
      ],
      "metadata": {
        "colab": {
          "base_uri": "https://localhost:8080/"
        },
        "id": "TsvTEKjDhHko",
        "outputId": "34334616-1632-47a6-e05a-47ecd1dbe7b0"
      },
      "execution_count": null,
      "outputs": [
        {
          "output_type": "stream",
          "name": "stdout",
          "text": [
            "Overwriting test.txt\n"
          ]
        }
      ]
    },
    {
      "cell_type": "code",
      "source": [
        "file = open('test.txt')"
      ],
      "metadata": {
        "id": "JvCis_UchVi8"
      },
      "execution_count": null,
      "outputs": []
    },
    {
      "cell_type": "code",
      "source": [
        "file.read()"
      ],
      "metadata": {
        "colab": {
          "base_uri": "https://localhost:8080/",
          "height": 36
        },
        "id": "wPVApCx2hZN1",
        "outputId": "daf615a0-4c50-4094-ed8d-ceab2400b4ac"
      },
      "execution_count": null,
      "outputs": [
        {
          "output_type": "execute_result",
          "data": {
            "text/plain": [
              "'my name is ahmed \\ni am 18 years old\\n'"
            ],
            "application/vnd.google.colaboratory.intrinsic+json": {
              "type": "string"
            }
          },
          "metadata": {},
          "execution_count": 7
        }
      ]
    },
    {
      "cell_type": "code",
      "source": [
        "# return the cursor to the first index of the file\n",
        "file.seek(0)"
      ],
      "metadata": {
        "colab": {
          "base_uri": "https://localhost:8080/"
        },
        "id": "4UwZvHs3hdvn",
        "outputId": "0189b34a-d2d5-4110-cd1f-742ca208e0de"
      },
      "execution_count": null,
      "outputs": [
        {
          "output_type": "execute_result",
          "data": {
            "text/plain": [
              "0"
            ]
          },
          "metadata": {},
          "execution_count": 8
        }
      ]
    },
    {
      "cell_type": "code",
      "source": [
        "file.readlines()"
      ],
      "metadata": {
        "colab": {
          "base_uri": "https://localhost:8080/"
        },
        "id": "roOfP2lThtJY",
        "outputId": "88846f67-17df-4b2c-e9fb-45ec17e0df52"
      },
      "execution_count": null,
      "outputs": [
        {
          "output_type": "execute_result",
          "data": {
            "text/plain": [
              "['my name is ahmed \\n', 'i am 18 years old\\n']"
            ]
          },
          "metadata": {},
          "execution_count": 9
        }
      ]
    },
    {
      "cell_type": "code",
      "source": [
        "# to write in the file. this override the existing text >> w\n",
        "file = open('test.txt', 'w')"
      ],
      "metadata": {
        "id": "gYUfN2UbhuwX"
      },
      "execution_count": null,
      "outputs": []
    },
    {
      "cell_type": "code",
      "source": [
        "file.write(\"i am writing...\")"
      ],
      "metadata": {
        "colab": {
          "base_uri": "https://localhost:8080/"
        },
        "id": "0Mtybh0uiMPA",
        "outputId": "d6633a6b-5c62-49cb-8c1d-d7e888feb218"
      },
      "execution_count": null,
      "outputs": [
        {
          "output_type": "execute_result",
          "data": {
            "text/plain": [
              "15"
            ]
          },
          "metadata": {},
          "execution_count": 11
        }
      ]
    },
    {
      "cell_type": "code",
      "source": [
        "file.read()"
      ],
      "metadata": {
        "colab": {
          "base_uri": "https://localhost:8080/",
          "height": 182
        },
        "id": "oyb5H6mGiNWx",
        "outputId": "f8086ca6-59f1-456a-8457-6ca005546ead"
      },
      "execution_count": null,
      "outputs": [
        {
          "output_type": "error",
          "ename": "UnsupportedOperation",
          "evalue": "ignored",
          "traceback": [
            "\u001b[0;31m---------------------------------------------------------------------------\u001b[0m",
            "\u001b[0;31mUnsupportedOperation\u001b[0m                      Traceback (most recent call last)",
            "\u001b[0;32m<ipython-input-12-f3fc120c03c1>\u001b[0m in \u001b[0;36m<cell line: 1>\u001b[0;34m()\u001b[0m\n\u001b[0;32m----> 1\u001b[0;31m \u001b[0mfile\u001b[0m\u001b[0;34m.\u001b[0m\u001b[0mread\u001b[0m\u001b[0;34m(\u001b[0m\u001b[0;34m)\u001b[0m\u001b[0;34m\u001b[0m\u001b[0;34m\u001b[0m\u001b[0m\n\u001b[0m",
            "\u001b[0;31mUnsupportedOperation\u001b[0m: not readable"
          ]
        }
      ]
    },
    {
      "cell_type": "code",
      "source": [
        "# to write and read in the same time>> w+\n",
        "file = open('test.txt', 'w+')"
      ],
      "metadata": {
        "id": "E4dUwXK9iPdg"
      },
      "execution_count": null,
      "outputs": []
    },
    {
      "cell_type": "code",
      "source": [
        "file.write(\"hello write and reading\")"
      ],
      "metadata": {
        "colab": {
          "base_uri": "https://localhost:8080/"
        },
        "id": "25JOon-Biojy",
        "outputId": "703fb8dd-15f3-40e2-d0aa-390801e63851"
      },
      "execution_count": null,
      "outputs": [
        {
          "output_type": "execute_result",
          "data": {
            "text/plain": [
              "23"
            ]
          },
          "metadata": {},
          "execution_count": 15
        }
      ]
    },
    {
      "cell_type": "code",
      "source": [
        "file.seek(0)"
      ],
      "metadata": {
        "colab": {
          "base_uri": "https://localhost:8080/"
        },
        "id": "9F2Ah7x1iytP",
        "outputId": "62efdba5-7e82-4b9a-b953-608cec4b1593"
      },
      "execution_count": null,
      "outputs": [
        {
          "output_type": "execute_result",
          "data": {
            "text/plain": [
              "0"
            ]
          },
          "metadata": {},
          "execution_count": 17
        }
      ]
    },
    {
      "cell_type": "code",
      "source": [
        "file.read()"
      ],
      "metadata": {
        "colab": {
          "base_uri": "https://localhost:8080/",
          "height": 36
        },
        "id": "Gb3SRVKMiv1z",
        "outputId": "0099c2bb-cc07-4a67-f757-d15425fd5b62"
      },
      "execution_count": null,
      "outputs": [
        {
          "output_type": "execute_result",
          "data": {
            "text/plain": [
              "'hello write and reading'"
            ],
            "application/vnd.google.colaboratory.intrinsic+json": {
              "type": "string"
            }
          },
          "metadata": {},
          "execution_count": 18
        }
      ]
    },
    {
      "cell_type": "code",
      "source": [
        "# to append text to the extisting text and read >> a+\n",
        "file = open('test.txt', 'a+')"
      ],
      "metadata": {
        "id": "WAGVdoxeiw7o"
      },
      "execution_count": null,
      "outputs": []
    },
    {
      "cell_type": "code",
      "source": [
        "file.write(\"hello appended text to the existing\")"
      ],
      "metadata": {
        "colab": {
          "base_uri": "https://localhost:8080/"
        },
        "id": "PfVAw6mQjMd6",
        "outputId": "e44e23fb-6408-4f99-ecd6-4461d24ad76c"
      },
      "execution_count": null,
      "outputs": [
        {
          "output_type": "execute_result",
          "data": {
            "text/plain": [
              "35"
            ]
          },
          "metadata": {},
          "execution_count": 20
        }
      ]
    },
    {
      "cell_type": "code",
      "source": [
        "file.seek(0)"
      ],
      "metadata": {
        "colab": {
          "base_uri": "https://localhost:8080/"
        },
        "id": "r6L6cqUgjSxN",
        "outputId": "5da99415-6f26-4c48-ac08-08ec6862330e"
      },
      "execution_count": null,
      "outputs": [
        {
          "output_type": "execute_result",
          "data": {
            "text/plain": [
              "0"
            ]
          },
          "metadata": {},
          "execution_count": 21
        }
      ]
    },
    {
      "cell_type": "code",
      "source": [
        "file.read()"
      ],
      "metadata": {
        "colab": {
          "base_uri": "https://localhost:8080/",
          "height": 36
        },
        "id": "H_Z8dBIjjUPA",
        "outputId": "acb1d746-ba18-499c-d856-7a3488d07a9f"
      },
      "execution_count": null,
      "outputs": [
        {
          "output_type": "execute_result",
          "data": {
            "text/plain": [
              "'hello write and readinghello appended text to the existing'"
            ],
            "application/vnd.google.colaboratory.intrinsic+json": {
              "type": "string"
            }
          },
          "metadata": {},
          "execution_count": 22
        }
      ]
    },
    {
      "cell_type": "code",
      "source": [
        "file.close()"
      ],
      "metadata": {
        "id": "Jp3-jkCyjVWa"
      },
      "execution_count": null,
      "outputs": []
    },
    {
      "cell_type": "code",
      "source": [
        "file = open('test.txt')"
      ],
      "metadata": {
        "id": "IlM7dNhbjZh4"
      },
      "execution_count": null,
      "outputs": []
    },
    {
      "cell_type": "code",
      "source": [
        "for line in file.readlines():\n",
        "  print(line.split())"
      ],
      "metadata": {
        "id": "lsKWzV_Sjiv6",
        "outputId": "1c3b9988-0182-47ad-cd19-548b84ba9372",
        "colab": {
          "base_uri": "https://localhost:8080/"
        }
      },
      "execution_count": null,
      "outputs": [
        {
          "output_type": "stream",
          "name": "stdout",
          "text": [
            "['hello', 'write', 'and', 'readinghello', 'appended', 'text', 'to', 'the', 'existing']\n"
          ]
        }
      ]
    },
    {
      "cell_type": "markdown",
      "source": [
        "# Errors"
      ],
      "metadata": {
        "id": "EMmB6o-Roh9Y"
      }
    },
    {
      "cell_type": "code",
      "source": [
        "while True:\n",
        "  try:\n",
        "    num = int(input('enter a num: '))\n",
        "    y = 6 / num\n",
        "  except ZeroDivisionError:\n",
        "    print(\"not a 0\")\n",
        "  except ValueError:\n",
        "    print(\"a number\")\n",
        "  else:\n",
        "    print(y)\n",
        "    break\n",
        "  finally:\n",
        "    print(\"ok\")"
      ],
      "metadata": {
        "id": "AmbWya1vjnaV",
        "colab": {
          "base_uri": "https://localhost:8080/"
        },
        "outputId": "2de899e7-7318-4ca9-e25d-537d906b94a2"
      },
      "execution_count": null,
      "outputs": [
        {
          "output_type": "stream",
          "name": "stdout",
          "text": [
            "enter a num: 0\n",
            "not a 0\n",
            "ok\n",
            "enter a num: 0\n",
            "not a 0\n",
            "ok\n",
            "enter a num: dd\n",
            "a number\n",
            "ok\n",
            "enter a num: 2\n",
            "3.0\n",
            "ok\n"
          ]
        }
      ]
    },
    {
      "cell_type": "markdown",
      "source": [
        "#OOP"
      ],
      "metadata": {
        "id": "uYIdYynzqXBv"
      }
    },
    {
      "cell_type": "code",
      "source": [
        "class chess_peace:\n",
        "  def __init__(self, loc, color):\n",
        "    self.loc = loc\n",
        "    self.__color = color # private\n",
        "    self.dead = False\n",
        "  def move(self):\n",
        "    print('peace moved..')\n",
        "  def eat():\n",
        "    print('eat piece')\n",
        "  def check_available_loc():\n",
        "    pass\n",
        "\n",
        "  # setter and getter for color\n",
        "  def setColor(self, color):\n",
        "    self.__color = color\n",
        "  def getColor(self):\n",
        "    print(f'color is {self.__color}')"
      ],
      "metadata": {
        "id": "edFMWm8go5LQ"
      },
      "execution_count": null,
      "outputs": []
    },
    {
      "cell_type": "code",
      "source": [
        "class horse(chess_peace):\n",
        "  def __init__(self, loc, color):\n",
        "    chess_peace.__init__(self, loc, color)\n",
        "  def move(self):\n",
        "    print(\"L shape\")"
      ],
      "metadata": {
        "id": "YtBACj2ku4cc"
      },
      "execution_count": null,
      "outputs": []
    },
    {
      "cell_type": "code",
      "source": [
        "wh1 = horse(2, 'w')"
      ],
      "metadata": {
        "id": "pLSaRAi2sgXR"
      },
      "execution_count": null,
      "outputs": []
    },
    {
      "cell_type": "code",
      "source": [
        "wh1.getColor()"
      ],
      "metadata": {
        "colab": {
          "base_uri": "https://localhost:8080/"
        },
        "id": "OVVFs2mZvWqR",
        "outputId": "89fd628b-cb0e-457c-c96a-88827591ee9e"
      },
      "execution_count": null,
      "outputs": [
        {
          "output_type": "stream",
          "name": "stdout",
          "text": [
            "color is w\n"
          ]
        }
      ]
    },
    {
      "cell_type": "code",
      "source": [
        "wh1.loc"
      ],
      "metadata": {
        "colab": {
          "base_uri": "https://localhost:8080/"
        },
        "id": "Qz8UsNRavXt5",
        "outputId": "4d1d27b8-496c-4d71-9010-1585429c10a3"
      },
      "execution_count": null,
      "outputs": [
        {
          "output_type": "execute_result",
          "data": {
            "text/plain": [
              "2"
            ]
          },
          "metadata": {},
          "execution_count": 57
        }
      ]
    },
    {
      "cell_type": "code",
      "source": [
        "# change color using setColor\n",
        "wh1.setColor(\"b\")"
      ],
      "metadata": {
        "id": "cLiUEx_vviiM"
      },
      "execution_count": null,
      "outputs": []
    },
    {
      "cell_type": "code",
      "source": [
        "wh1.getColor()"
      ],
      "metadata": {
        "colab": {
          "base_uri": "https://localhost:8080/"
        },
        "id": "rVXjeemgvw7U",
        "outputId": "2e7dc489-33d2-4dfe-dc45-1c5b4fc5fe42"
      },
      "execution_count": null,
      "outputs": [
        {
          "output_type": "stream",
          "name": "stdout",
          "text": [
            "color is b\n"
          ]
        }
      ]
    },
    {
      "cell_type": "code",
      "source": [
        "with open(\"file.txt\", \"w\") as file:\n",
        "    file.write(\"Hello, World!\")\n",
        "\n",
        "with open(\"file.txt\", \"r\") as file:\n",
        "    result = file.read()\n",
        "\n",
        "print(result)"
      ],
      "metadata": {
        "colab": {
          "base_uri": "https://localhost:8080/"
        },
        "id": "3xOgsKZBvyPL",
        "outputId": "87d77d99-5b6f-42fd-8ee6-82ec9551b1b7"
      },
      "execution_count": null,
      "outputs": [
        {
          "output_type": "stream",
          "name": "stdout",
          "text": [
            "Hello, World!\n"
          ]
        }
      ]
    },
    {
      "cell_type": "markdown",
      "source": [
        "# Decorators"
      ],
      "metadata": {
        "id": "E7HtYfjRDVgA"
      }
    },
    {
      "cell_type": "code",
      "source": [
        "def greeting(func):\n",
        "  print('hello ahmed')\n",
        "  func()"
      ],
      "metadata": {
        "id": "xtmK_JIzwwQJ"
      },
      "execution_count": null,
      "outputs": []
    },
    {
      "cell_type": "code",
      "source": [
        "def hello():\n",
        "  print(\"after greeting\")"
      ],
      "metadata": {
        "id": "JQd812MQDcbo"
      },
      "execution_count": null,
      "outputs": []
    },
    {
      "cell_type": "code",
      "source": [
        "greeting(hello)"
      ],
      "metadata": {
        "colab": {
          "base_uri": "https://localhost:8080/"
        },
        "id": "E4DFEqVuDgjJ",
        "outputId": "1b754ae4-5e0d-4546-822d-5ae8ea319241"
      },
      "execution_count": null,
      "outputs": [
        {
          "output_type": "stream",
          "name": "stdout",
          "text": [
            "hello ahmed\n",
            "after greeting\n"
          ]
        }
      ]
    },
    {
      "cell_type": "code",
      "source": [
        "def decorate(func_to_deco):\n",
        "  def deco_greeting():\n",
        "    print('before func')\n",
        "    func_to_deco()\n",
        "    print('after func')\n",
        "  return deco_greeting"
      ],
      "metadata": {
        "id": "Ux6wdxYFDjfD"
      },
      "execution_count": null,
      "outputs": []
    },
    {
      "cell_type": "code",
      "source": [
        "@decorate\n",
        "def hello_ahmed():\n",
        "  print('hello, ahmed')"
      ],
      "metadata": {
        "id": "_KePOLbqEPnM"
      },
      "execution_count": null,
      "outputs": []
    },
    {
      "cell_type": "code",
      "source": [
        "hello_ahmed()"
      ],
      "metadata": {
        "colab": {
          "base_uri": "https://localhost:8080/"
        },
        "id": "YyJcueuiEXyS",
        "outputId": "2c9fbdf8-0e1f-48a6-eb65-b038f5008828"
      },
      "execution_count": null,
      "outputs": [
        {
          "output_type": "stream",
          "name": "stdout",
          "text": [
            "before func\n",
            "hello, ahmed\n",
            "after func\n"
          ]
        }
      ]
    },
    {
      "cell_type": "code",
      "source": [
        "with open(\"file.txt\", \"w\") as file:\n",
        "    file.write(\"Hello, World!\")\n",
        "\n",
        "with open(\"file.txt\", \"r\") as file:\n",
        "    result = file.read()\n",
        "\n",
        "print(result)\n"
      ],
      "metadata": {
        "colab": {
          "base_uri": "https://localhost:8080/"
        },
        "id": "YBqAHLSuEaWu",
        "outputId": "3478f415-0c84-4083-853b-8fb3d295c595"
      },
      "execution_count": null,
      "outputs": [
        {
          "output_type": "stream",
          "name": "stdout",
          "text": [
            "Hello, World!\n"
          ]
        }
      ]
    },
    {
      "cell_type": "code",
      "source": [
        "import time\n",
        "def run_time(func):\n",
        "  def decorate(num):\n",
        "    start = time.time()\n",
        "    res = func(num)\n",
        "    print('time taken: ', time.time() - start)\n",
        "    return res\n",
        "  return decorate"
      ],
      "metadata": {
        "id": "jnJazRRjIyQL"
      },
      "execution_count": null,
      "outputs": []
    },
    {
      "cell_type": "code",
      "source": [
        "@run_time\n",
        "def loop_n_time(num):\n",
        "  for i in range(num):\n",
        "    if i % 1000 == 0:\n",
        "      print(i)"
      ],
      "metadata": {
        "id": "UQLb8fdtWsxZ"
      },
      "execution_count": null,
      "outputs": []
    },
    {
      "cell_type": "code",
      "source": [
        "loop_10000 = loop_n_time(10000)"
      ],
      "metadata": {
        "colab": {
          "base_uri": "https://localhost:8080/"
        },
        "id": "qH5fPV_FW1S4",
        "outputId": "c6811af1-8c80-4373-dd88-f6b0d6bd3257"
      },
      "execution_count": null,
      "outputs": [
        {
          "output_type": "stream",
          "name": "stdout",
          "text": [
            "0\n",
            "1000\n",
            "2000\n",
            "3000\n",
            "4000\n",
            "5000\n",
            "6000\n",
            "7000\n",
            "8000\n",
            "9000\n",
            "time taken:  0.0041751861572265625\n"
          ]
        }
      ]
    },
    {
      "cell_type": "code",
      "source": [
        "def counter(func):\n",
        "  def decorate(num):\n",
        "    decorate.count += 1\n",
        "    res = func(num)\n",
        "    print(func.__name__, decorate.count)\n",
        "    return res\n",
        "  decorate.count = 0\n",
        "  return decorate"
      ],
      "metadata": {
        "id": "mTDKNdx5W51b"
      },
      "execution_count": null,
      "outputs": []
    },
    {
      "cell_type": "code",
      "source": [
        "@counter\n",
        "def loop_n_time(num):\n",
        "  for i in range(num):\n",
        "    if i % 1000 == 0:\n",
        "      print(i)"
      ],
      "metadata": {
        "id": "Lrit_B4DYQTN"
      },
      "execution_count": null,
      "outputs": []
    },
    {
      "cell_type": "code",
      "source": [
        "loop_10000 = loop_n_time(10000)"
      ],
      "metadata": {
        "colab": {
          "base_uri": "https://localhost:8080/"
        },
        "id": "H---1yMkYUAT",
        "outputId": "44d10c42-807b-407d-9440-d3a25eb3cf70"
      },
      "execution_count": null,
      "outputs": [
        {
          "output_type": "stream",
          "name": "stdout",
          "text": [
            "0\n",
            "1000\n",
            "2000\n",
            "3000\n",
            "4000\n",
            "5000\n",
            "6000\n",
            "7000\n",
            "8000\n",
            "9000\n",
            "loop_n_time 1\n"
          ]
        }
      ]
    },
    {
      "cell_type": "code",
      "source": [
        "loop_10000 = loop_n_time(10000)"
      ],
      "metadata": {
        "colab": {
          "base_uri": "https://localhost:8080/"
        },
        "id": "rZGRt8MpYbs0",
        "outputId": "4a413504-9754-4fd4-fa65-d1ec61a54de0"
      },
      "execution_count": null,
      "outputs": [
        {
          "output_type": "stream",
          "name": "stdout",
          "text": [
            "0\n",
            "1000\n",
            "2000\n",
            "3000\n",
            "4000\n",
            "5000\n",
            "6000\n",
            "7000\n",
            "8000\n",
            "9000\n",
            "loop_n_time 3\n"
          ]
        }
      ]
    },
    {
      "cell_type": "markdown",
      "source": [
        "# Packages"
      ],
      "metadata": {
        "id": "-r3lXtPev3Qx"
      }
    },
    {
      "cell_type": "code",
      "source": [
        "import numpy as np"
      ],
      "metadata": {
        "id": "EIiOwCQNv_rs"
      },
      "execution_count": null,
      "outputs": []
    },
    {
      "cell_type": "code",
      "source": [
        "a = np.array([1, 2, 3, 4])"
      ],
      "metadata": {
        "id": "BKphRNpOYc5r"
      },
      "execution_count": null,
      "outputs": []
    },
    {
      "cell_type": "code",
      "source": [
        "a"
      ],
      "metadata": {
        "colab": {
          "base_uri": "https://localhost:8080/"
        },
        "id": "wA0ug-8zv7RV",
        "outputId": "ebd218df-26d0-4216-c31d-f9a442b84ae4"
      },
      "execution_count": null,
      "outputs": [
        {
          "output_type": "execute_result",
          "data": {
            "text/plain": [
              "array([1, 2, 3, 4])"
            ]
          },
          "metadata": {},
          "execution_count": 22
        }
      ]
    },
    {
      "cell_type": "code",
      "source": [
        "a.shape"
      ],
      "metadata": {
        "colab": {
          "base_uri": "https://localhost:8080/"
        },
        "id": "BMPx-czPv-Ck",
        "outputId": "c2a68d54-6905-431c-c294-f9402f364453"
      },
      "execution_count": null,
      "outputs": [
        {
          "output_type": "execute_result",
          "data": {
            "text/plain": [
              "(4,)"
            ]
          },
          "metadata": {},
          "execution_count": 17
        }
      ]
    },
    {
      "cell_type": "code",
      "source": [
        "# add new axis\n",
        "# all values as rows and one col\n",
        "a = a[:, np.newaxis]"
      ],
      "metadata": {
        "id": "hK1hczCtwFE8"
      },
      "execution_count": null,
      "outputs": []
    },
    {
      "cell_type": "code",
      "source": [
        "a"
      ],
      "metadata": {
        "colab": {
          "base_uri": "https://localhost:8080/"
        },
        "id": "OKv3KPgMwTsE",
        "outputId": "8aec3043-b8d7-4544-b6bd-4c18d6d576ee"
      },
      "execution_count": null,
      "outputs": [
        {
          "output_type": "execute_result",
          "data": {
            "text/plain": [
              "array([[1],\n",
              "       [2],\n",
              "       [3],\n",
              "       [4]])"
            ]
          },
          "metadata": {},
          "execution_count": 19
        }
      ]
    },
    {
      "cell_type": "code",
      "source": [
        "a.shape"
      ],
      "metadata": {
        "colab": {
          "base_uri": "https://localhost:8080/"
        },
        "id": "nVPbx3D0wVfs",
        "outputId": "45c8f73a-b59d-4a4c-c498-b9638a502f42"
      },
      "execution_count": null,
      "outputs": [
        {
          "output_type": "execute_result",
          "data": {
            "text/plain": [
              "(4, 1)"
            ]
          },
          "metadata": {},
          "execution_count": 20
        }
      ]
    },
    {
      "cell_type": "code",
      "source": [
        "# add new axis\n",
        "# all values as cols and one row\n",
        "a = a[np.newaxis, :]"
      ],
      "metadata": {
        "id": "Fv9WptW3wZA1"
      },
      "execution_count": null,
      "outputs": []
    },
    {
      "cell_type": "code",
      "source": [
        "a"
      ],
      "metadata": {
        "colab": {
          "base_uri": "https://localhost:8080/"
        },
        "id": "kCrDDlxJwtu9",
        "outputId": "6874d46c-6c63-44f4-d501-6891adfd967c"
      },
      "execution_count": null,
      "outputs": [
        {
          "output_type": "execute_result",
          "data": {
            "text/plain": [
              "array([[1, 2, 3, 4]])"
            ]
          },
          "metadata": {},
          "execution_count": 24
        }
      ]
    },
    {
      "cell_type": "code",
      "source": [
        "a.shape"
      ],
      "metadata": {
        "colab": {
          "base_uri": "https://localhost:8080/"
        },
        "id": "C5T-tBSYwuSi",
        "outputId": "05eec25c-99f1-489f-d022-8f8ea28bd29c"
      },
      "execution_count": null,
      "outputs": [
        {
          "output_type": "execute_result",
          "data": {
            "text/plain": [
              "(1, 4)"
            ]
          },
          "metadata": {},
          "execution_count": 25
        }
      ]
    },
    {
      "cell_type": "code",
      "source": [
        "x = np.random.randint(0, 10, (4,5))"
      ],
      "metadata": {
        "id": "Yy-hYPinw9Yd"
      },
      "execution_count": null,
      "outputs": []
    },
    {
      "cell_type": "code",
      "source": [
        "x"
      ],
      "metadata": {
        "colab": {
          "base_uri": "https://localhost:8080/"
        },
        "id": "KeKTGQdCxWY9",
        "outputId": "122256b4-2e05-4c28-a566-b6ed404c6f2a"
      },
      "execution_count": null,
      "outputs": [
        {
          "output_type": "execute_result",
          "data": {
            "text/plain": [
              "array([[4, 8, 8, 0, 7],\n",
              "       [5, 9, 2, 1, 9],\n",
              "       [8, 6, 7, 0, 0],\n",
              "       [6, 2, 8, 6, 5]])"
            ]
          },
          "metadata": {},
          "execution_count": 27
        }
      ]
    },
    {
      "cell_type": "code",
      "source": [
        "x[x>5]"
      ],
      "metadata": {
        "colab": {
          "base_uri": "https://localhost:8080/"
        },
        "id": "2SA_sf40xWti",
        "outputId": "e90e9424-8943-4a31-d794-923f753afb14"
      },
      "execution_count": null,
      "outputs": [
        {
          "output_type": "execute_result",
          "data": {
            "text/plain": [
              "array([8, 8, 7, 9, 9, 8, 6, 7, 6, 8, 6])"
            ]
          },
          "metadata": {},
          "execution_count": 28
        }
      ]
    },
    {
      "cell_type": "code",
      "source": [
        "x[(x>=5) & (x<=7)]"
      ],
      "metadata": {
        "colab": {
          "base_uri": "https://localhost:8080/"
        },
        "id": "co2IGErzxY1q",
        "outputId": "bf57deed-bde6-4960-8963-95e54cbbb7ba"
      },
      "execution_count": null,
      "outputs": [
        {
          "output_type": "execute_result",
          "data": {
            "text/plain": [
              "array([7, 5, 6, 7, 6, 6, 5])"
            ]
          },
          "metadata": {},
          "execution_count": 29
        }
      ]
    },
    {
      "cell_type": "code",
      "source": [
        "# sort values in each row --> axis=1\n",
        "np.sort(x, axis=1)"
      ],
      "metadata": {
        "colab": {
          "base_uri": "https://localhost:8080/"
        },
        "id": "syw00nROxc8S",
        "outputId": "f4bbb05a-9530-4db6-fceb-cd865ba2b4f9"
      },
      "execution_count": null,
      "outputs": [
        {
          "output_type": "execute_result",
          "data": {
            "text/plain": [
              "array([[0, 4, 7, 8, 8],\n",
              "       [1, 2, 5, 9, 9],\n",
              "       [0, 0, 6, 7, 8],\n",
              "       [2, 5, 6, 6, 8]])"
            ]
          },
          "metadata": {},
          "execution_count": 30
        }
      ]
    },
    {
      "cell_type": "code",
      "source": [
        "# sort values in each col --> axis=0\n",
        "np.sort(x, axis=0)"
      ],
      "metadata": {
        "colab": {
          "base_uri": "https://localhost:8080/"
        },
        "id": "8C2Te5_fxmdT",
        "outputId": "ce20ee42-7c76-4207-c417-2da0221fdbb9"
      },
      "execution_count": null,
      "outputs": [
        {
          "output_type": "execute_result",
          "data": {
            "text/plain": [
              "array([[4, 2, 2, 0, 0],\n",
              "       [5, 6, 7, 0, 5],\n",
              "       [6, 8, 8, 1, 7],\n",
              "       [8, 9, 8, 6, 9]])"
            ]
          },
          "metadata": {},
          "execution_count": 32
        }
      ]
    },
    {
      "cell_type": "code",
      "source": [
        "import pandas as pd"
      ],
      "metadata": {
        "id": "MPMYXTX-xsFK"
      },
      "execution_count": null,
      "outputs": []
    },
    {
      "cell_type": "code",
      "source": [
        "friends = {\"name\":['ahmed', 'ali', 'mohamed'],\n",
        "           'age':[19, 23, 22]}"
      ],
      "metadata": {
        "id": "slTFHBf10aRq"
      },
      "execution_count": null,
      "outputs": []
    },
    {
      "cell_type": "code",
      "source": [
        "df = pd.DataFrame(friends)"
      ],
      "metadata": {
        "id": "Dl-nrDq00oex"
      },
      "execution_count": null,
      "outputs": []
    },
    {
      "cell_type": "code",
      "source": [
        "df"
      ],
      "metadata": {
        "colab": {
          "base_uri": "https://localhost:8080/",
          "height": 721
        },
        "id": "_jYG31JK0sBa",
        "outputId": "cd6f74b0-6f69-4523-d10c-d94deff16bba"
      },
      "execution_count": null,
      "outputs": [
        {
          "output_type": "execute_result",
          "data": {
            "text/plain": [
              "      name  age\n",
              "0    ahmed   19\n",
              "1      ali   23\n",
              "2  mohamed   22"
            ],
            "text/html": [
              "\n",
              "\n",
              "  <div id=\"df-4c798d42-fe71-4cd6-aa33-2536ba65bc8a\">\n",
              "    <div class=\"colab-df-container\">\n",
              "      <div>\n",
              "<style scoped>\n",
              "    .dataframe tbody tr th:only-of-type {\n",
              "        vertical-align: middle;\n",
              "    }\n",
              "\n",
              "    .dataframe tbody tr th {\n",
              "        vertical-align: top;\n",
              "    }\n",
              "\n",
              "    .dataframe thead th {\n",
              "        text-align: right;\n",
              "    }\n",
              "</style>\n",
              "<table border=\"1\" class=\"dataframe\">\n",
              "  <thead>\n",
              "    <tr style=\"text-align: right;\">\n",
              "      <th></th>\n",
              "      <th>name</th>\n",
              "      <th>age</th>\n",
              "    </tr>\n",
              "  </thead>\n",
              "  <tbody>\n",
              "    <tr>\n",
              "      <th>0</th>\n",
              "      <td>ahmed</td>\n",
              "      <td>19</td>\n",
              "    </tr>\n",
              "    <tr>\n",
              "      <th>1</th>\n",
              "      <td>ali</td>\n",
              "      <td>23</td>\n",
              "    </tr>\n",
              "    <tr>\n",
              "      <th>2</th>\n",
              "      <td>mohamed</td>\n",
              "      <td>22</td>\n",
              "    </tr>\n",
              "  </tbody>\n",
              "</table>\n",
              "</div>\n",
              "      <button class=\"colab-df-convert\" onclick=\"convertToInteractive('df-4c798d42-fe71-4cd6-aa33-2536ba65bc8a')\"\n",
              "              title=\"Convert this dataframe to an interactive table.\"\n",
              "              style=\"display:none;\">\n",
              "\n",
              "  <svg xmlns=\"http://www.w3.org/2000/svg\" height=\"24px\"viewBox=\"0 0 24 24\"\n",
              "       width=\"24px\">\n",
              "    <path d=\"M0 0h24v24H0V0z\" fill=\"none\"/>\n",
              "    <path d=\"M18.56 5.44l.94 2.06.94-2.06 2.06-.94-2.06-.94-.94-2.06-.94 2.06-2.06.94zm-11 1L8.5 8.5l.94-2.06 2.06-.94-2.06-.94L8.5 2.5l-.94 2.06-2.06.94zm10 10l.94 2.06.94-2.06 2.06-.94-2.06-.94-.94-2.06-.94 2.06-2.06.94z\"/><path d=\"M17.41 7.96l-1.37-1.37c-.4-.4-.92-.59-1.43-.59-.52 0-1.04.2-1.43.59L10.3 9.45l-7.72 7.72c-.78.78-.78 2.05 0 2.83L4 21.41c.39.39.9.59 1.41.59.51 0 1.02-.2 1.41-.59l7.78-7.78 2.81-2.81c.8-.78.8-2.07 0-2.86zM5.41 20L4 18.59l7.72-7.72 1.47 1.35L5.41 20z\"/>\n",
              "  </svg>\n",
              "      </button>\n",
              "\n",
              "\n",
              "\n",
              "    <div id=\"df-017358fd-d1b6-44f6-850b-27bb68a7f0fc\">\n",
              "      <button class=\"colab-df-quickchart\" onclick=\"quickchart('df-017358fd-d1b6-44f6-850b-27bb68a7f0fc')\"\n",
              "              title=\"Suggest charts.\"\n",
              "              style=\"display:none;\">\n",
              "\n",
              "<svg xmlns=\"http://www.w3.org/2000/svg\" height=\"24px\"viewBox=\"0 0 24 24\"\n",
              "     width=\"24px\">\n",
              "    <g>\n",
              "        <path d=\"M19 3H5c-1.1 0-2 .9-2 2v14c0 1.1.9 2 2 2h14c1.1 0 2-.9 2-2V5c0-1.1-.9-2-2-2zM9 17H7v-7h2v7zm4 0h-2V7h2v10zm4 0h-2v-4h2v4z\"/>\n",
              "    </g>\n",
              "</svg>\n",
              "      </button>\n",
              "    </div>\n",
              "\n",
              "<style>\n",
              "  .colab-df-quickchart {\n",
              "    background-color: #E8F0FE;\n",
              "    border: none;\n",
              "    border-radius: 50%;\n",
              "    cursor: pointer;\n",
              "    display: none;\n",
              "    fill: #1967D2;\n",
              "    height: 32px;\n",
              "    padding: 0 0 0 0;\n",
              "    width: 32px;\n",
              "  }\n",
              "\n",
              "  .colab-df-quickchart:hover {\n",
              "    background-color: #E2EBFA;\n",
              "    box-shadow: 0px 1px 2px rgba(60, 64, 67, 0.3), 0px 1px 3px 1px rgba(60, 64, 67, 0.15);\n",
              "    fill: #174EA6;\n",
              "  }\n",
              "\n",
              "  [theme=dark] .colab-df-quickchart {\n",
              "    background-color: #3B4455;\n",
              "    fill: #D2E3FC;\n",
              "  }\n",
              "\n",
              "  [theme=dark] .colab-df-quickchart:hover {\n",
              "    background-color: #434B5C;\n",
              "    box-shadow: 0px 1px 3px 1px rgba(0, 0, 0, 0.15);\n",
              "    filter: drop-shadow(0px 1px 2px rgba(0, 0, 0, 0.3));\n",
              "    fill: #FFFFFF;\n",
              "  }\n",
              "</style>\n",
              "\n",
              "    <script>\n",
              "      async function quickchart(key) {\n",
              "        const containerElement = document.querySelector('#' + key);\n",
              "        const charts = await google.colab.kernel.invokeFunction(\n",
              "            'suggestCharts', [key], {});\n",
              "      }\n",
              "    </script>\n",
              "\n",
              "      <script>\n",
              "\n",
              "function displayQuickchartButton(domScope) {\n",
              "  let quickchartButtonEl =\n",
              "    domScope.querySelector('#df-017358fd-d1b6-44f6-850b-27bb68a7f0fc button.colab-df-quickchart');\n",
              "  quickchartButtonEl.style.display =\n",
              "    google.colab.kernel.accessAllowed ? 'block' : 'none';\n",
              "}\n",
              "\n",
              "        displayQuickchartButton(document);\n",
              "      </script>\n",
              "      <style>\n",
              "    .colab-df-container {\n",
              "      display:flex;\n",
              "      flex-wrap:wrap;\n",
              "      gap: 12px;\n",
              "    }\n",
              "\n",
              "    .colab-df-convert {\n",
              "      background-color: #E8F0FE;\n",
              "      border: none;\n",
              "      border-radius: 50%;\n",
              "      cursor: pointer;\n",
              "      display: none;\n",
              "      fill: #1967D2;\n",
              "      height: 32px;\n",
              "      padding: 0 0 0 0;\n",
              "      width: 32px;\n",
              "    }\n",
              "\n",
              "    .colab-df-convert:hover {\n",
              "      background-color: #E2EBFA;\n",
              "      box-shadow: 0px 1px 2px rgba(60, 64, 67, 0.3), 0px 1px 3px 1px rgba(60, 64, 67, 0.15);\n",
              "      fill: #174EA6;\n",
              "    }\n",
              "\n",
              "    [theme=dark] .colab-df-convert {\n",
              "      background-color: #3B4455;\n",
              "      fill: #D2E3FC;\n",
              "    }\n",
              "\n",
              "    [theme=dark] .colab-df-convert:hover {\n",
              "      background-color: #434B5C;\n",
              "      box-shadow: 0px 1px 3px 1px rgba(0, 0, 0, 0.15);\n",
              "      filter: drop-shadow(0px 1px 2px rgba(0, 0, 0, 0.3));\n",
              "      fill: #FFFFFF;\n",
              "    }\n",
              "  </style>\n",
              "\n",
              "      <script>\n",
              "        const buttonEl =\n",
              "          document.querySelector('#df-4c798d42-fe71-4cd6-aa33-2536ba65bc8a button.colab-df-convert');\n",
              "        buttonEl.style.display =\n",
              "          google.colab.kernel.accessAllowed ? 'block' : 'none';\n",
              "\n",
              "        async function convertToInteractive(key) {\n",
              "          const element = document.querySelector('#df-4c798d42-fe71-4cd6-aa33-2536ba65bc8a');\n",
              "          const dataTable =\n",
              "            await google.colab.kernel.invokeFunction('convertToInteractive',\n",
              "                                                     [key], {});\n",
              "          if (!dataTable) return;\n",
              "\n",
              "          const docLinkHtml = 'Like what you see? Visit the ' +\n",
              "            '<a target=\"_blank\" href=https://colab.research.google.com/notebooks/data_table.ipynb>data table notebook</a>'\n",
              "            + ' to learn more about interactive tables.';\n",
              "          element.innerHTML = '';\n",
              "          dataTable['output_type'] = 'display_data';\n",
              "          await google.colab.output.renderOutput(dataTable, element);\n",
              "          const docLink = document.createElement('div');\n",
              "          docLink.innerHTML = docLinkHtml;\n",
              "          element.appendChild(docLink);\n",
              "        }\n",
              "      </script>\n",
              "    </div>\n",
              "  </div>\n"
            ]
          },
          "metadata": {},
          "execution_count": 39
        },
        {
          "output_type": "display_data",
          "data": {
            "text/plain": [
              "<google.colab._quickchart_helpers.SectionTitle at 0x7cabf0e07d30>"
            ],
            "text/html": [
              "<h4 class=\"colab-quickchart-section-title\">Values</h4>\n",
              "<style>\n",
              "  .colab-quickchart-section-title {\n",
              "      clear: both;\n",
              "  }\n",
              "</style>"
            ]
          },
          "metadata": {}
        },
        {
          "output_type": "display_data",
          "data": {
            "text/plain": [
              "import numpy as np\n",
              "from google.colab import autoviz\n",
              "\n",
              "def value_plot(df, y, figscale=1):\n",
              "  from matplotlib import pyplot as plt\n",
              "  df[y].plot(kind='line', figsize=(8 * figscale, 4 * figscale), title=y)\n",
              "  plt.gca().spines[['top', 'right']].set_visible(False)\n",
              "  plt.tight_layout()\n",
              "  return autoviz.MplChart.from_current_mpl_state()\n",
              "\n",
              "chart = value_plot(_df_0, *['age'], **{})\n",
              "chart"
            ],
            "text/html": [
              "      <div class=\"colab-quickchart-chart-with-code\" id=\"chart-6e0afce1-68ca-4feb-b85b-563c0a83aceb\">\n",
              "        <img src=\"data:image/png;base64,iVBORw0KGgoAAAANSUhEUgAAAM4AAABgCAYAAABVCU1aAAAAOXRFWHRTb2Z0d2FyZQBNYXRwbG90\n",
              "bGliIHZlcnNpb24zLjcuMSwgaHR0cHM6Ly9tYXRwbG90bGliLm9yZy/bCgiHAAAACXBIWXMAAA9h\n",
              "AAAPYQGoP6dpAAAMrklEQVR4nO3dfUxT9x7H8c+5FAvFIlDE8tgOW8IfeH2YOES9Xodmuv2hI5Io\n",
              "GXvIvLjEMHz4Q1lksrErWS5xYypy4xKyjKng4HIjmtwAV3BbCA97ukYzAQ22RZDJo0ALLf3dP5C6\n",
              "2gPCKVJ7+L4SYtvT0/5Ok7fn9FB+5RhjDISQGfmTqwdAiDuicAgRgMIhRAAKhxABKBxCBKBwCBGA\n",
              "wiFEAAqHEAEoHEIEoHAIEYDCIUQACocQASgcN3X69GnExMTA19cXSqUSKSkpePDgAQDAbDbj0KFD\n",
              "UCqVWLx4MTIyMrB+/XpkZWXZ1m9vb0dycjJCQ0MRFBSE3bt34/fff3fR1rgfCsdNKZVKlJWVoa+v\n",
              "D/X19WhubkZaWhoAICcnB+Xl5aitrYXBYIBUKkV9fb1t3ZGRESQkJCAkJATNzc24c+cOJBIJkpOT\n",
              "XbU57ocRUSgrK2MBAQGMMcaWLl3KTp8+bVtmsVhYUFAQO3bsGGOMsdLSUhYSEsKsVqvtPgaDgQFg\n",
              "er1+TsftriSuDpcIU1ZWhtzcXLS2tsJkMsFqtWJoaAhjY2Nob2+HSqWy3dfDwwPh4eG26y0tLbh/\n",
              "/z78/f3tHlMqlUKn0yEsLGzOtsNd0aGaGzIYDEhKSkJaWhp0Oh0GBgbw9ddfAwAYYwgNDcXdu3dt\n",
              "97darTAYDLbrSqUSKpUKfX19dj8mkwnx8fFzvj3uiMJxQ4ODg7BarQgMDISXlxdaWlqQk5NjW56S\n",
              "koLPPvsMzc3NGB0dxSeffILu7m7b8sTERJjNZmRmZqK/vx8A0NXVheLi4jnfFndF4bih6Oho5OTk\n",
              "4M0334RcLsdbb72FN954w7Y8IyMDr732GjZs2IDQ0FAYjUasXLkSXl5eAAC5XI66ujrodDosW7YM\n",
              "vr6+iI+Px7Vr11y1SW6HY4zmHBA7i8WC4OBgfPHFF9i9e7erhyMKtMcRoYcPH+LSpUsYHR3F4OAg\n",
              "Dh8+DKvVim3btrl6aKJB4YiQ1WpFdnY2AgMDERoaioaGBly5cgV+fn6uHppo0KEaIQLQHocQASgc\n",
              "QgSgcAgRgMIhRAC3DCcvL8/VQyDznFt+yPOPn8Mi/LoemvDP2jso/ckAmacHwvxlCPP3fvQjs/2r\n",
              "XOSFBRK3/P/TpWYUjslkwq5du3Dz5k14e3sjKCgIZ86cgUajwTvvvIMffvgB3t7eWLhwIT7//HPE\n",
              "xsbyPg7HcYiJiYGHhwcA4OTJk9iwYYPzW0PQNWBCQe0dfFN/FyMWKwCgD2bc6zehoc3x/hwHKH29\n",
              "ngjq8eXgRd4UFo8Z73FSU1Oxbds2cByHU6dOYc+ePaipqcHrr7+Os2fPQiKRoKKiAklJSWhra5v0\n",
              "cb777jv6hdws4gtmVYQf0l7Wwk/mCUOv8dHPsN2/IxYrOvpN6Og3obGt1+FxKSx+Tv0CtKmpCTt3\n",
              "7nQI5MGDBwgODobRaIRE4tgmx3Ho7e0VHM7Bgwdx4sQJQeuKTdeACWdqb+Ncvc4umANborBeEwiO\n",
              "4yZdlzGGB4Ojf4jpcVDtfeOXTWbrlM/PF1ao3+PLIX7iDMup9zh5eXnYvn077+2vvvoqbzQTEhIS\n",
              "YLFYkJCQgOzsbPj4+PDeb2RkBCMjI3a3jY2NOTNsUeAL5kWVP/Zv1j41mAkcx2GxXIrFcilWRvg7\n",
              "LGeMoXtolHdPNXHZZH76HmuJ3Iv3/VWYvzeC/bwglXg4/4LMMcF7nOPHj+PSpUuorq6GTCaz3V5U\n",
              "VITs7Gxcu3YNS5Ys4V1Xp9MhIiICQ0NDeO+99yCXy5Gfn89736ysLHz00Ud2t8XFxaGurk7IsN3e\n",
              "ZMEc2ByFdRrFtIKZLdMNayruGpagcHJzc3HhwgVUVVXZHW4VFxfj6NGjqK6uRkRExLQeq66uDqmp\n",
              "qbh+/Trvcr49TmZm5rw7JX1/wIQzNbdxrkGH0UfBrFb5Y78LgpmuJ8Nqd3ifZYTRPPXRA8cBQXLp\n",
              "pGcFQ1wU1owP1U6cOIHz5887RFNSUoKjR4+iqqpqymh6e3shlUohk8lgtVpRXFyMlStXTnp/qVQK\n",
              "qVRqd9vE2bj5wB2DmcBxHAIXShG4UIoV4X4Oyxlj6LGFxb/XMprHcH9gBPcHRvDjXcdDQQBY4jv3\n",
              "Yc1oj2MwGBAeHo7IyEjI5XIAsE095OnpCaVSCYVCYbt/dXU1FAoFCgoKcO/ePXz88ceoq6vD3r17\n",
              "wXEcLBYLVq1ahby8PAQEBEx70PPh5EBnvwkFtY7BHNgShfilz3cws2WqsNr7jND3PH2PBdiHNXHi\n",
              "YuliH7wUqXjqupNxyz8rEHM4fMHEqsf3MPMlmOlijKF32Dzp+ytDrxHDo/xhLQ/3w7/3rRP83G75\n",
              "yQEx6uw34UxNK8436u2CObA5CmspGF4cxyHAZwECfBbgz2F+DsunCksTtNCp56ZwXMwWTIMeo2Pj\n",
              "waxRB2D/Zi0F46SnheUMCsdFJg1mixZrIymY5x2FM8c6+o04U3MbFygYt0bhzBHeYF54dEhGwbgd\n",
              "CucZu9c3Hkxxo30wE2/6iXuicJ4RvmBeeiEA+ykYUaBwZhlfMHGRAUhPoGDEhMKZJff6jMivaUVJ\n",
              "o4GCmQcoHCdNBFPcqId5bPxDGBSM+FE4ArX3GZF/tRUlTY+DWRupQPpmLeKc+AwUcQ8UzgxRMASg\n",
              "cKaNL5j4pQqkJ2id+pQtcU8z+mNwk8mEHTt2ICoqCsuXL8eWLVvQ2toKYPwbvbZu3QqtVouYmJgp\n",
              "v6SooqIC0dHR0Gq1SExMxMDAgHNb8QwZeofxwb+u46//uIpv6nUwjzHEL1WgODUO5/4WR9HMUzOe\n",
              "RSE1NRW3bt3Cr7/+iu3bt2PPnj0AgCNHjiAuLg4tLS0oLCxEcnIyzGazw/qDg4N49913UV5ejpaW\n",
              "FoSEhCA7O9v5LZllE8Fsyq3BuUfBrNMoULJ3LQVDnPu69sbGRqZSqRhjjPn4+LCOjg7bstjYWFZZ\n",
              "WemwTklJCXvllVds12/cuMFCQ0Nn9LwHDhwQNuBp0PcMsSOl/2OaDy4z1eEKpjpcwZLP1rH6O93P\n",
              "7DmJ+5mVWW66u7thNpuhVCpty9RqNXQ6ncM6Op3O7qvE1Wo1Ojo6YLFYeGfFmatZbgy9wzh99Ta+\n",
              "/fHxe5h1GgXSE6Kw5oXp/3UqmR8Eh3P8+HG0traiuroaRqNxNsdkJycnh3eWm9mi7xlGfk0rLjYZ\n",
              "YLGOB7NeE4j0zVrEqikYwk9QOLm5uSgrK0NVVRVkMhlkMhkkEgk6Oztte522tjbeSTsiIiJQWVlp\n",
              "u97W1obg4OBJ52DLyMjAwYMH7W7LzMwUMmw7FAxxxqzNcpOUlISCggJkZWWhsbER7e3t2Lhxo8P6\n",
              "W7duxb59+/Dbb78hOjoa+fn52LVr16TPN9uz3PAFs0EbiPQELVZTMGSaZhSOwWDAoUOHEBkZiU2b\n",
              "NgF4PMvNp59+ipSUFGi1WixYsABFRUXw9PQEAHz44YcICQmxTT745ZdfYseOHbBYLIiJicFXX301\n",
              "+1v2BH3PME5fbcW3P1IwxHmin+WGgiHPgmg/OaDvGcap/7ai9Cf7YPZv1uJFFQVDnCO6cHTd43sY\n",
              "CoY8S6IJhy+Yv0QtRnqCFi+qHGfiJ8QZognn71du4j837gOgYMizJ5pw0l7Wwmi2UjBkTrjlWbXE\n",
              "xESo1WqH28fGxtDQ0IA1a9bMq280mAq9Jo6e9pqoVCqkp6dP+RhuGc5kBgYGsGjRIvT398PX19fV\n",
              "w3ku0GviaDZeE/F9OSMhc4DCIUQACocQAUQVjlQqxbFjxxw+FDqf0WviaDZeE1GdHCBkrohqj0PI\n",
              "XKFwCBGAwiFEANGE09LSgvj4eERFRSE2NhY3btxw9ZBc6v3334darQbHcfjll19cPZznwlTzAs6Y\n",
              "6ybYmV2bNm1ihYWFjDHGLl68yFavXu3aAblYbW0t0+v1TKVSsZ9//tnVw3kuGI1GdvnyZWa1Whlj\n",
              "jJ08eZJt3LhR0GOJ4qxaV1cXNBoNenp6IJFIwBhDcHAwvv/+e2g0GlcPz6XUajXKy8uxYsUKVw/l\n",
              "udPU1ISdO3eira1txuuK4lBNr9fbzZTDcRwiIiJ453UjZMLEvIBCiObPCgiZiT/OCyiEKMIJDw+3\n",
              "mw2UMQadTsc7rxshT84LKIQoDtWCgoKwatUqFBUVAQBKS0sRFhY279/fEEcT8wJWVlbazQs4U6I4\n",
              "OQAAt27dwttvv43u7m74+vqisLAQy5Ytc/WwXGbv3r24fPkyOjs7oVAoIJfLhZ96FQmDwYDw8HBE\n",
              "RkZCLpcDeDwv4EyJJhxC5pIoDtUImWsUDiECUDiECEDhECIAhUOIABQOIQJQOIQIQOEQIgCFQ4gA\n",
              "FA4hAlA4hAjwf8UgL7Aq1YTSAAAAAElFTkSuQmCC\n",
              "\">\n",
              "        \n",
              "      </div>\n",
              "      <script></script>\n",
              "      <script type=\"text/javascript\">\n",
              "        (() => {\n",
              "          const chartElement = document.getElementById(\"chart-6e0afce1-68ca-4feb-b85b-563c0a83aceb\");\n",
              "          async function getCodeForChartHandler(event) {\n",
              "            const chartCodeResponse =  await google.colab.kernel.invokeFunction(\n",
              "                'getCodeForChart', [\"chart-6e0afce1-68ca-4feb-b85b-563c0a83aceb\"], {});\n",
              "            const responseJson = chartCodeResponse.data['application/json'];\n",
              "            await google.colab.notebook.addCell(responseJson.code, 'code');\n",
              "          }\n",
              "          chartElement.onclick = getCodeForChartHandler;\n",
              "        })();\n",
              "      </script>\n",
              "      <style>\n",
              "        .colab-quickchart-chart-with-code  {\n",
              "            display: block;\n",
              "            float: left;\n",
              "            border: 1px solid transparent;\n",
              "        }\n",
              "\n",
              "        .colab-quickchart-chart-with-code:hover {\n",
              "            cursor: pointer;\n",
              "            border: 1px solid #aaa;\n",
              "        }\n",
              "      </style>"
            ]
          },
          "metadata": {}
        },
        {
          "output_type": "display_data",
          "data": {
            "text/plain": [
              "<google.colab._quickchart_helpers.SectionTitle at 0x7cabf0bd91b0>"
            ],
            "text/html": [
              "<h4 class=\"colab-quickchart-section-title\">Distributions</h4>\n",
              "<style>\n",
              "  .colab-quickchart-section-title {\n",
              "      clear: both;\n",
              "  }\n",
              "</style>"
            ]
          },
          "metadata": {}
        },
        {
          "output_type": "display_data",
          "data": {
            "text/plain": [
              "import numpy as np\n",
              "from google.colab import autoviz\n",
              "\n",
              "def histogram(df, colname, num_bins=20, figscale=1):\n",
              "  from matplotlib import pyplot as plt\n",
              "  df[colname].plot(kind='hist', bins=num_bins, title=colname, figsize=(8*figscale, 4*figscale))\n",
              "  plt.gca().spines[['top', 'right',]].set_visible(False)\n",
              "  plt.tight_layout()\n",
              "  return autoviz.MplChart.from_current_mpl_state()\n",
              "\n",
              "chart = histogram(_df_1, *['age'], **{})\n",
              "chart"
            ],
            "text/html": [
              "      <div class=\"colab-quickchart-chart-with-code\" id=\"chart-e461d164-c885-4414-898d-90596ca7588e\">\n",
              "        <img src=\"data:image/png;base64,iVBORw0KGgoAAAANSUhEUgAAALkAAABgCAYAAABBnNO7AAAAOXRFWHRTb2Z0d2FyZQBNYXRwbG90\n",
              "bGliIHZlcnNpb24zLjcuMSwgaHR0cHM6Ly9tYXRwbG90bGliLm9yZy/bCgiHAAAACXBIWXMAAA9h\n",
              "AAAPYQGoP6dpAAALNElEQVR4nO3dbUxTZxsH8H8FraitKMhaKpZoXYkbQyEYU1Fj/OCmydAuS4YR\n",
              "AT9IzGRbMJkPWRY2NeuT7A18wbcPc5kfBplVw1i2bMSMZHOFoVsWzSiIUsqUuiIFt5aXnvv54OMJ\n",
              "HcVx2lPO4Xj9kiacFw7XDX8ON73vc46KMcZAiILNkLoAQmKNQk4Uj0JOFI9CThSPQk4Uj0JOFI9C\n",
              "ThSPQk4Uj0JOFI9CThSPQk4Uj0JOFI9CLrHjx4/j2WefhVarhU6nQ2FhIf78808AwMjICPbv3w+d\n",
              "TodFixahoqICeXl5eOedd/jP7+npwY4dO2AwGJCSkoKCggLcu3dPotbIE4VcYjqdDna7Hf39/XA4\n",
              "HHA6nSgrKwMA2Gw2XLx4Ed9//z3cbjfUajUcDgf/uUNDQ9i0aRNSU1PhdDrR2dmJ+Ph47NixQ6rm\n",
              "yBMjsmK329nChQsZY4wtW7aMHT9+nN82OjrKUlJSWGVlJWOMsfPnz7PU1FTGcRy/j9vtZgBYd3f3\n",
              "lNYtZ/FS/5I96ex2Oz744AN0dHQgEAiA4zj89ddfCAaD6OnpgdFo5PeNi4tDWloav9ze3o7e3l4s\n",
              "WLAg5JhqtRoulwuLFy+esnbIGXVXJOR2u/Hyyy+jrKwMLpcLAwMD+OyzzwAAjDEYDAZ0dXXx+3Mc\n",
              "B7fbzS/rdDoYjUb09/eHvAKBACwWy5S3R64o5BJ68OABOI5DcnIyZs+ejfb2dthsNn57YWEhPv74\n",
              "YzidTgwPD+Pw4cPwer38dqvVipGREbz99tvw+XwAAI/Hg9ra2ilvi5xRyCWUkZEBm82GXbt2QaPR\n",
              "oKioCDt37uS3V1RUYOvWrVi3bh0MBgP8fj9WrVqF2bNnAwA0Gg2uXLkCl8uFzMxMaLVaWCwWNDU1\n",
              "SdUkWVIxRtd4Thejo6PQ6/U4cuQICgoKpC5n2hB8Jv/mm29iUQcJY3BwEPX19RgeHsaDBw9w4MAB\n",
              "cByHF154QerSphXBIT948CDMZjOqq6sxMDAQi5rI/3Ech0OHDiE5ORkGgwHNzc346quvkJiYKHVp\n",
              "00pE3ZVr166hpqYG9fX1sFqt2LdvH1asWBGL+giJWlR98l9++QUvvvgi/vjjD2zcuBEfffQRMjMz\n",
              "xayPkKhF9O7Kd999h/z8fFitVrz66qu4e/cuSktLsX37drHrIyR6QodIMzIyWF5eHqurq2Ojo6Mh\n",
              "255//vmQ5bKyMmY0GhkAdu3atcjGZAmJkuDuSmtrK3Jycia1b1NTE5YuXYq8vDxcvHgRK1eujODX\n",
              "kJDoCO6utLa2oq+vj1/2er04c+ZM2H3Xr18f8fyJ6urqiD6PkH8SHPKamhosXLiQX05KSkJNTU1U\n",
              "RQwNDWFgYCDk1dnZGdUxCXlE8CzEcL2bYDAYVRE2mw3vvvtuyLo1a9aE3Tf9Pw0THuf2f7dGVQeZ\n",
              "2ETfdzG/57H6GoLP5Hq9HnV1dfxybW0t9Hp9VEVUVFTA5/OFvFavXh3VMQl5RPCZvKqqCvn5+Xjz\n",
              "zTcBAHPmzMGlS5eiKkKtVkOtVoesi4uLi+qYhDwiOOQZGRm4ceMG2traAABms3nCQJaWlqKhoQF3\n",
              "797F5s2bodFo0NHREV3FhAgU0ZVBKpUKiYmJGB0dRU9PDwBgyZIl4/Y7depUdNURIgLBIT979ixe\n",
              "e+01zJw5EzNmPOzSq1QqeDwe0YsjRAyCQ37o0CG0tLTAbDbHoh5CRCf43ZXk5GQKOJlWBId827Zt\n",
              "qKqqgsfjCRm8IUSuBHdX3nrrLQBAeXk5VCoVGGNQqVRRDwgREiuCQ85xXCzqICRmIppP3trayt8f\n",
              "pL+/H3fu3BG1KELEFNEErd27d/M3nfR6vXTvPSJrgkN++vRp/PTTT9BqtQCAZcuW0V1UiawJDrla\n",
              "rUZCQkLIuvh4uqUikS/BIV+0aBGcTidUKhWAhyOg4Yb0CZGLiGYhFhQU4Pfff0daWhq0Wi2+/PLL\n",
              "WNRGiCgEh9xkMsHhcKCtrQ2MscfOQiREDgSH3OVyAQDmzp0LAI+dhUiIHAgOeU5ODj/SGQgE8Pff\n",
              "fyMpKYlmIRLZEhzyf75daLfb8euvv4pWECFii/r+5FarFQ0NE19cTIjUBJ/Jx844DAaDcDgcNAuR\n",
              "yJrgkCcmJvJ98ri4OCxfvhxHjhyJRW2EiIJmIRLFo2cGEcUTfCafMWMGP6Q/Fl08QeRKcMgPHjwI\n",
              "v9+PvXv3AgBOnjyJhIQEvPHGG2LXRogoBIf8woULaG1t5ZcPHz6MnJwc/rI4QuRGcJ98cHAwZHTT\n",
              "4/FgcHBQ1KIIEZPgM/n+/fuRlZWFLVu2AAC+/vpr/iohQuRIcMhLS0uxdu1aXL58GcDDq/afeeYZ\n",
              "0QsjRCwRvYWYlJSEzMxMlJWVwWw2Y3h4OOx+7e3tsFgsePrpp5Gbm4vr169HVSwhkRAc8i+++AJr\n",
              "1qxBSUkJAOD69evYtm1b2H1LS0uxZ88eOJ1OHDhwAMXFxdHUSkhEBIfcZrPh6tWr/FOBs7Ky0NXV\n",
              "NW4/j8eDn3/+GTt37gQAvPTSS+ju7qZbN5MpJ7hPHhcXh6SkpJB1s2bNGrdfd3c39Ho9f5GzSqXC\n",
              "kiVL4HK5YDKZQvYdGhrC0NBQyDoaVCJiERxyjUaD3t5eftSzsbEx5EFZkQj3zKCMjAyUl5eP29f6\n",
              "mOOUlzdGVce/CQaDaG5uxurVq5+oS/6CwSD0E7RbzO/5RD/bib6G0WjE66+//u8HFvrgz5aWFrZq\n",
              "1So2f/58tnbtWpaamhr2QbS9vb1Mo9GwkZERxhhjHMexp556irW3t4/bNxAIMJ/PF/IKBAJCS4s5\n",
              "n8/HADCfzyd1KVNqurdb0Jmc4zgEg0FcvnwZP/74IxhjsFgsfP98rJSUFGRnZ+PcuXMoLi7G+fPn\n",
              "sXjx4nFdFSD8M4MIEYvgJzJnZWVN+nK3trY2FBcXw+v1QqvV4pNPPkFmZmZEhcrBwMAA5s+fD5/P\n",
              "x99B7Ekw3dstuE++fPlydHR0hD0j/5PZbMaVK1ciKowQsQgOeV9fH1auXAmLxYJ58+bx6+12u6iF\n",
              "yZFarUZlZeUT17Wa7u2edHdlz549OH36ND799FPcv38fCxYsCNleVFQUkwIJidakQ56dnY2rV6+O\n",
              "+5gQuYto7orA/1UJkdSk++R+vx+//fYbf+esRx8/8txzz8WkQEKiNenuSnp6ethrO4GHQ/adnZ2i\n",
              "FialQCCAV155BTdu3EBCQgJSUlJw4sQJmEwmeDwe7Nq1Czdv3oRarUZNTQ3Wr18vdcmieVzbS0pK\n",
              "8MMPPyAhIQHz5s1DVVUVcnNzpS7530kzBiVvfr+fNTQ0MI7jGGOMHT16lG3YsIExxlhJSQmrrKxk\n",
              "jDHW3NzMDAYDGx4elqhS8T2u7ZcuXeJHsOvr65nRaJSoSmEo5JPQ0tLC/0Dnzp3L7ty5w2/Lzc1l\n",
              "3377rUSVxd7Yto917949Fh8fz4dezui+K5NQXV2N/Px8eL1ejIyMQKfT8dvS09P521kr0aO2h1u/\n",
              "ZcuWafEoHflXKLH33nsPHR0daGxshN/vl7qcKTW27WOdO3cOdXV1aGpqkqgygaT+UyJn77//PsvJ\n",
              "yWH379/n182ZM+eJ6K6EaztjjH3++efMZDKxrq4uaQqLAIV8Ah9++CHLzs5mfX19IeuLiopC/vFM\n",
              "TU1V1D+ejE3c9traWmYymdjt27clqiwygmchPgncbjfS0tKwdOlSaDQaAA/nbzgcDvT29qKwsBC3\n",
              "bt3CrFmzcOzYMWzcuFHiisXzuLbPnDkTOp0u5MqwxsbGcVeKyQ2FnCgevbtCFI9CThSPQk4Uj0JO\n",
              "FI9CThSPQk4Uj0JOFI9CThSPQk4Uj0JOFI9CThTvf5hcCNd1k7SAAAAAAElFTkSuQmCC\n",
              "\">\n",
              "        \n",
              "      </div>\n",
              "      <script></script>\n",
              "      <script type=\"text/javascript\">\n",
              "        (() => {\n",
              "          const chartElement = document.getElementById(\"chart-e461d164-c885-4414-898d-90596ca7588e\");\n",
              "          async function getCodeForChartHandler(event) {\n",
              "            const chartCodeResponse =  await google.colab.kernel.invokeFunction(\n",
              "                'getCodeForChart', [\"chart-e461d164-c885-4414-898d-90596ca7588e\"], {});\n",
              "            const responseJson = chartCodeResponse.data['application/json'];\n",
              "            await google.colab.notebook.addCell(responseJson.code, 'code');\n",
              "          }\n",
              "          chartElement.onclick = getCodeForChartHandler;\n",
              "        })();\n",
              "      </script>\n",
              "      <style>\n",
              "        .colab-quickchart-chart-with-code  {\n",
              "            display: block;\n",
              "            float: left;\n",
              "            border: 1px solid transparent;\n",
              "        }\n",
              "\n",
              "        .colab-quickchart-chart-with-code:hover {\n",
              "            cursor: pointer;\n",
              "            border: 1px solid #aaa;\n",
              "        }\n",
              "      </style>"
            ]
          },
          "metadata": {}
        },
        {
          "output_type": "display_data",
          "data": {
            "text/plain": [
              "<google.colab._quickchart_helpers.SectionTitle at 0x7cabfecc45b0>"
            ],
            "text/html": [
              "<h4 class=\"colab-quickchart-section-title\">Categorical distributions</h4>\n",
              "<style>\n",
              "  .colab-quickchart-section-title {\n",
              "      clear: both;\n",
              "  }\n",
              "</style>"
            ]
          },
          "metadata": {}
        },
        {
          "output_type": "display_data",
          "data": {
            "text/plain": [
              "import numpy as np\n",
              "from google.colab import autoviz\n",
              "\n",
              "def categorical_histogram(df, colname, figscale=1, mpl_palette_name='Dark2'):\n",
              "  from matplotlib import pyplot as plt\n",
              "  import seaborn as sns\n",
              "  df.groupby(colname).size().plot(kind='barh', color=sns.palettes.mpl_palette(mpl_palette_name), figsize=(8*figscale, 4.8*figscale))\n",
              "  plt.gca().spines[['top', 'right',]].set_visible(False)\n",
              "  return autoviz.MplChart.from_current_mpl_state()\n",
              "\n",
              "chart = categorical_histogram(_df_2, *['name'], **{})\n",
              "chart"
            ],
            "text/html": [
              "      <div class=\"colab-quickchart-chart-with-code\" id=\"chart-ff23d365-a35f-4c89-9d6b-04ada0944717\">\n",
              "        <img src=\"data:image/png;base64,iVBORw0KGgoAAAANSUhEUgAAAP4AAACECAYAAACwL5b2AAAAOXRFWHRTb2Z0d2FyZQBNYXRwbG90\n",
              "bGliIHZlcnNpb24zLjcuMSwgaHR0cHM6Ly9tYXRwbG90bGliLm9yZy/bCgiHAAAACXBIWXMAAA9h\n",
              "AAAPYQGoP6dpAAANoklEQVR4nO3df0xT5/4H8HdhUsikOCEoooACEkGw0FIHm97L1gG6q2GTgGz8\n",
              "4d3GyIzBSCRo4gLLonzVhOkki7q4aSBsGVmCbiJLZOD0HxAiQWTLZWrlhzCyhfFDxg/b5/7h93bp\n",
              "EEahpy2c9ys50ZbTcz59ct59Tk/POY9CCCFARLLi4ugCiMj+GHwiGWLwiWSIwSeSIQafSIYYfCIZ\n",
              "YvCJZIjBJ5IhBp9Ihhh8iZ08edLRJRBNwuBL7MGDB44ugWgSBp9Ihhh8Ihli8IlkiMEnkiEGn0iG\n",
              "GHwiGVLwDjzS0sak4KV/vOPoMmgBOPbRv2y2LPb4RDLE4BPJkFMH//z580hJSXF0GWb79+9HYWGh\n",
              "o8sgmjOnDj4RSUOy4CsUChw+fBgbN25EUFAQKisrUVRUBK1Wi9DQUNTV1ZnnLS0tRVRUFKKiovDq\n",
              "q6+iu7vb/Lfh4WFkZGQgMjISWq0W9+7dAwD09vYiISEBGo0GERER2LNnD0wmE4Anewp6vR4ZGRkI\n",
              "Dw9HfHw82tra8Nprr2HdunVITEzE8PAwAGBiYgIHDhyATqeDWq1GWloa+vv7AQA9PT1ISkpCeHg4\n",
              "9Ho9urq6pGouIruStMdfvHgx6uvrce7cOWRmZsLPzw+NjY04cuQI8vLyAACtra3Iy8vDlStX0NLS\n",
              "gvj4eLzzzp9HwW/evIkjR47g9u3b0Ov1OHr0KABgyZIl+Oabb9DU1ISWlhYYDAZ89dVXFq87evQo\n",
              "2traEBwcjG3btuH06dP48ccf4ebmhgsXLgAAjh8/jmeffRYNDQ1obm5GZGQkDh06BADIycmBTqdD\n",
              "W1sbLly4gJqammnf79jYGAYHBy0m8f8fRkTORNLgp6enAwC0Wi0ePXqEnTt3AgB0Oh3a29sBALW1\n",
              "tUhOToa/vz8AYPfu3fj+++9hNBoBAHFxcVi9erX5/3fv3gUAmEwm5OfnY8OGDYiOjkZjYyOam5vN\n",
              "646Li0NAQIB5/bGxsVi2bBkAIDY21rz+yspKlJWVQa1WQ61W44svvsD9+/cBADU1NeYPIX9/f2zf\n",
              "vn3a91tUVAQvLy+LqeeX/8yhBYmk8YyUC3d3dwcAuLq6Tnr8+PHjp75GoVA8dRl/fV1xcTH6+vpQ\n",
              "X18Pd3d35ObmYnR0dMrXTbUcIQROnTqFxMTEv30/f63trw4ePIjc3FyL5xI2Z/7tconszeEH9xIS\n",
              "ElBdXY2HDx8CAE6fPo2XX37Z/GExlf7+fixfvhzu7u7o7e1FRUXFrNafkpKCjz76CCMjIwCAkZER\n",
              "3LlzBwCg1+vx2WefAXjyff/SpUvTLkupVEKlUllMCheHNzHRJJL2+DOxfv16HD9+HMnJyQCAVatW\n",
              "4dNPP/3b1+3duxepqamIiIjAihUroNfrZ7X+/Px8jI2NYePGjeYePT8/HxERETh58iR27dqF8PBw\n",
              "+Pv746WXXprVOoicDU/ZlRhP2SVb4Sm7RDQnDD6RDDH4RDLk8IN7C93mf67BsWLbfTcjsgX2+EQy\n",
              "xOATyRCDTyRDDD6RDDH4RDLE4BPJEINPJEMMPpEMzSr4ExMT5htiENH8Y3Xw6+rqEBgYiISEBABP\n",
              "bnGVmcmbTRDNJ1YH/8CBA7h+/Tq8vb0BPLmN1a1bt2xeGBFJx+rgG41GBAcHWzzn5uZms4KISHpW\n",
              "B9/d3R3Dw8Pmu9Xcvn0bHh4eNi+MiKRj9dV577//PhITE9Hd3Y3MzExcvXoV5eXlUtRGRBKZ1a23\n",
              "7t+/j+rqagghkJSUNGnXn/707wgFDsbyV1Oau7XnjTZb1qyux1+9ejXee+89mxVBRPZldVf0ww8/\n",
              "QKfTYenSpVCpVPD09IRKpZKiNiKSiNU9flZWFg4fPgydTve3974nIudkdfBVKhVSU1OlqMXpGAwG\n",
              "qNVq/P777wAAtVqN69evw9PT07GFEc2R1bv6O3bsQGlpKcbHx6Wox6k1Nzcz9LQgWB38devWYffu\n",
              "3fDw8ICrqytcXFwWxC7/m2++Ca1Wax6qu7e3d9I8CoXC3PsTzWdWB3/fvn24ePEi+vv7MTg4iKGh\n",
              "IQwODkpRm12dOHECjY2NaGlpwaZNm1BYWGj1Mp42TLaRo2STE7L6O76vr++CHEOuvLwcpaWlGB0d\n",
              "xejoKHx8fKxeRlFRET744AOL5zZYvxgiyVnd42/fvh0lJSXo6+uz6Nnmsxs3buDjjz9GVVUVWltb\n",
              "UVxcbDHk9kwdPHgQAwMDFlMUg09OyOoe/9ChQwCAnJwcKBQKCCGgUChgNNrurCJ76+/vh6enJ7y9\n",
              "vTE+Po4zZ87MajlKpRJKpdLiOVeetEdOyOrN0mQymSej0Wj+dz5LTk5GWFgYwsLCsGnTJqjVakeX\n",
              "RCQpDpMtMZ6rT7Ziy3P1rd4i29vbsWXLFqxYsQJLly41T0Q0f1gd/KysLOzatQvPPfccrl27htTU\n",
              "VOzfv1+K2ohIIlYHf3BwEOnp6XBxcUFkZCTOnDmDyspKCUojIqlYfVR/0aJFAABPT08YDAYsX74c\n",
              "v/76q80LWyieS9qHtcXFji6DyILVwd+8eTN+++037NmzBxqNBm5ubti5c6cUtRGRROZ0VL+zsxMD\n",
              "AwNYv369LWtaUHJzc1HMHp+czKx+ZzKZTHj48CGEEFCpVOjo6LB1XUQkIat39c+fP4+cnBwsWrQI\n",
              "Li5PPjcUCgX6+vpsXhwRScPq4H/44Ye4efMmwsLCpKiHiOzA6l19Hx8fhp5onrM6+CkpKThx4sSC\n",
              "ujqPSG6sPqr/v+/1ABbM1XlS4lF9ckZWf8c3mXhLGaL5jpeNEckQg08kQww+kQwx+EQyxOATyRBv\n",
              "vSWxxUmxWLLzZUeXQQtA17//z2bLYo9PJEMMPpEMMfhEMjRvg28wGLBkyRK7rrO1tRVBQUF2XSeR\n",
              "FOZt8Ilo9uZF8KcbwrqgoAAajQYhISGoqqoyP69QKHD48GFs3LgRQUFBqKysRFFREbRaLUJDQ1FX\n",
              "V2ee97vvvsOLL74IjUYDnU6H2tpa898KCwsRGhoKjUaDL7/80i7vl0hq8yL4Uw1hPTAwgKioKDQ1\n",
              "NaGkpAT79u2zeN3ixYtRX1+Pc+fOITMzE35+fmhsbMSRI0eQl5cHALh37x4KCwtRVVWFpqYmlJeX\n",
              "44033sDY2BguX76MiooKNDU1obGxEQaDYdo6nzZMNoz8tZScj9VX5znCVENYu7u74/XXXwcAxMXF\n",
              "4e7duxavS09PBwBotVo8evTIfDdgnU6H9vZ2AEB1dTV+/vlnbN682fw6FxcXdHR0oKamBmlpaVCp\n",
              "VACA7Oxs3LhxY8o6nzZM9qI1K+by1okk4fQ9/nRDWCuVSigUCgCAq6vrpHsCuLu7m//218ePHz8G\n",
              "AAgh8Morr6C5udk8dXd3IzQ0dFIt/1vXVJ42TLbbar85vHsiaTh98G01hPVUkpKScPXqVbS0tJif\n",
              "a2hoAADo9XpUVFRgaGgIQgicPXt22mUplUqoVCqLCa7Tf1gQOYLT7+onJyejrKwMYWFh8Pb2hl6v\n",
              "R3d3t82WHxISgvLycmRnZ2NkZATj4+OIjo5GeXk5tm7dioaGBsTExEClUmHLli02Wy+RI/FcfYnx\n",
              "XH2yFZ6rT0RzwuATyRCDTyRDTn9wb757N2ITim343YzIFtjjE8kQg08kQww+kQwx+EQyxOATyRCD\n",
              "TyRD/DlPQmNjY7hy5QqMRqP5CkGyZDQa0dDQAJ1OxzaaxkzaKTAwEHv37p3R8niuvoQGBwfh5eWF\n",
              "gYEB8zX9ZIltNDO2bifu6hPJEINPJEMMPpEMMfgSUiqVKCgogFKpdHQpTottNDO2bice3COSIfb4\n",
              "RDLE4BPJEINPJEMMvg20t7cjPj4ea9euRWxsLO7cufPU+c6dO4fQ0FAEBwcjKysLExMTdq7UcWbS\n",
              "RnV1dfDw8IBarTZPf/zxhwOqdZycnBwEBQVBoVCgubl5yvnmvC0JmrOEhATx+eefCyGEqKioEFqt\n",
              "dtI89+7dE35+fqKnp0eYTCaxbds2UVJSYudKHWcmbVRbWys2bNhg38KczLVr10RnZ6cIDAwUt27d\n",
              "euo8ttiWGPw5+uWXX4Snp6eYmJgQQghhMpnEsmXLRHt7u8V8x44dE9nZ2ebHly9fFi+88IJda3WU\n",
              "mbYRg/+n6YJvi22Ju/pz1NnZCT8/PzzzzJPrnRQKBQICAtDR0WExX0dHBwIDA82Pg4KCJs2zUM20\n",
              "jQDg7t27iImJQWxsLD755BN7lzov2GJb4tV55DRiYmLQ1dUFLy8vdHV1YevWrfDx8UFaWpqjS1tw\n",
              "2OPP0apVq9DT02MxCGdHRwcCAgIs5gsICMCDBw/Mjw0Gw6R5FqqZtpFKpYKXlxcAYOXKlcjIyMD1\n",
              "69ftXq+zs8W2xODPka+vL2JiYlBWVgYA+Prrr7Fy5UqEhIRYzLdjxw5cunQJvb29EELg9OnT5mG7\n",
              "F7qZtlFPTw9MJhMAYGhoCN9++y2io6PtXq+zs8m2NNuDD/Snn376STz//PMiNDRUaDQa0dLSIoQQ\n",
              "4u233xYXL140z3f27FmxZs0asWbNGvHWW2+J8fFxR5VsdzNpo1OnTonw8HARFRUlwsPDRUFBgTCZ\n",
              "TI4s2+7effdd4e/vL1xdXYWvr68IDg4WQth+W+K5+kQyxF19Ihli8IlkiMEnkiEGn0iGGHwiGWLw\n",
              "iWSIwSeSIQafSIYYfCIZYvCJZIjBJ5Kh/wKZOMyEO2feEwAAAABJRU5ErkJggg==\n",
              "\">\n",
              "        \n",
              "      </div>\n",
              "      <script></script>\n",
              "      <script type=\"text/javascript\">\n",
              "        (() => {\n",
              "          const chartElement = document.getElementById(\"chart-ff23d365-a35f-4c89-9d6b-04ada0944717\");\n",
              "          async function getCodeForChartHandler(event) {\n",
              "            const chartCodeResponse =  await google.colab.kernel.invokeFunction(\n",
              "                'getCodeForChart', [\"chart-ff23d365-a35f-4c89-9d6b-04ada0944717\"], {});\n",
              "            const responseJson = chartCodeResponse.data['application/json'];\n",
              "            await google.colab.notebook.addCell(responseJson.code, 'code');\n",
              "          }\n",
              "          chartElement.onclick = getCodeForChartHandler;\n",
              "        })();\n",
              "      </script>\n",
              "      <style>\n",
              "        .colab-quickchart-chart-with-code  {\n",
              "            display: block;\n",
              "            float: left;\n",
              "            border: 1px solid transparent;\n",
              "        }\n",
              "\n",
              "        .colab-quickchart-chart-with-code:hover {\n",
              "            cursor: pointer;\n",
              "            border: 1px solid #aaa;\n",
              "        }\n",
              "      </style>"
            ]
          },
          "metadata": {}
        },
        {
          "output_type": "display_data",
          "data": {
            "text/plain": [
              "<google.colab._quickchart_helpers.SectionTitle at 0x7cabe6c94be0>"
            ],
            "text/html": [
              "<h4 class=\"colab-quickchart-section-title\">Faceted distributions</h4>\n",
              "<style>\n",
              "  .colab-quickchart-section-title {\n",
              "      clear: both;\n",
              "  }\n",
              "</style>"
            ]
          },
          "metadata": {}
        },
        {
          "output_type": "display_data",
          "data": {
            "text/plain": [
              "import numpy as np\n",
              "from google.colab import autoviz\n",
              "\n",
              "def violin_plot(df, value_colname, facet_colname, figscale=1, mpl_palette_name='Dark2', **kwargs):\n",
              "  from matplotlib import pyplot as plt\n",
              "  import seaborn as sns\n",
              "  figsize = (12 * figscale, 1.2 * figscale * len(df[facet_colname].unique()))\n",
              "  plt.figure(figsize=figsize)\n",
              "  sns.violinplot(df, x=value_colname, y=facet_colname, palette=mpl_palette_name, **kwargs)\n",
              "  sns.despine(top=True, right=True, bottom=True, left=True)\n",
              "  return autoviz.MplChart.from_current_mpl_state()\n",
              "\n",
              "chart = violin_plot(_df_3, *['age', 'name'], **{'inner': 'stick'})\n",
              "chart"
            ],
            "text/html": [
              "      <div class=\"colab-quickchart-chart-with-code\" id=\"chart-78940c72-01f0-4fab-8bcc-5d1f697eaeef\">\n",
              "        <img src=\"data:image/png;base64,iVBORw0KGgoAAAANSUhEUgAAAUoAAAB4CAYAAACU7LsXAAAAOXRFWHRTb2Z0d2FyZQBNYXRwbG90\n",
              "bGliIHZlcnNpb24zLjcuMSwgaHR0cHM6Ly9tYXRwbG90bGliLm9yZy/bCgiHAAAACXBIWXMAAA9h\n",
              "AAAPYQGoP6dpAAAQgklEQVR4nO3deUxUVxsG8GdQYSgdFrEWIRas4EQ2EQYQrRrogKippda4RJtq\n",
              "UkJqjE2NVkytWK2gsbUi/iFtbDUYYl1SxKqYQnFBDaCFIrVpQKWuFBdkEYZBON8fftyIFS6DDLPw\n",
              "/JJJh9nu+4J9cu69c89RCCEEiIioSzamLoCIyNwxKImIZDAoiYhkMCiJiGQwKImIZDAoiYhkMCiJ\n",
              "iGQwKImIZDAoiYhkDDZ1AQOdEAI6nQ4AoFQqoVAoTFwRET2PI0oT0+l0iIyMRGRkpBSYRGReGJRE\n",
              "RDIYlEREMhiUREQyGJRERDIYlEREMhiUREQyLDYoq6qq4Ozs3K/bLC8vh5eXV79uk4hMz2KDkoio\n",
              "v1hEUC5cuBAajQaBgYGYOXMmqqurpeeSkpIQEhICb29vHD9+XHpcoVBg06ZNCA8Ph5eXF7KyspCS\n",
              "kgKNRgMfHx+cOnVKeu3Jkyfx1ltvISQkBGFhYcjPz5eeW79+PXx8fBASEoL9+/d3W2dLSwvq6+s7\n",
              "3VpaWvruF0FEpiEsQE1NjXQ/JSVFJCQkiOvXrwsA4tChQ0IIIU6cOCHGjBkjvQ6A2L59uxBCiNzc\n",
              "XOHg4CB+/PFHIYQQBw4cEBqNRgghxNWrV8WECRNEXV2dEEKIiooK4ebmJnQ6nfjll1+Er6+vqKur\n",
              "E+3t7WLhwoXC09OzyzqTkpIEgE63pKSkbntramoS4eHhIjw8XDQ1NRn6qyGifmAR13pnZmYiIyMD\n",
              "Op0OOp0Ow4YNA/D02ujZs2cDACIiInD16tVO75s3bx4AQKPR4PHjx5g/fz4AICwsDBUVFQCAnJwc\n",
              "VFZWYsqUKdL7bGxscOPGDeTl5WHu3LlwdHQEACQkJKCgoKDLOtesWYMVK1Z0eszOzu5lWiciM2D2\n",
              "QVlQUIAdO3bgwoULGD58OLKzs7Fu3ToAT0OoYxKJQYMGoa2trdN7lUql9NzzPz958gTA00kpoqOj\n",
              "kZmZKVuL3IQVdnZ2DEYiK2T2xyhra2uhUqng6uoKvV6P9PT0Pv38adOmITc3F2VlZdJjRUVFAACt\n",
              "VouDBw+ioaEBQgh89913fbptIrIMZj+ijI2Nxb59+6BWq+Hq6gqtVovbt2/32ed7e3sjMzMTCQkJ\n",
              "aGpqgl6vx/jx45GZmYkZM2agqKgIwcHBcHR0xPTp0/tsu0RkORRCCGHqIgay5uZmREZGAgDy8/Nh\n",
              "b29v4oqI6Hlmv+tNRGRqDEoiIhkMSiIiGQxKIiIZvTqZ09raihs3bmD06NHGqGlAEVxcjMjsGTyi\n",
              "PHXqFDw9PaUztcXFxVi0aFGfFzZQKBQK2Nvbw97eniFJZKYMDsrExEScPXsWrq6uAIDQ0FCUlJT0\n",
              "eWFERIYSQqC5uRnNzc3oy28+GhyUbW1t/9nltrW17bOCiIh6y1jLPxsclEqlEo2NjdJu4uXLl/kl\n",
              "aSKyagZfwvjFF18gJiYGt2/fxqJFi5Cbm9ujCSWIiCyVwUEZExMDHx8f5OTkQAiBL7/8kme/iciq\n",
              "9WpSjFGjRuHjjz/u61qIiMySwccoz5w5g7CwMAwdOhSOjo5QqVTSxLZERNbI4BFlfHw8Nm3ahLCw\n",
              "MGlCXCIia2ZwUDo6OmLOnDnGqMXsVFVVISgoCI8ePQIABAUF4ezZs1CpVKYtjIj6lcG73u+//z4y\n",
              "MjKg1+uNUY9ZKy0tZUgSDUAGB+XYsWOxdOlS2NvbY9CgQbCxsbGKXfDulsTtoFAopNHli3C5WiLr\n",
              "ZHBQfvrppzhy5Ahqa2tRX1+PhoYG1NfXG6O2frV9+3ZcvHgRZWVlmDx5MtavX2/wZ6SkpMDJyanT\n",
              "LSUlpe+LJaJ+ZfAxyuHDhyMqKsoYtZhUV0viGoLL1RJZJ4NHlLNmzcLOnTtRU1PTaRfTknUsiXv8\n",
              "+HGUl5dj27ZtvbpO1M7ODo6Ojp1uDEoiy2fwiHLt2rUAgOXLl0OhUEAIAYVC8Z81tS2JsZfEJSLL\n",
              "ZvCIsr29Xbq1tbVJ/7VksbGxUKvVUKvVmDx5MoKCgkxdEhGZES5XS0RWw1jLPxs8oqyoqMD06dPh\n",
              "7u6OoUOHSjciImtlcFDGx8dj8eLFcHFxwenTpzFnzhysXLnSGLUREZkFg4Oyvr4e8+bNg42NDQIC\n",
              "ApCeno6srCwjlEZEZB4MDsohQ4YAAFQqFaqqqtDS0oL79+/3eWFERObC4K8HTZkyBQ8ePMCyZcsQ\n",
              "EhICW1tbzJ8/3xi1EREZRKlUIj8/X7rfV17qrPfNmzdRV1cHf3//PiuIiMjc9Coo29vbUV1djSdP\n",
              "nkiPvfHGG31aGBEZlxBCugJNqVRyXfluGLzrvWfPHixfvhxDhgyBjc3TQ5wKhQI1NTV9XhwRGU/H\n",
              "0q5A337n0BoZHJQbN25EcXEx1Gq1MeohIjI7Bp/1HjZsGEOSiAYUg4MyLi4O27dvt6rZg4iIumPw\n",
              "yZyO45IArGb2IKKByFjXRVsjg49Rtre3G6MOIiKzZfCuNxHRQGPWQblnzx7ExcWZugzJypUre7WW\n",
              "DhFZNrMOSiIic2C0oFQoFNi0aRPCw8Ph5eWFrKwspKSkQKPRwMfHB6dOnZJem5GRgcDAQGmp2Nu3\n",
              "b0vPNTY2YsGCBQgICIBGo8G1a9cAANXV1YiMjERISAj8/PywbNky6fjpnj17oNVqsWDBAvj6+mLi\n",
              "xIm4cuUK3nvvPYwdOxYxMTFobGwEALS2tiIxMRFhYWEICgrC3LlzUVtbCwC4e/cupk2bBl9fX2i1\n",
              "Wty6davbnrlcLZF1MuqI8tVXX0VhYSF2796NRYsWYcSIEbh48SKSk5OxatUqAEB5eTlWrVqFEydO\n",
              "oKysDBMnTsRHH30kfUZxcTGSk5Nx+fJlaLVabNmyBQDg7OyMo0eP4tKlSygrK0NVVRUOHDjQ6X1b\n",
              "tmzBlStXMHr0aLzzzjvYtWsX/vrrL9ja2mLv3r0AgK1bt8LBwQFFRUUoLS1FQEBAp3WBwsLCcOXK\n",
              "Fezduxd5eXnd9svlaomsk8FnvQ0xb948AIBGo8Hjx4+lWYbCwsJQUVEB4OnXEmJjY+Hh4QEAWLp0\n",
              "KTZs2CB93SgiIgKjRo2S7qelpQF4evZ99erVKCgogBACNTU18Pf3l7YREREhXX+u0WjQ2tqK119/\n",
              "HQAQGhoqbT8rKwt1dXU4fPgwAECv18PLywsAkJeXh6+//hoA4OHhgVmzZnXbL5erJbJORg3KjmmO\n",
              "Bg0a9J+fn51Q41nPX5j/7FRJz75v27ZtqKmpQWFhIZRKJVasWNFpidnn39fV5wghkJaWhpiYGNl+\n",
              "5CYNsLOzYzASWSGTn8yJjIxETk4O7ty5AwDYtWsX3n77bSlcu1JbWws3NzcolUpUV1fj4MGDvdp+\n",
              "XFwcvv32WzQ1NQEAmpqa8OeffwIAtFotfvjhBwBPj1dmZ2f3ahtEZNmMOqLsCX9/f2zduhWxsbEA\n",
              "gJEjR+L777+Xfd8nn3yCOXPmwM/PD+7u7tBqtb3a/urVq9HS0oLw8HBpxLh69Wr4+fkhNTUVixcv\n",
              "hq+vLzw8PBAVFdWrbRCRZeNytUQDFC9h7DmT73oTEZk7BiURkQwGJRGRDAYlEZEMBiURkQye9SYa\n",
              "oLgKY89xRGkGWlpasH79equaQIM9mT+FQgEbGxts2bIFer3e1OX0GWP8nTiiNAP19fVwcnJCXV0d\n",
              "HB0dTV1On2BPloE99QxHlEREMhiUREQyGJRERDIYlGbAzs4OSUlJVjVFG3uyDOypZ3gyh4hIBkeU\n",
              "REQyGJRERDIYlEREMhiU/Wz58uXw8vKCQqFAaWmp9HhOTg40Gg0CAwMxYcIE/PHHH6Yr0kA6nQ5x\n",
              "cXEYM2YMxo0bh+joaFRWVgIAampqEBsbCx8fH/j7++PMmTMmrrZnuuspOTkZarUaNjY2yMrKMm2h\n",
              "PdRdP0uWLJEenzRpEoqLi01cbc/I9RQYGIigoCCEhobKrqAqS1C/On36tLh586bw9PQUJSUlQggh\n",
              "Hj58KIYOHSrKy8uFEEKcOXNG+Pn5mbBKwzQ3N4tjx46J9vZ2IYQQaWlpYurUqUIIIZYsWSKSkpKE\n",
              "EEIUFRUJDw8PodfrTVRpz3XXU2Fhobh69aqYOnWq+Pnnn01XpAG66+fIkSOitbVVCCHE0aNHhaen\n",
              "p4mqNEx3PdXW1kqv+/3334WLi4toa2vr9bYYlCbybFAWFxcLHx+fTs+rVCpx6dIlE1T28oqLi6X/\n",
              "2RwcHMTdu3el50JDQ8Wvv/5qosp679meOlhSUD7vRf0IIcS9e/fE4MGDpeC0JF31lJ+f/9JByV1v\n",
              "M+Dj44MHDx7g/PnzAIDs7Gw0NDSgqqrKtIX1UmpqKt599108ePAAra2tcHNzk57z8vLCjRs3TFhd\n",
              "73T0ZC266ic1NRUzZszA4MEmX3fQYM/3lJiYiNGjR2P27Nk4fPgwbGx6H3eW99uwQk5OTjh06BDW\n",
              "rFmDxsZGREREwNfX1yL/sSYnJ6OyshJ5eXlobm42dTl94tmerEFX/ezbtw8HDhywmOPIz3pRT5s3\n",
              "b8bmzZuRm5uLzz77DOfOnYOtrW3vNvASI116Cc/uej9Pp9MJZ2dnUVFR0b9FvaStW7eKkJCQTseH\n",
              "XnnlFYve9X5RTx0scde7q372798vvL29xT///GOawl5Cd3+jDmq1Wly8eLHX22BQmsjzQXnnzh3p\n",
              "/ueffy5mz55tgqp675tvvhHBwcHi4cOHnR7/8MMPO53McXd3t4iTOUJ03VMHSwvKrvr56aefhLe3\n",
              "t6iqqjJRZb33op70en2nQUZhYaFwcXHp8u/YE7yEsZ8lJCTg2LFjqK6uhqurK1QqFSorKxEfH4+z\n",
              "Z8/iyZMniIiIQFpaGpydnU1dbo/cunULI0eOxJtvvgmVSgXg6fW2hYWF+Pfff/HBBx/g+vXrsLW1\n",
              "xc6dO6W1pM1Zdz199dVX2LVrF+7duweVSgWlUomSkhK89tprJq66a931M2TIELi5ucHV1VV6fV5e\n",
              "XqefzVFXPeXn5yM6Ohp1dXUYPHgwHBwcsHHjRkRFRfV6WwxKIiIZPOtNRCSDQUlEJINBSUQkg0FJ\n",
              "RCSDQUn0fwsXLpQmJpk5cyaqq6sBAOnp6RgzZgyCg4OxcePGTutfFxcXIyoqChqNBuPHj8fBgwdN\n",
              "VT4ZEc96E/3fvXv3pK/4bN68GVVVVVi2bBmio6NRUlICNzc3JCUlYcOGDRBC4NGjR4iMjMTx48cx\n",
              "YsQI3L9/H8HBwbhw4QI8PDxM3A31Jcu7Ro7ISDIzM5GRkQGdTgedTodhw4bht99+Q2xsrHS9enx8\n",
              "PDZs2AAAOH/+PK5du4bp06d3+py///6bQWllGJREAAoKCrBjxw5cuHABw4cPR3Z2NtatW/ef1z27\n",
              "2y2EgJ+fnzSZCVkvHqMkAlBbWwuVSgVXV1fo9Xqkp6cDACIjI3Hy5EnU1NQAAHbv3i29Z+LEibh+\n",
              "/Tpyc3Olx0pLS6HX6/u3eDI6BiURgNjYWKjVaqjVakyePBlBQUEAgICAAKxduxaTJk1CcHAwdDod\n",
              "nJycAAAuLi44duwYkpOTMW7cOPj6+iIxMRHt7e0m7ISMgSdziGQ0NDRI1xKnpqYiJycHJ06cMHFV\n",
              "1J94jJJIRmJiIs6dO4fW1la4u7tLu+U0cHBESUQkg8coiYhkMCiJiGQwKImIZDAoiYhkMCiJiGQw\n",
              "KImIZDAoiYhkMCiJiGQwKImIZPwPxnoeGQyzp1cAAAAASUVORK5CYII=\n",
              "\">\n",
              "        \n",
              "      </div>\n",
              "      <script></script>\n",
              "      <script type=\"text/javascript\">\n",
              "        (() => {\n",
              "          const chartElement = document.getElementById(\"chart-78940c72-01f0-4fab-8bcc-5d1f697eaeef\");\n",
              "          async function getCodeForChartHandler(event) {\n",
              "            const chartCodeResponse =  await google.colab.kernel.invokeFunction(\n",
              "                'getCodeForChart', [\"chart-78940c72-01f0-4fab-8bcc-5d1f697eaeef\"], {});\n",
              "            const responseJson = chartCodeResponse.data['application/json'];\n",
              "            await google.colab.notebook.addCell(responseJson.code, 'code');\n",
              "          }\n",
              "          chartElement.onclick = getCodeForChartHandler;\n",
              "        })();\n",
              "      </script>\n",
              "      <style>\n",
              "        .colab-quickchart-chart-with-code  {\n",
              "            display: block;\n",
              "            float: left;\n",
              "            border: 1px solid transparent;\n",
              "        }\n",
              "\n",
              "        .colab-quickchart-chart-with-code:hover {\n",
              "            cursor: pointer;\n",
              "            border: 1px solid #aaa;\n",
              "        }\n",
              "      </style>"
            ]
          },
          "metadata": {}
        }
      ]
    },
    {
      "cell_type": "code",
      "source": [
        "freinds1 = [['ahmed', 19], ['ali', 23], ['mohamed', 22]]"
      ],
      "metadata": {
        "id": "C8Mv9pjA0srb"
      },
      "execution_count": null,
      "outputs": []
    },
    {
      "cell_type": "code",
      "source": [
        "df = pd.DataFrame(freinds1)"
      ],
      "metadata": {
        "id": "Dkibuhqt03kT"
      },
      "execution_count": null,
      "outputs": []
    },
    {
      "cell_type": "code",
      "source": [
        "df"
      ],
      "metadata": {
        "colab": {
          "base_uri": "https://localhost:8080/",
          "height": 143
        },
        "id": "abdDIDU407af",
        "outputId": "414c8448-3c1c-4c86-9265-bf240dc3abf2"
      },
      "execution_count": null,
      "outputs": [
        {
          "output_type": "execute_result",
          "data": {
            "text/plain": [
              "         0   1\n",
              "0    ahmed  19\n",
              "1      ali  23\n",
              "2  mohamed  22"
            ],
            "text/html": [
              "\n",
              "\n",
              "  <div id=\"df-9ec884a1-fc09-41a2-bb62-68cc422a2bb9\">\n",
              "    <div class=\"colab-df-container\">\n",
              "      <div>\n",
              "<style scoped>\n",
              "    .dataframe tbody tr th:only-of-type {\n",
              "        vertical-align: middle;\n",
              "    }\n",
              "\n",
              "    .dataframe tbody tr th {\n",
              "        vertical-align: top;\n",
              "    }\n",
              "\n",
              "    .dataframe thead th {\n",
              "        text-align: right;\n",
              "    }\n",
              "</style>\n",
              "<table border=\"1\" class=\"dataframe\">\n",
              "  <thead>\n",
              "    <tr style=\"text-align: right;\">\n",
              "      <th></th>\n",
              "      <th>0</th>\n",
              "      <th>1</th>\n",
              "    </tr>\n",
              "  </thead>\n",
              "  <tbody>\n",
              "    <tr>\n",
              "      <th>0</th>\n",
              "      <td>ahmed</td>\n",
              "      <td>19</td>\n",
              "    </tr>\n",
              "    <tr>\n",
              "      <th>1</th>\n",
              "      <td>ali</td>\n",
              "      <td>23</td>\n",
              "    </tr>\n",
              "    <tr>\n",
              "      <th>2</th>\n",
              "      <td>mohamed</td>\n",
              "      <td>22</td>\n",
              "    </tr>\n",
              "  </tbody>\n",
              "</table>\n",
              "</div>\n",
              "      <button class=\"colab-df-convert\" onclick=\"convertToInteractive('df-9ec884a1-fc09-41a2-bb62-68cc422a2bb9')\"\n",
              "              title=\"Convert this dataframe to an interactive table.\"\n",
              "              style=\"display:none;\">\n",
              "\n",
              "  <svg xmlns=\"http://www.w3.org/2000/svg\" height=\"24px\"viewBox=\"0 0 24 24\"\n",
              "       width=\"24px\">\n",
              "    <path d=\"M0 0h24v24H0V0z\" fill=\"none\"/>\n",
              "    <path d=\"M18.56 5.44l.94 2.06.94-2.06 2.06-.94-2.06-.94-.94-2.06-.94 2.06-2.06.94zm-11 1L8.5 8.5l.94-2.06 2.06-.94-2.06-.94L8.5 2.5l-.94 2.06-2.06.94zm10 10l.94 2.06.94-2.06 2.06-.94-2.06-.94-.94-2.06-.94 2.06-2.06.94z\"/><path d=\"M17.41 7.96l-1.37-1.37c-.4-.4-.92-.59-1.43-.59-.52 0-1.04.2-1.43.59L10.3 9.45l-7.72 7.72c-.78.78-.78 2.05 0 2.83L4 21.41c.39.39.9.59 1.41.59.51 0 1.02-.2 1.41-.59l7.78-7.78 2.81-2.81c.8-.78.8-2.07 0-2.86zM5.41 20L4 18.59l7.72-7.72 1.47 1.35L5.41 20z\"/>\n",
              "  </svg>\n",
              "      </button>\n",
              "\n",
              "\n",
              "\n",
              "    <div id=\"df-b0ce1d08-135d-4bbf-b58c-63262b9b86c0\">\n",
              "      <button class=\"colab-df-quickchart\" onclick=\"quickchart('df-b0ce1d08-135d-4bbf-b58c-63262b9b86c0')\"\n",
              "              title=\"Suggest charts.\"\n",
              "              style=\"display:none;\">\n",
              "\n",
              "<svg xmlns=\"http://www.w3.org/2000/svg\" height=\"24px\"viewBox=\"0 0 24 24\"\n",
              "     width=\"24px\">\n",
              "    <g>\n",
              "        <path d=\"M19 3H5c-1.1 0-2 .9-2 2v14c0 1.1.9 2 2 2h14c1.1 0 2-.9 2-2V5c0-1.1-.9-2-2-2zM9 17H7v-7h2v7zm4 0h-2V7h2v10zm4 0h-2v-4h2v4z\"/>\n",
              "    </g>\n",
              "</svg>\n",
              "      </button>\n",
              "    </div>\n",
              "\n",
              "<style>\n",
              "  .colab-df-quickchart {\n",
              "    background-color: #E8F0FE;\n",
              "    border: none;\n",
              "    border-radius: 50%;\n",
              "    cursor: pointer;\n",
              "    display: none;\n",
              "    fill: #1967D2;\n",
              "    height: 32px;\n",
              "    padding: 0 0 0 0;\n",
              "    width: 32px;\n",
              "  }\n",
              "\n",
              "  .colab-df-quickchart:hover {\n",
              "    background-color: #E2EBFA;\n",
              "    box-shadow: 0px 1px 2px rgba(60, 64, 67, 0.3), 0px 1px 3px 1px rgba(60, 64, 67, 0.15);\n",
              "    fill: #174EA6;\n",
              "  }\n",
              "\n",
              "  [theme=dark] .colab-df-quickchart {\n",
              "    background-color: #3B4455;\n",
              "    fill: #D2E3FC;\n",
              "  }\n",
              "\n",
              "  [theme=dark] .colab-df-quickchart:hover {\n",
              "    background-color: #434B5C;\n",
              "    box-shadow: 0px 1px 3px 1px rgba(0, 0, 0, 0.15);\n",
              "    filter: drop-shadow(0px 1px 2px rgba(0, 0, 0, 0.3));\n",
              "    fill: #FFFFFF;\n",
              "  }\n",
              "</style>\n",
              "\n",
              "    <script>\n",
              "      async function quickchart(key) {\n",
              "        const containerElement = document.querySelector('#' + key);\n",
              "        const charts = await google.colab.kernel.invokeFunction(\n",
              "            'suggestCharts', [key], {});\n",
              "      }\n",
              "    </script>\n",
              "\n",
              "      <script>\n",
              "\n",
              "function displayQuickchartButton(domScope) {\n",
              "  let quickchartButtonEl =\n",
              "    domScope.querySelector('#df-b0ce1d08-135d-4bbf-b58c-63262b9b86c0 button.colab-df-quickchart');\n",
              "  quickchartButtonEl.style.display =\n",
              "    google.colab.kernel.accessAllowed ? 'block' : 'none';\n",
              "}\n",
              "\n",
              "        displayQuickchartButton(document);\n",
              "      </script>\n",
              "      <style>\n",
              "    .colab-df-container {\n",
              "      display:flex;\n",
              "      flex-wrap:wrap;\n",
              "      gap: 12px;\n",
              "    }\n",
              "\n",
              "    .colab-df-convert {\n",
              "      background-color: #E8F0FE;\n",
              "      border: none;\n",
              "      border-radius: 50%;\n",
              "      cursor: pointer;\n",
              "      display: none;\n",
              "      fill: #1967D2;\n",
              "      height: 32px;\n",
              "      padding: 0 0 0 0;\n",
              "      width: 32px;\n",
              "    }\n",
              "\n",
              "    .colab-df-convert:hover {\n",
              "      background-color: #E2EBFA;\n",
              "      box-shadow: 0px 1px 2px rgba(60, 64, 67, 0.3), 0px 1px 3px 1px rgba(60, 64, 67, 0.15);\n",
              "      fill: #174EA6;\n",
              "    }\n",
              "\n",
              "    [theme=dark] .colab-df-convert {\n",
              "      background-color: #3B4455;\n",
              "      fill: #D2E3FC;\n",
              "    }\n",
              "\n",
              "    [theme=dark] .colab-df-convert:hover {\n",
              "      background-color: #434B5C;\n",
              "      box-shadow: 0px 1px 3px 1px rgba(0, 0, 0, 0.15);\n",
              "      filter: drop-shadow(0px 1px 2px rgba(0, 0, 0, 0.3));\n",
              "      fill: #FFFFFF;\n",
              "    }\n",
              "  </style>\n",
              "\n",
              "      <script>\n",
              "        const buttonEl =\n",
              "          document.querySelector('#df-9ec884a1-fc09-41a2-bb62-68cc422a2bb9 button.colab-df-convert');\n",
              "        buttonEl.style.display =\n",
              "          google.colab.kernel.accessAllowed ? 'block' : 'none';\n",
              "\n",
              "        async function convertToInteractive(key) {\n",
              "          const element = document.querySelector('#df-9ec884a1-fc09-41a2-bb62-68cc422a2bb9');\n",
              "          const dataTable =\n",
              "            await google.colab.kernel.invokeFunction('convertToInteractive',\n",
              "                                                     [key], {});\n",
              "          if (!dataTable) return;\n",
              "\n",
              "          const docLinkHtml = 'Like what you see? Visit the ' +\n",
              "            '<a target=\"_blank\" href=https://colab.research.google.com/notebooks/data_table.ipynb>data table notebook</a>'\n",
              "            + ' to learn more about interactive tables.';\n",
              "          element.innerHTML = '';\n",
              "          dataTable['output_type'] = 'display_data';\n",
              "          await google.colab.output.renderOutput(dataTable, element);\n",
              "          const docLink = document.createElement('div');\n",
              "          docLink.innerHTML = docLinkHtml;\n",
              "          element.appendChild(docLink);\n",
              "        }\n",
              "      </script>\n",
              "    </div>\n",
              "  </div>\n"
            ]
          },
          "metadata": {},
          "execution_count": 52
        }
      ]
    },
    {
      "cell_type": "code",
      "source": [
        "df.columns = ['name', 'age']"
      ],
      "metadata": {
        "id": "TgBSM_CL071m"
      },
      "execution_count": null,
      "outputs": []
    },
    {
      "cell_type": "code",
      "source": [
        "df"
      ],
      "metadata": {
        "colab": {
          "base_uri": "https://localhost:8080/",
          "height": 143
        },
        "id": "Fiy7DEqy1TGi",
        "outputId": "8f1ec4c9-a455-47e6-b2be-5dc0309cf897"
      },
      "execution_count": null,
      "outputs": [
        {
          "output_type": "execute_result",
          "data": {
            "text/plain": [
              "      name  age\n",
              "0    ahmed   19\n",
              "1      ali   23\n",
              "2  mohamed   22"
            ],
            "text/html": [
              "\n",
              "\n",
              "  <div id=\"df-eccb8c90-6812-46c8-aa46-7bf3ec039490\">\n",
              "    <div class=\"colab-df-container\">\n",
              "      <div>\n",
              "<style scoped>\n",
              "    .dataframe tbody tr th:only-of-type {\n",
              "        vertical-align: middle;\n",
              "    }\n",
              "\n",
              "    .dataframe tbody tr th {\n",
              "        vertical-align: top;\n",
              "    }\n",
              "\n",
              "    .dataframe thead th {\n",
              "        text-align: right;\n",
              "    }\n",
              "</style>\n",
              "<table border=\"1\" class=\"dataframe\">\n",
              "  <thead>\n",
              "    <tr style=\"text-align: right;\">\n",
              "      <th></th>\n",
              "      <th>name</th>\n",
              "      <th>age</th>\n",
              "    </tr>\n",
              "  </thead>\n",
              "  <tbody>\n",
              "    <tr>\n",
              "      <th>0</th>\n",
              "      <td>ahmed</td>\n",
              "      <td>19</td>\n",
              "    </tr>\n",
              "    <tr>\n",
              "      <th>1</th>\n",
              "      <td>ali</td>\n",
              "      <td>23</td>\n",
              "    </tr>\n",
              "    <tr>\n",
              "      <th>2</th>\n",
              "      <td>mohamed</td>\n",
              "      <td>22</td>\n",
              "    </tr>\n",
              "  </tbody>\n",
              "</table>\n",
              "</div>\n",
              "      <button class=\"colab-df-convert\" onclick=\"convertToInteractive('df-eccb8c90-6812-46c8-aa46-7bf3ec039490')\"\n",
              "              title=\"Convert this dataframe to an interactive table.\"\n",
              "              style=\"display:none;\">\n",
              "\n",
              "  <svg xmlns=\"http://www.w3.org/2000/svg\" height=\"24px\"viewBox=\"0 0 24 24\"\n",
              "       width=\"24px\">\n",
              "    <path d=\"M0 0h24v24H0V0z\" fill=\"none\"/>\n",
              "    <path d=\"M18.56 5.44l.94 2.06.94-2.06 2.06-.94-2.06-.94-.94-2.06-.94 2.06-2.06.94zm-11 1L8.5 8.5l.94-2.06 2.06-.94-2.06-.94L8.5 2.5l-.94 2.06-2.06.94zm10 10l.94 2.06.94-2.06 2.06-.94-2.06-.94-.94-2.06-.94 2.06-2.06.94z\"/><path d=\"M17.41 7.96l-1.37-1.37c-.4-.4-.92-.59-1.43-.59-.52 0-1.04.2-1.43.59L10.3 9.45l-7.72 7.72c-.78.78-.78 2.05 0 2.83L4 21.41c.39.39.9.59 1.41.59.51 0 1.02-.2 1.41-.59l7.78-7.78 2.81-2.81c.8-.78.8-2.07 0-2.86zM5.41 20L4 18.59l7.72-7.72 1.47 1.35L5.41 20z\"/>\n",
              "  </svg>\n",
              "      </button>\n",
              "\n",
              "\n",
              "\n",
              "    <div id=\"df-fe5a110c-4e20-4d13-b975-27b183f6ed28\">\n",
              "      <button class=\"colab-df-quickchart\" onclick=\"quickchart('df-fe5a110c-4e20-4d13-b975-27b183f6ed28')\"\n",
              "              title=\"Suggest charts.\"\n",
              "              style=\"display:none;\">\n",
              "\n",
              "<svg xmlns=\"http://www.w3.org/2000/svg\" height=\"24px\"viewBox=\"0 0 24 24\"\n",
              "     width=\"24px\">\n",
              "    <g>\n",
              "        <path d=\"M19 3H5c-1.1 0-2 .9-2 2v14c0 1.1.9 2 2 2h14c1.1 0 2-.9 2-2V5c0-1.1-.9-2-2-2zM9 17H7v-7h2v7zm4 0h-2V7h2v10zm4 0h-2v-4h2v4z\"/>\n",
              "    </g>\n",
              "</svg>\n",
              "      </button>\n",
              "    </div>\n",
              "\n",
              "<style>\n",
              "  .colab-df-quickchart {\n",
              "    background-color: #E8F0FE;\n",
              "    border: none;\n",
              "    border-radius: 50%;\n",
              "    cursor: pointer;\n",
              "    display: none;\n",
              "    fill: #1967D2;\n",
              "    height: 32px;\n",
              "    padding: 0 0 0 0;\n",
              "    width: 32px;\n",
              "  }\n",
              "\n",
              "  .colab-df-quickchart:hover {\n",
              "    background-color: #E2EBFA;\n",
              "    box-shadow: 0px 1px 2px rgba(60, 64, 67, 0.3), 0px 1px 3px 1px rgba(60, 64, 67, 0.15);\n",
              "    fill: #174EA6;\n",
              "  }\n",
              "\n",
              "  [theme=dark] .colab-df-quickchart {\n",
              "    background-color: #3B4455;\n",
              "    fill: #D2E3FC;\n",
              "  }\n",
              "\n",
              "  [theme=dark] .colab-df-quickchart:hover {\n",
              "    background-color: #434B5C;\n",
              "    box-shadow: 0px 1px 3px 1px rgba(0, 0, 0, 0.15);\n",
              "    filter: drop-shadow(0px 1px 2px rgba(0, 0, 0, 0.3));\n",
              "    fill: #FFFFFF;\n",
              "  }\n",
              "</style>\n",
              "\n",
              "    <script>\n",
              "      async function quickchart(key) {\n",
              "        const containerElement = document.querySelector('#' + key);\n",
              "        const charts = await google.colab.kernel.invokeFunction(\n",
              "            'suggestCharts', [key], {});\n",
              "      }\n",
              "    </script>\n",
              "\n",
              "      <script>\n",
              "\n",
              "function displayQuickchartButton(domScope) {\n",
              "  let quickchartButtonEl =\n",
              "    domScope.querySelector('#df-fe5a110c-4e20-4d13-b975-27b183f6ed28 button.colab-df-quickchart');\n",
              "  quickchartButtonEl.style.display =\n",
              "    google.colab.kernel.accessAllowed ? 'block' : 'none';\n",
              "}\n",
              "\n",
              "        displayQuickchartButton(document);\n",
              "      </script>\n",
              "      <style>\n",
              "    .colab-df-container {\n",
              "      display:flex;\n",
              "      flex-wrap:wrap;\n",
              "      gap: 12px;\n",
              "    }\n",
              "\n",
              "    .colab-df-convert {\n",
              "      background-color: #E8F0FE;\n",
              "      border: none;\n",
              "      border-radius: 50%;\n",
              "      cursor: pointer;\n",
              "      display: none;\n",
              "      fill: #1967D2;\n",
              "      height: 32px;\n",
              "      padding: 0 0 0 0;\n",
              "      width: 32px;\n",
              "    }\n",
              "\n",
              "    .colab-df-convert:hover {\n",
              "      background-color: #E2EBFA;\n",
              "      box-shadow: 0px 1px 2px rgba(60, 64, 67, 0.3), 0px 1px 3px 1px rgba(60, 64, 67, 0.15);\n",
              "      fill: #174EA6;\n",
              "    }\n",
              "\n",
              "    [theme=dark] .colab-df-convert {\n",
              "      background-color: #3B4455;\n",
              "      fill: #D2E3FC;\n",
              "    }\n",
              "\n",
              "    [theme=dark] .colab-df-convert:hover {\n",
              "      background-color: #434B5C;\n",
              "      box-shadow: 0px 1px 3px 1px rgba(0, 0, 0, 0.15);\n",
              "      filter: drop-shadow(0px 1px 2px rgba(0, 0, 0, 0.3));\n",
              "      fill: #FFFFFF;\n",
              "    }\n",
              "  </style>\n",
              "\n",
              "      <script>\n",
              "        const buttonEl =\n",
              "          document.querySelector('#df-eccb8c90-6812-46c8-aa46-7bf3ec039490 button.colab-df-convert');\n",
              "        buttonEl.style.display =\n",
              "          google.colab.kernel.accessAllowed ? 'block' : 'none';\n",
              "\n",
              "        async function convertToInteractive(key) {\n",
              "          const element = document.querySelector('#df-eccb8c90-6812-46c8-aa46-7bf3ec039490');\n",
              "          const dataTable =\n",
              "            await google.colab.kernel.invokeFunction('convertToInteractive',\n",
              "                                                     [key], {});\n",
              "          if (!dataTable) return;\n",
              "\n",
              "          const docLinkHtml = 'Like what you see? Visit the ' +\n",
              "            '<a target=\"_blank\" href=https://colab.research.google.com/notebooks/data_table.ipynb>data table notebook</a>'\n",
              "            + ' to learn more about interactive tables.';\n",
              "          element.innerHTML = '';\n",
              "          dataTable['output_type'] = 'display_data';\n",
              "          await google.colab.output.renderOutput(dataTable, element);\n",
              "          const docLink = document.createElement('div');\n",
              "          docLink.innerHTML = docLinkHtml;\n",
              "          element.appendChild(docLink);\n",
              "        }\n",
              "      </script>\n",
              "    </div>\n",
              "  </div>\n"
            ]
          },
          "metadata": {},
          "execution_count": 54
        }
      ]
    },
    {
      "cell_type": "code",
      "source": [
        "friends = {\"name\":['ahmed', 'ali', 'mai', 'soha', 'mohamed'],\n",
        "           'age':[19, 23, 19, 20, 22],\n",
        "           'gender':['m', 'm', 'f', 'f', 'm']}"
      ],
      "metadata": {
        "id": "rHFxUccw1TrJ"
      },
      "execution_count": null,
      "outputs": []
    },
    {
      "cell_type": "code",
      "source": [
        "df = pd.DataFrame(friends)"
      ],
      "metadata": {
        "id": "x8CPgwJbUGJu"
      },
      "execution_count": null,
      "outputs": []
    },
    {
      "cell_type": "code",
      "source": [
        "df"
      ],
      "metadata": {
        "colab": {
          "base_uri": "https://localhost:8080/",
          "height": 206
        },
        "id": "kNacjtcVUVNf",
        "outputId": "ed1a1e85-4898-4d2b-da7e-cebd0119d198"
      },
      "execution_count": null,
      "outputs": [
        {
          "output_type": "execute_result",
          "data": {
            "text/plain": [
              "      name  age gender\n",
              "0    ahmed   19      m\n",
              "1      ali   23      m\n",
              "2      mai   19      f\n",
              "3     soha   20      f\n",
              "4  mohamed   22      m"
            ],
            "text/html": [
              "\n",
              "\n",
              "  <div id=\"df-ab1fa244-cea8-472e-bf5a-40d2d7ab1229\">\n",
              "    <div class=\"colab-df-container\">\n",
              "      <div>\n",
              "<style scoped>\n",
              "    .dataframe tbody tr th:only-of-type {\n",
              "        vertical-align: middle;\n",
              "    }\n",
              "\n",
              "    .dataframe tbody tr th {\n",
              "        vertical-align: top;\n",
              "    }\n",
              "\n",
              "    .dataframe thead th {\n",
              "        text-align: right;\n",
              "    }\n",
              "</style>\n",
              "<table border=\"1\" class=\"dataframe\">\n",
              "  <thead>\n",
              "    <tr style=\"text-align: right;\">\n",
              "      <th></th>\n",
              "      <th>name</th>\n",
              "      <th>age</th>\n",
              "      <th>gender</th>\n",
              "    </tr>\n",
              "  </thead>\n",
              "  <tbody>\n",
              "    <tr>\n",
              "      <th>0</th>\n",
              "      <td>ahmed</td>\n",
              "      <td>19</td>\n",
              "      <td>m</td>\n",
              "    </tr>\n",
              "    <tr>\n",
              "      <th>1</th>\n",
              "      <td>ali</td>\n",
              "      <td>23</td>\n",
              "      <td>m</td>\n",
              "    </tr>\n",
              "    <tr>\n",
              "      <th>2</th>\n",
              "      <td>mai</td>\n",
              "      <td>19</td>\n",
              "      <td>f</td>\n",
              "    </tr>\n",
              "    <tr>\n",
              "      <th>3</th>\n",
              "      <td>soha</td>\n",
              "      <td>20</td>\n",
              "      <td>f</td>\n",
              "    </tr>\n",
              "    <tr>\n",
              "      <th>4</th>\n",
              "      <td>mohamed</td>\n",
              "      <td>22</td>\n",
              "      <td>m</td>\n",
              "    </tr>\n",
              "  </tbody>\n",
              "</table>\n",
              "</div>\n",
              "      <button class=\"colab-df-convert\" onclick=\"convertToInteractive('df-ab1fa244-cea8-472e-bf5a-40d2d7ab1229')\"\n",
              "              title=\"Convert this dataframe to an interactive table.\"\n",
              "              style=\"display:none;\">\n",
              "\n",
              "  <svg xmlns=\"http://www.w3.org/2000/svg\" height=\"24px\"viewBox=\"0 0 24 24\"\n",
              "       width=\"24px\">\n",
              "    <path d=\"M0 0h24v24H0V0z\" fill=\"none\"/>\n",
              "    <path d=\"M18.56 5.44l.94 2.06.94-2.06 2.06-.94-2.06-.94-.94-2.06-.94 2.06-2.06.94zm-11 1L8.5 8.5l.94-2.06 2.06-.94-2.06-.94L8.5 2.5l-.94 2.06-2.06.94zm10 10l.94 2.06.94-2.06 2.06-.94-2.06-.94-.94-2.06-.94 2.06-2.06.94z\"/><path d=\"M17.41 7.96l-1.37-1.37c-.4-.4-.92-.59-1.43-.59-.52 0-1.04.2-1.43.59L10.3 9.45l-7.72 7.72c-.78.78-.78 2.05 0 2.83L4 21.41c.39.39.9.59 1.41.59.51 0 1.02-.2 1.41-.59l7.78-7.78 2.81-2.81c.8-.78.8-2.07 0-2.86zM5.41 20L4 18.59l7.72-7.72 1.47 1.35L5.41 20z\"/>\n",
              "  </svg>\n",
              "      </button>\n",
              "\n",
              "\n",
              "\n",
              "    <div id=\"df-5b589686-f497-4c07-9f78-b28f1bd4a291\">\n",
              "      <button class=\"colab-df-quickchart\" onclick=\"quickchart('df-5b589686-f497-4c07-9f78-b28f1bd4a291')\"\n",
              "              title=\"Suggest charts.\"\n",
              "              style=\"display:none;\">\n",
              "\n",
              "<svg xmlns=\"http://www.w3.org/2000/svg\" height=\"24px\"viewBox=\"0 0 24 24\"\n",
              "     width=\"24px\">\n",
              "    <g>\n",
              "        <path d=\"M19 3H5c-1.1 0-2 .9-2 2v14c0 1.1.9 2 2 2h14c1.1 0 2-.9 2-2V5c0-1.1-.9-2-2-2zM9 17H7v-7h2v7zm4 0h-2V7h2v10zm4 0h-2v-4h2v4z\"/>\n",
              "    </g>\n",
              "</svg>\n",
              "      </button>\n",
              "    </div>\n",
              "\n",
              "<style>\n",
              "  .colab-df-quickchart {\n",
              "    background-color: #E8F0FE;\n",
              "    border: none;\n",
              "    border-radius: 50%;\n",
              "    cursor: pointer;\n",
              "    display: none;\n",
              "    fill: #1967D2;\n",
              "    height: 32px;\n",
              "    padding: 0 0 0 0;\n",
              "    width: 32px;\n",
              "  }\n",
              "\n",
              "  .colab-df-quickchart:hover {\n",
              "    background-color: #E2EBFA;\n",
              "    box-shadow: 0px 1px 2px rgba(60, 64, 67, 0.3), 0px 1px 3px 1px rgba(60, 64, 67, 0.15);\n",
              "    fill: #174EA6;\n",
              "  }\n",
              "\n",
              "  [theme=dark] .colab-df-quickchart {\n",
              "    background-color: #3B4455;\n",
              "    fill: #D2E3FC;\n",
              "  }\n",
              "\n",
              "  [theme=dark] .colab-df-quickchart:hover {\n",
              "    background-color: #434B5C;\n",
              "    box-shadow: 0px 1px 3px 1px rgba(0, 0, 0, 0.15);\n",
              "    filter: drop-shadow(0px 1px 2px rgba(0, 0, 0, 0.3));\n",
              "    fill: #FFFFFF;\n",
              "  }\n",
              "</style>\n",
              "\n",
              "    <script>\n",
              "      async function quickchart(key) {\n",
              "        const containerElement = document.querySelector('#' + key);\n",
              "        const charts = await google.colab.kernel.invokeFunction(\n",
              "            'suggestCharts', [key], {});\n",
              "      }\n",
              "    </script>\n",
              "\n",
              "      <script>\n",
              "\n",
              "function displayQuickchartButton(domScope) {\n",
              "  let quickchartButtonEl =\n",
              "    domScope.querySelector('#df-5b589686-f497-4c07-9f78-b28f1bd4a291 button.colab-df-quickchart');\n",
              "  quickchartButtonEl.style.display =\n",
              "    google.colab.kernel.accessAllowed ? 'block' : 'none';\n",
              "}\n",
              "\n",
              "        displayQuickchartButton(document);\n",
              "      </script>\n",
              "      <style>\n",
              "    .colab-df-container {\n",
              "      display:flex;\n",
              "      flex-wrap:wrap;\n",
              "      gap: 12px;\n",
              "    }\n",
              "\n",
              "    .colab-df-convert {\n",
              "      background-color: #E8F0FE;\n",
              "      border: none;\n",
              "      border-radius: 50%;\n",
              "      cursor: pointer;\n",
              "      display: none;\n",
              "      fill: #1967D2;\n",
              "      height: 32px;\n",
              "      padding: 0 0 0 0;\n",
              "      width: 32px;\n",
              "    }\n",
              "\n",
              "    .colab-df-convert:hover {\n",
              "      background-color: #E2EBFA;\n",
              "      box-shadow: 0px 1px 2px rgba(60, 64, 67, 0.3), 0px 1px 3px 1px rgba(60, 64, 67, 0.15);\n",
              "      fill: #174EA6;\n",
              "    }\n",
              "\n",
              "    [theme=dark] .colab-df-convert {\n",
              "      background-color: #3B4455;\n",
              "      fill: #D2E3FC;\n",
              "    }\n",
              "\n",
              "    [theme=dark] .colab-df-convert:hover {\n",
              "      background-color: #434B5C;\n",
              "      box-shadow: 0px 1px 3px 1px rgba(0, 0, 0, 0.15);\n",
              "      filter: drop-shadow(0px 1px 2px rgba(0, 0, 0, 0.3));\n",
              "      fill: #FFFFFF;\n",
              "    }\n",
              "  </style>\n",
              "\n",
              "      <script>\n",
              "        const buttonEl =\n",
              "          document.querySelector('#df-ab1fa244-cea8-472e-bf5a-40d2d7ab1229 button.colab-df-convert');\n",
              "        buttonEl.style.display =\n",
              "          google.colab.kernel.accessAllowed ? 'block' : 'none';\n",
              "\n",
              "        async function convertToInteractive(key) {\n",
              "          const element = document.querySelector('#df-ab1fa244-cea8-472e-bf5a-40d2d7ab1229');\n",
              "          const dataTable =\n",
              "            await google.colab.kernel.invokeFunction('convertToInteractive',\n",
              "                                                     [key], {});\n",
              "          if (!dataTable) return;\n",
              "\n",
              "          const docLinkHtml = 'Like what you see? Visit the ' +\n",
              "            '<a target=\"_blank\" href=https://colab.research.google.com/notebooks/data_table.ipynb>data table notebook</a>'\n",
              "            + ' to learn more about interactive tables.';\n",
              "          element.innerHTML = '';\n",
              "          dataTable['output_type'] = 'display_data';\n",
              "          await google.colab.output.renderOutput(dataTable, element);\n",
              "          const docLink = document.createElement('div');\n",
              "          docLink.innerHTML = docLinkHtml;\n",
              "          element.appendChild(docLink);\n",
              "        }\n",
              "      </script>\n",
              "    </div>\n",
              "  </div>\n"
            ]
          },
          "metadata": {},
          "execution_count": 58
        }
      ]
    },
    {
      "cell_type": "code",
      "source": [
        "df['complete_gender'] = np.where(df['gender'] == 'm', 'male', 'female')"
      ],
      "metadata": {
        "id": "vFq3B-e9UV0N"
      },
      "execution_count": null,
      "outputs": []
    },
    {
      "cell_type": "code",
      "source": [
        "df"
      ],
      "metadata": {
        "colab": {
          "base_uri": "https://localhost:8080/",
          "height": 206
        },
        "id": "BX6pMjvxUgc7",
        "outputId": "03f75530-0b0e-4845-b4dc-353cf11de68e"
      },
      "execution_count": null,
      "outputs": [
        {
          "output_type": "execute_result",
          "data": {
            "text/plain": [
              "      name  age gender complete_gender\n",
              "0    ahmed   19      m            male\n",
              "1      ali   23      m            male\n",
              "2      mai   19      f          female\n",
              "3     soha   20      f          female\n",
              "4  mohamed   22      m            male"
            ],
            "text/html": [
              "\n",
              "\n",
              "  <div id=\"df-cf7fe73f-9320-42e3-8452-baacbaade015\">\n",
              "    <div class=\"colab-df-container\">\n",
              "      <div>\n",
              "<style scoped>\n",
              "    .dataframe tbody tr th:only-of-type {\n",
              "        vertical-align: middle;\n",
              "    }\n",
              "\n",
              "    .dataframe tbody tr th {\n",
              "        vertical-align: top;\n",
              "    }\n",
              "\n",
              "    .dataframe thead th {\n",
              "        text-align: right;\n",
              "    }\n",
              "</style>\n",
              "<table border=\"1\" class=\"dataframe\">\n",
              "  <thead>\n",
              "    <tr style=\"text-align: right;\">\n",
              "      <th></th>\n",
              "      <th>name</th>\n",
              "      <th>age</th>\n",
              "      <th>gender</th>\n",
              "      <th>complete_gender</th>\n",
              "    </tr>\n",
              "  </thead>\n",
              "  <tbody>\n",
              "    <tr>\n",
              "      <th>0</th>\n",
              "      <td>ahmed</td>\n",
              "      <td>19</td>\n",
              "      <td>m</td>\n",
              "      <td>male</td>\n",
              "    </tr>\n",
              "    <tr>\n",
              "      <th>1</th>\n",
              "      <td>ali</td>\n",
              "      <td>23</td>\n",
              "      <td>m</td>\n",
              "      <td>male</td>\n",
              "    </tr>\n",
              "    <tr>\n",
              "      <th>2</th>\n",
              "      <td>mai</td>\n",
              "      <td>19</td>\n",
              "      <td>f</td>\n",
              "      <td>female</td>\n",
              "    </tr>\n",
              "    <tr>\n",
              "      <th>3</th>\n",
              "      <td>soha</td>\n",
              "      <td>20</td>\n",
              "      <td>f</td>\n",
              "      <td>female</td>\n",
              "    </tr>\n",
              "    <tr>\n",
              "      <th>4</th>\n",
              "      <td>mohamed</td>\n",
              "      <td>22</td>\n",
              "      <td>m</td>\n",
              "      <td>male</td>\n",
              "    </tr>\n",
              "  </tbody>\n",
              "</table>\n",
              "</div>\n",
              "      <button class=\"colab-df-convert\" onclick=\"convertToInteractive('df-cf7fe73f-9320-42e3-8452-baacbaade015')\"\n",
              "              title=\"Convert this dataframe to an interactive table.\"\n",
              "              style=\"display:none;\">\n",
              "\n",
              "  <svg xmlns=\"http://www.w3.org/2000/svg\" height=\"24px\"viewBox=\"0 0 24 24\"\n",
              "       width=\"24px\">\n",
              "    <path d=\"M0 0h24v24H0V0z\" fill=\"none\"/>\n",
              "    <path d=\"M18.56 5.44l.94 2.06.94-2.06 2.06-.94-2.06-.94-.94-2.06-.94 2.06-2.06.94zm-11 1L8.5 8.5l.94-2.06 2.06-.94-2.06-.94L8.5 2.5l-.94 2.06-2.06.94zm10 10l.94 2.06.94-2.06 2.06-.94-2.06-.94-.94-2.06-.94 2.06-2.06.94z\"/><path d=\"M17.41 7.96l-1.37-1.37c-.4-.4-.92-.59-1.43-.59-.52 0-1.04.2-1.43.59L10.3 9.45l-7.72 7.72c-.78.78-.78 2.05 0 2.83L4 21.41c.39.39.9.59 1.41.59.51 0 1.02-.2 1.41-.59l7.78-7.78 2.81-2.81c.8-.78.8-2.07 0-2.86zM5.41 20L4 18.59l7.72-7.72 1.47 1.35L5.41 20z\"/>\n",
              "  </svg>\n",
              "      </button>\n",
              "\n",
              "\n",
              "\n",
              "    <div id=\"df-63888f25-f747-45de-afdd-287dfb09e885\">\n",
              "      <button class=\"colab-df-quickchart\" onclick=\"quickchart('df-63888f25-f747-45de-afdd-287dfb09e885')\"\n",
              "              title=\"Suggest charts.\"\n",
              "              style=\"display:none;\">\n",
              "\n",
              "<svg xmlns=\"http://www.w3.org/2000/svg\" height=\"24px\"viewBox=\"0 0 24 24\"\n",
              "     width=\"24px\">\n",
              "    <g>\n",
              "        <path d=\"M19 3H5c-1.1 0-2 .9-2 2v14c0 1.1.9 2 2 2h14c1.1 0 2-.9 2-2V5c0-1.1-.9-2-2-2zM9 17H7v-7h2v7zm4 0h-2V7h2v10zm4 0h-2v-4h2v4z\"/>\n",
              "    </g>\n",
              "</svg>\n",
              "      </button>\n",
              "    </div>\n",
              "\n",
              "<style>\n",
              "  .colab-df-quickchart {\n",
              "    background-color: #E8F0FE;\n",
              "    border: none;\n",
              "    border-radius: 50%;\n",
              "    cursor: pointer;\n",
              "    display: none;\n",
              "    fill: #1967D2;\n",
              "    height: 32px;\n",
              "    padding: 0 0 0 0;\n",
              "    width: 32px;\n",
              "  }\n",
              "\n",
              "  .colab-df-quickchart:hover {\n",
              "    background-color: #E2EBFA;\n",
              "    box-shadow: 0px 1px 2px rgba(60, 64, 67, 0.3), 0px 1px 3px 1px rgba(60, 64, 67, 0.15);\n",
              "    fill: #174EA6;\n",
              "  }\n",
              "\n",
              "  [theme=dark] .colab-df-quickchart {\n",
              "    background-color: #3B4455;\n",
              "    fill: #D2E3FC;\n",
              "  }\n",
              "\n",
              "  [theme=dark] .colab-df-quickchart:hover {\n",
              "    background-color: #434B5C;\n",
              "    box-shadow: 0px 1px 3px 1px rgba(0, 0, 0, 0.15);\n",
              "    filter: drop-shadow(0px 1px 2px rgba(0, 0, 0, 0.3));\n",
              "    fill: #FFFFFF;\n",
              "  }\n",
              "</style>\n",
              "\n",
              "    <script>\n",
              "      async function quickchart(key) {\n",
              "        const containerElement = document.querySelector('#' + key);\n",
              "        const charts = await google.colab.kernel.invokeFunction(\n",
              "            'suggestCharts', [key], {});\n",
              "      }\n",
              "    </script>\n",
              "\n",
              "      <script>\n",
              "\n",
              "function displayQuickchartButton(domScope) {\n",
              "  let quickchartButtonEl =\n",
              "    domScope.querySelector('#df-63888f25-f747-45de-afdd-287dfb09e885 button.colab-df-quickchart');\n",
              "  quickchartButtonEl.style.display =\n",
              "    google.colab.kernel.accessAllowed ? 'block' : 'none';\n",
              "}\n",
              "\n",
              "        displayQuickchartButton(document);\n",
              "      </script>\n",
              "      <style>\n",
              "    .colab-df-container {\n",
              "      display:flex;\n",
              "      flex-wrap:wrap;\n",
              "      gap: 12px;\n",
              "    }\n",
              "\n",
              "    .colab-df-convert {\n",
              "      background-color: #E8F0FE;\n",
              "      border: none;\n",
              "      border-radius: 50%;\n",
              "      cursor: pointer;\n",
              "      display: none;\n",
              "      fill: #1967D2;\n",
              "      height: 32px;\n",
              "      padding: 0 0 0 0;\n",
              "      width: 32px;\n",
              "    }\n",
              "\n",
              "    .colab-df-convert:hover {\n",
              "      background-color: #E2EBFA;\n",
              "      box-shadow: 0px 1px 2px rgba(60, 64, 67, 0.3), 0px 1px 3px 1px rgba(60, 64, 67, 0.15);\n",
              "      fill: #174EA6;\n",
              "    }\n",
              "\n",
              "    [theme=dark] .colab-df-convert {\n",
              "      background-color: #3B4455;\n",
              "      fill: #D2E3FC;\n",
              "    }\n",
              "\n",
              "    [theme=dark] .colab-df-convert:hover {\n",
              "      background-color: #434B5C;\n",
              "      box-shadow: 0px 1px 3px 1px rgba(0, 0, 0, 0.15);\n",
              "      filter: drop-shadow(0px 1px 2px rgba(0, 0, 0, 0.3));\n",
              "      fill: #FFFFFF;\n",
              "    }\n",
              "  </style>\n",
              "\n",
              "      <script>\n",
              "        const buttonEl =\n",
              "          document.querySelector('#df-cf7fe73f-9320-42e3-8452-baacbaade015 button.colab-df-convert');\n",
              "        buttonEl.style.display =\n",
              "          google.colab.kernel.accessAllowed ? 'block' : 'none';\n",
              "\n",
              "        async function convertToInteractive(key) {\n",
              "          const element = document.querySelector('#df-cf7fe73f-9320-42e3-8452-baacbaade015');\n",
              "          const dataTable =\n",
              "            await google.colab.kernel.invokeFunction('convertToInteractive',\n",
              "                                                     [key], {});\n",
              "          if (!dataTable) return;\n",
              "\n",
              "          const docLinkHtml = 'Like what you see? Visit the ' +\n",
              "            '<a target=\"_blank\" href=https://colab.research.google.com/notebooks/data_table.ipynb>data table notebook</a>'\n",
              "            + ' to learn more about interactive tables.';\n",
              "          element.innerHTML = '';\n",
              "          dataTable['output_type'] = 'display_data';\n",
              "          await google.colab.output.renderOutput(dataTable, element);\n",
              "          const docLink = document.createElement('div');\n",
              "          docLink.innerHTML = docLinkHtml;\n",
              "          element.appendChild(docLink);\n",
              "        }\n",
              "      </script>\n",
              "    </div>\n",
              "  </div>\n"
            ]
          },
          "metadata": {},
          "execution_count": 61
        }
      ]
    },
    {
      "cell_type": "code",
      "source": [
        "# to apply a function to a row\n",
        "def map_age(row):\n",
        "  if row >= 21:\n",
        "    return 'adult'\n",
        "  else:\n",
        "    return 'teen'\n",
        "\n",
        "\n",
        "df['adult or teen'] = df['age'].apply(map_age)"
      ],
      "metadata": {
        "id": "6JLaTLCSUnA1"
      },
      "execution_count": null,
      "outputs": []
    },
    {
      "cell_type": "code",
      "source": [
        "df"
      ],
      "metadata": {
        "colab": {
          "base_uri": "https://localhost:8080/",
          "height": 206
        },
        "id": "CuGUepCdVWWQ",
        "outputId": "116ffd03-5a9e-44e2-99cc-e66131327a6a"
      },
      "execution_count": null,
      "outputs": [
        {
          "output_type": "execute_result",
          "data": {
            "text/plain": [
              "      name  age gender complete_gender adult or teen\n",
              "0    ahmed   19      m            male          teen\n",
              "1      ali   23      m            male         adult\n",
              "2      mai   19      f          female          teen\n",
              "3     soha   20      f          female          teen\n",
              "4  mohamed   22      m            male         adult"
            ],
            "text/html": [
              "\n",
              "\n",
              "  <div id=\"df-2b3a34af-7617-48bf-b0cb-7fc20e873928\">\n",
              "    <div class=\"colab-df-container\">\n",
              "      <div>\n",
              "<style scoped>\n",
              "    .dataframe tbody tr th:only-of-type {\n",
              "        vertical-align: middle;\n",
              "    }\n",
              "\n",
              "    .dataframe tbody tr th {\n",
              "        vertical-align: top;\n",
              "    }\n",
              "\n",
              "    .dataframe thead th {\n",
              "        text-align: right;\n",
              "    }\n",
              "</style>\n",
              "<table border=\"1\" class=\"dataframe\">\n",
              "  <thead>\n",
              "    <tr style=\"text-align: right;\">\n",
              "      <th></th>\n",
              "      <th>name</th>\n",
              "      <th>age</th>\n",
              "      <th>gender</th>\n",
              "      <th>complete_gender</th>\n",
              "      <th>adult or teen</th>\n",
              "    </tr>\n",
              "  </thead>\n",
              "  <tbody>\n",
              "    <tr>\n",
              "      <th>0</th>\n",
              "      <td>ahmed</td>\n",
              "      <td>19</td>\n",
              "      <td>m</td>\n",
              "      <td>male</td>\n",
              "      <td>teen</td>\n",
              "    </tr>\n",
              "    <tr>\n",
              "      <th>1</th>\n",
              "      <td>ali</td>\n",
              "      <td>23</td>\n",
              "      <td>m</td>\n",
              "      <td>male</td>\n",
              "      <td>adult</td>\n",
              "    </tr>\n",
              "    <tr>\n",
              "      <th>2</th>\n",
              "      <td>mai</td>\n",
              "      <td>19</td>\n",
              "      <td>f</td>\n",
              "      <td>female</td>\n",
              "      <td>teen</td>\n",
              "    </tr>\n",
              "    <tr>\n",
              "      <th>3</th>\n",
              "      <td>soha</td>\n",
              "      <td>20</td>\n",
              "      <td>f</td>\n",
              "      <td>female</td>\n",
              "      <td>teen</td>\n",
              "    </tr>\n",
              "    <tr>\n",
              "      <th>4</th>\n",
              "      <td>mohamed</td>\n",
              "      <td>22</td>\n",
              "      <td>m</td>\n",
              "      <td>male</td>\n",
              "      <td>adult</td>\n",
              "    </tr>\n",
              "  </tbody>\n",
              "</table>\n",
              "</div>\n",
              "      <button class=\"colab-df-convert\" onclick=\"convertToInteractive('df-2b3a34af-7617-48bf-b0cb-7fc20e873928')\"\n",
              "              title=\"Convert this dataframe to an interactive table.\"\n",
              "              style=\"display:none;\">\n",
              "\n",
              "  <svg xmlns=\"http://www.w3.org/2000/svg\" height=\"24px\"viewBox=\"0 0 24 24\"\n",
              "       width=\"24px\">\n",
              "    <path d=\"M0 0h24v24H0V0z\" fill=\"none\"/>\n",
              "    <path d=\"M18.56 5.44l.94 2.06.94-2.06 2.06-.94-2.06-.94-.94-2.06-.94 2.06-2.06.94zm-11 1L8.5 8.5l.94-2.06 2.06-.94-2.06-.94L8.5 2.5l-.94 2.06-2.06.94zm10 10l.94 2.06.94-2.06 2.06-.94-2.06-.94-.94-2.06-.94 2.06-2.06.94z\"/><path d=\"M17.41 7.96l-1.37-1.37c-.4-.4-.92-.59-1.43-.59-.52 0-1.04.2-1.43.59L10.3 9.45l-7.72 7.72c-.78.78-.78 2.05 0 2.83L4 21.41c.39.39.9.59 1.41.59.51 0 1.02-.2 1.41-.59l7.78-7.78 2.81-2.81c.8-.78.8-2.07 0-2.86zM5.41 20L4 18.59l7.72-7.72 1.47 1.35L5.41 20z\"/>\n",
              "  </svg>\n",
              "      </button>\n",
              "\n",
              "\n",
              "\n",
              "    <div id=\"df-2ae8afdb-7be3-4a6d-9162-811935c96c6b\">\n",
              "      <button class=\"colab-df-quickchart\" onclick=\"quickchart('df-2ae8afdb-7be3-4a6d-9162-811935c96c6b')\"\n",
              "              title=\"Suggest charts.\"\n",
              "              style=\"display:none;\">\n",
              "\n",
              "<svg xmlns=\"http://www.w3.org/2000/svg\" height=\"24px\"viewBox=\"0 0 24 24\"\n",
              "     width=\"24px\">\n",
              "    <g>\n",
              "        <path d=\"M19 3H5c-1.1 0-2 .9-2 2v14c0 1.1.9 2 2 2h14c1.1 0 2-.9 2-2V5c0-1.1-.9-2-2-2zM9 17H7v-7h2v7zm4 0h-2V7h2v10zm4 0h-2v-4h2v4z\"/>\n",
              "    </g>\n",
              "</svg>\n",
              "      </button>\n",
              "    </div>\n",
              "\n",
              "<style>\n",
              "  .colab-df-quickchart {\n",
              "    background-color: #E8F0FE;\n",
              "    border: none;\n",
              "    border-radius: 50%;\n",
              "    cursor: pointer;\n",
              "    display: none;\n",
              "    fill: #1967D2;\n",
              "    height: 32px;\n",
              "    padding: 0 0 0 0;\n",
              "    width: 32px;\n",
              "  }\n",
              "\n",
              "  .colab-df-quickchart:hover {\n",
              "    background-color: #E2EBFA;\n",
              "    box-shadow: 0px 1px 2px rgba(60, 64, 67, 0.3), 0px 1px 3px 1px rgba(60, 64, 67, 0.15);\n",
              "    fill: #174EA6;\n",
              "  }\n",
              "\n",
              "  [theme=dark] .colab-df-quickchart {\n",
              "    background-color: #3B4455;\n",
              "    fill: #D2E3FC;\n",
              "  }\n",
              "\n",
              "  [theme=dark] .colab-df-quickchart:hover {\n",
              "    background-color: #434B5C;\n",
              "    box-shadow: 0px 1px 3px 1px rgba(0, 0, 0, 0.15);\n",
              "    filter: drop-shadow(0px 1px 2px rgba(0, 0, 0, 0.3));\n",
              "    fill: #FFFFFF;\n",
              "  }\n",
              "</style>\n",
              "\n",
              "    <script>\n",
              "      async function quickchart(key) {\n",
              "        const containerElement = document.querySelector('#' + key);\n",
              "        const charts = await google.colab.kernel.invokeFunction(\n",
              "            'suggestCharts', [key], {});\n",
              "      }\n",
              "    </script>\n",
              "\n",
              "      <script>\n",
              "\n",
              "function displayQuickchartButton(domScope) {\n",
              "  let quickchartButtonEl =\n",
              "    domScope.querySelector('#df-2ae8afdb-7be3-4a6d-9162-811935c96c6b button.colab-df-quickchart');\n",
              "  quickchartButtonEl.style.display =\n",
              "    google.colab.kernel.accessAllowed ? 'block' : 'none';\n",
              "}\n",
              "\n",
              "        displayQuickchartButton(document);\n",
              "      </script>\n",
              "      <style>\n",
              "    .colab-df-container {\n",
              "      display:flex;\n",
              "      flex-wrap:wrap;\n",
              "      gap: 12px;\n",
              "    }\n",
              "\n",
              "    .colab-df-convert {\n",
              "      background-color: #E8F0FE;\n",
              "      border: none;\n",
              "      border-radius: 50%;\n",
              "      cursor: pointer;\n",
              "      display: none;\n",
              "      fill: #1967D2;\n",
              "      height: 32px;\n",
              "      padding: 0 0 0 0;\n",
              "      width: 32px;\n",
              "    }\n",
              "\n",
              "    .colab-df-convert:hover {\n",
              "      background-color: #E2EBFA;\n",
              "      box-shadow: 0px 1px 2px rgba(60, 64, 67, 0.3), 0px 1px 3px 1px rgba(60, 64, 67, 0.15);\n",
              "      fill: #174EA6;\n",
              "    }\n",
              "\n",
              "    [theme=dark] .colab-df-convert {\n",
              "      background-color: #3B4455;\n",
              "      fill: #D2E3FC;\n",
              "    }\n",
              "\n",
              "    [theme=dark] .colab-df-convert:hover {\n",
              "      background-color: #434B5C;\n",
              "      box-shadow: 0px 1px 3px 1px rgba(0, 0, 0, 0.15);\n",
              "      filter: drop-shadow(0px 1px 2px rgba(0, 0, 0, 0.3));\n",
              "      fill: #FFFFFF;\n",
              "    }\n",
              "  </style>\n",
              "\n",
              "      <script>\n",
              "        const buttonEl =\n",
              "          document.querySelector('#df-2b3a34af-7617-48bf-b0cb-7fc20e873928 button.colab-df-convert');\n",
              "        buttonEl.style.display =\n",
              "          google.colab.kernel.accessAllowed ? 'block' : 'none';\n",
              "\n",
              "        async function convertToInteractive(key) {\n",
              "          const element = document.querySelector('#df-2b3a34af-7617-48bf-b0cb-7fc20e873928');\n",
              "          const dataTable =\n",
              "            await google.colab.kernel.invokeFunction('convertToInteractive',\n",
              "                                                     [key], {});\n",
              "          if (!dataTable) return;\n",
              "\n",
              "          const docLinkHtml = 'Like what you see? Visit the ' +\n",
              "            '<a target=\"_blank\" href=https://colab.research.google.com/notebooks/data_table.ipynb>data table notebook</a>'\n",
              "            + ' to learn more about interactive tables.';\n",
              "          element.innerHTML = '';\n",
              "          dataTable['output_type'] = 'display_data';\n",
              "          await google.colab.output.renderOutput(dataTable, element);\n",
              "          const docLink = document.createElement('div');\n",
              "          docLink.innerHTML = docLinkHtml;\n",
              "          element.appendChild(docLink);\n",
              "        }\n",
              "      </script>\n",
              "    </div>\n",
              "  </div>\n"
            ]
          },
          "metadata": {},
          "execution_count": 64
        }
      ]
    },
    {
      "cell_type": "code",
      "source": [
        "# another example using multiple params\n",
        "def greet(age, prefix, suffix):\n",
        "  return f\"{prefix} {age} {suffix}\"\n",
        "\n",
        "\n",
        "df['introduce'] = df['age'].apply(greet, prefix='hello i am', suffix='years old')"
      ],
      "metadata": {
        "id": "KGSQ0AxQVh9o"
      },
      "execution_count": null,
      "outputs": []
    },
    {
      "cell_type": "code",
      "source": [
        "df"
      ],
      "metadata": {
        "colab": {
          "base_uri": "https://localhost:8080/",
          "height": 250
        },
        "id": "3XpTLG7UWLl3",
        "outputId": "bdda7abb-78ea-44cd-ccfa-c1b45dfc35c5"
      },
      "execution_count": null,
      "outputs": [
        {
          "output_type": "execute_result",
          "data": {
            "text/plain": [
              "      name  age gender complete_gender adult or teen                introduce\n",
              "0    ahmed   19      m            male          teen  hello i am 19 years old\n",
              "1      ali   23      m            male         adult  hello i am 23 years old\n",
              "2      mai   19      f          female          teen  hello i am 19 years old\n",
              "3     soha   20      f          female          teen  hello i am 20 years old\n",
              "4  mohamed   22      m            male         adult  hello i am 22 years old"
            ],
            "text/html": [
              "\n",
              "\n",
              "  <div id=\"df-4381b7bb-f65f-4e65-9549-f18fff15f1b2\">\n",
              "    <div class=\"colab-df-container\">\n",
              "      <div>\n",
              "<style scoped>\n",
              "    .dataframe tbody tr th:only-of-type {\n",
              "        vertical-align: middle;\n",
              "    }\n",
              "\n",
              "    .dataframe tbody tr th {\n",
              "        vertical-align: top;\n",
              "    }\n",
              "\n",
              "    .dataframe thead th {\n",
              "        text-align: right;\n",
              "    }\n",
              "</style>\n",
              "<table border=\"1\" class=\"dataframe\">\n",
              "  <thead>\n",
              "    <tr style=\"text-align: right;\">\n",
              "      <th></th>\n",
              "      <th>name</th>\n",
              "      <th>age</th>\n",
              "      <th>gender</th>\n",
              "      <th>complete_gender</th>\n",
              "      <th>adult or teen</th>\n",
              "      <th>introduce</th>\n",
              "    </tr>\n",
              "  </thead>\n",
              "  <tbody>\n",
              "    <tr>\n",
              "      <th>0</th>\n",
              "      <td>ahmed</td>\n",
              "      <td>19</td>\n",
              "      <td>m</td>\n",
              "      <td>male</td>\n",
              "      <td>teen</td>\n",
              "      <td>hello i am 19 years old</td>\n",
              "    </tr>\n",
              "    <tr>\n",
              "      <th>1</th>\n",
              "      <td>ali</td>\n",
              "      <td>23</td>\n",
              "      <td>m</td>\n",
              "      <td>male</td>\n",
              "      <td>adult</td>\n",
              "      <td>hello i am 23 years old</td>\n",
              "    </tr>\n",
              "    <tr>\n",
              "      <th>2</th>\n",
              "      <td>mai</td>\n",
              "      <td>19</td>\n",
              "      <td>f</td>\n",
              "      <td>female</td>\n",
              "      <td>teen</td>\n",
              "      <td>hello i am 19 years old</td>\n",
              "    </tr>\n",
              "    <tr>\n",
              "      <th>3</th>\n",
              "      <td>soha</td>\n",
              "      <td>20</td>\n",
              "      <td>f</td>\n",
              "      <td>female</td>\n",
              "      <td>teen</td>\n",
              "      <td>hello i am 20 years old</td>\n",
              "    </tr>\n",
              "    <tr>\n",
              "      <th>4</th>\n",
              "      <td>mohamed</td>\n",
              "      <td>22</td>\n",
              "      <td>m</td>\n",
              "      <td>male</td>\n",
              "      <td>adult</td>\n",
              "      <td>hello i am 22 years old</td>\n",
              "    </tr>\n",
              "  </tbody>\n",
              "</table>\n",
              "</div>\n",
              "      <button class=\"colab-df-convert\" onclick=\"convertToInteractive('df-4381b7bb-f65f-4e65-9549-f18fff15f1b2')\"\n",
              "              title=\"Convert this dataframe to an interactive table.\"\n",
              "              style=\"display:none;\">\n",
              "\n",
              "  <svg xmlns=\"http://www.w3.org/2000/svg\" height=\"24px\"viewBox=\"0 0 24 24\"\n",
              "       width=\"24px\">\n",
              "    <path d=\"M0 0h24v24H0V0z\" fill=\"none\"/>\n",
              "    <path d=\"M18.56 5.44l.94 2.06.94-2.06 2.06-.94-2.06-.94-.94-2.06-.94 2.06-2.06.94zm-11 1L8.5 8.5l.94-2.06 2.06-.94-2.06-.94L8.5 2.5l-.94 2.06-2.06.94zm10 10l.94 2.06.94-2.06 2.06-.94-2.06-.94-.94-2.06-.94 2.06-2.06.94z\"/><path d=\"M17.41 7.96l-1.37-1.37c-.4-.4-.92-.59-1.43-.59-.52 0-1.04.2-1.43.59L10.3 9.45l-7.72 7.72c-.78.78-.78 2.05 0 2.83L4 21.41c.39.39.9.59 1.41.59.51 0 1.02-.2 1.41-.59l7.78-7.78 2.81-2.81c.8-.78.8-2.07 0-2.86zM5.41 20L4 18.59l7.72-7.72 1.47 1.35L5.41 20z\"/>\n",
              "  </svg>\n",
              "      </button>\n",
              "\n",
              "\n",
              "\n",
              "    <div id=\"df-b50e8756-d505-48c4-b216-605d1e37937d\">\n",
              "      <button class=\"colab-df-quickchart\" onclick=\"quickchart('df-b50e8756-d505-48c4-b216-605d1e37937d')\"\n",
              "              title=\"Suggest charts.\"\n",
              "              style=\"display:none;\">\n",
              "\n",
              "<svg xmlns=\"http://www.w3.org/2000/svg\" height=\"24px\"viewBox=\"0 0 24 24\"\n",
              "     width=\"24px\">\n",
              "    <g>\n",
              "        <path d=\"M19 3H5c-1.1 0-2 .9-2 2v14c0 1.1.9 2 2 2h14c1.1 0 2-.9 2-2V5c0-1.1-.9-2-2-2zM9 17H7v-7h2v7zm4 0h-2V7h2v10zm4 0h-2v-4h2v4z\"/>\n",
              "    </g>\n",
              "</svg>\n",
              "      </button>\n",
              "    </div>\n",
              "\n",
              "<style>\n",
              "  .colab-df-quickchart {\n",
              "    background-color: #E8F0FE;\n",
              "    border: none;\n",
              "    border-radius: 50%;\n",
              "    cursor: pointer;\n",
              "    display: none;\n",
              "    fill: #1967D2;\n",
              "    height: 32px;\n",
              "    padding: 0 0 0 0;\n",
              "    width: 32px;\n",
              "  }\n",
              "\n",
              "  .colab-df-quickchart:hover {\n",
              "    background-color: #E2EBFA;\n",
              "    box-shadow: 0px 1px 2px rgba(60, 64, 67, 0.3), 0px 1px 3px 1px rgba(60, 64, 67, 0.15);\n",
              "    fill: #174EA6;\n",
              "  }\n",
              "\n",
              "  [theme=dark] .colab-df-quickchart {\n",
              "    background-color: #3B4455;\n",
              "    fill: #D2E3FC;\n",
              "  }\n",
              "\n",
              "  [theme=dark] .colab-df-quickchart:hover {\n",
              "    background-color: #434B5C;\n",
              "    box-shadow: 0px 1px 3px 1px rgba(0, 0, 0, 0.15);\n",
              "    filter: drop-shadow(0px 1px 2px rgba(0, 0, 0, 0.3));\n",
              "    fill: #FFFFFF;\n",
              "  }\n",
              "</style>\n",
              "\n",
              "    <script>\n",
              "      async function quickchart(key) {\n",
              "        const containerElement = document.querySelector('#' + key);\n",
              "        const charts = await google.colab.kernel.invokeFunction(\n",
              "            'suggestCharts', [key], {});\n",
              "      }\n",
              "    </script>\n",
              "\n",
              "      <script>\n",
              "\n",
              "function displayQuickchartButton(domScope) {\n",
              "  let quickchartButtonEl =\n",
              "    domScope.querySelector('#df-b50e8756-d505-48c4-b216-605d1e37937d button.colab-df-quickchart');\n",
              "  quickchartButtonEl.style.display =\n",
              "    google.colab.kernel.accessAllowed ? 'block' : 'none';\n",
              "}\n",
              "\n",
              "        displayQuickchartButton(document);\n",
              "      </script>\n",
              "      <style>\n",
              "    .colab-df-container {\n",
              "      display:flex;\n",
              "      flex-wrap:wrap;\n",
              "      gap: 12px;\n",
              "    }\n",
              "\n",
              "    .colab-df-convert {\n",
              "      background-color: #E8F0FE;\n",
              "      border: none;\n",
              "      border-radius: 50%;\n",
              "      cursor: pointer;\n",
              "      display: none;\n",
              "      fill: #1967D2;\n",
              "      height: 32px;\n",
              "      padding: 0 0 0 0;\n",
              "      width: 32px;\n",
              "    }\n",
              "\n",
              "    .colab-df-convert:hover {\n",
              "      background-color: #E2EBFA;\n",
              "      box-shadow: 0px 1px 2px rgba(60, 64, 67, 0.3), 0px 1px 3px 1px rgba(60, 64, 67, 0.15);\n",
              "      fill: #174EA6;\n",
              "    }\n",
              "\n",
              "    [theme=dark] .colab-df-convert {\n",
              "      background-color: #3B4455;\n",
              "      fill: #D2E3FC;\n",
              "    }\n",
              "\n",
              "    [theme=dark] .colab-df-convert:hover {\n",
              "      background-color: #434B5C;\n",
              "      box-shadow: 0px 1px 3px 1px rgba(0, 0, 0, 0.15);\n",
              "      filter: drop-shadow(0px 1px 2px rgba(0, 0, 0, 0.3));\n",
              "      fill: #FFFFFF;\n",
              "    }\n",
              "  </style>\n",
              "\n",
              "      <script>\n",
              "        const buttonEl =\n",
              "          document.querySelector('#df-4381b7bb-f65f-4e65-9549-f18fff15f1b2 button.colab-df-convert');\n",
              "        buttonEl.style.display =\n",
              "          google.colab.kernel.accessAllowed ? 'block' : 'none';\n",
              "\n",
              "        async function convertToInteractive(key) {\n",
              "          const element = document.querySelector('#df-4381b7bb-f65f-4e65-9549-f18fff15f1b2');\n",
              "          const dataTable =\n",
              "            await google.colab.kernel.invokeFunction('convertToInteractive',\n",
              "                                                     [key], {});\n",
              "          if (!dataTable) return;\n",
              "\n",
              "          const docLinkHtml = 'Like what you see? Visit the ' +\n",
              "            '<a target=\"_blank\" href=https://colab.research.google.com/notebooks/data_table.ipynb>data table notebook</a>'\n",
              "            + ' to learn more about interactive tables.';\n",
              "          element.innerHTML = '';\n",
              "          dataTable['output_type'] = 'display_data';\n",
              "          await google.colab.output.renderOutput(dataTable, element);\n",
              "          const docLink = document.createElement('div');\n",
              "          docLink.innerHTML = docLinkHtml;\n",
              "          element.appendChild(docLink);\n",
              "        }\n",
              "      </script>\n",
              "    </div>\n",
              "  </div>\n"
            ]
          },
          "metadata": {},
          "execution_count": 67
        }
      ]
    },
    {
      "cell_type": "code",
      "source": [
        "# drop duplicates\n",
        "test = df.drop_duplicates(\"age\")"
      ],
      "metadata": {
        "id": "oMgiAMO8WdmR"
      },
      "execution_count": null,
      "outputs": []
    },
    {
      "cell_type": "code",
      "source": [
        "test"
      ],
      "metadata": {
        "colab": {
          "base_uri": "https://localhost:8080/",
          "height": 219
        },
        "id": "TiikQzwgbmto",
        "outputId": "5e2840f6-b7ef-4110-d87d-c24a765deaf2"
      },
      "execution_count": null,
      "outputs": [
        {
          "output_type": "execute_result",
          "data": {
            "text/plain": [
              "      name  age gender complete_gender adult or teen                introduce\n",
              "0    ahmed   19      m            male          teen  hello i am 19 years old\n",
              "1      ali   23      m            male         adult  hello i am 23 years old\n",
              "3     soha   20      f          female          teen  hello i am 20 years old\n",
              "4  mohamed   22      m            male         adult  hello i am 22 years old"
            ],
            "text/html": [
              "\n",
              "\n",
              "  <div id=\"df-f3f36fb6-9335-44f7-9082-26390d8174b3\">\n",
              "    <div class=\"colab-df-container\">\n",
              "      <div>\n",
              "<style scoped>\n",
              "    .dataframe tbody tr th:only-of-type {\n",
              "        vertical-align: middle;\n",
              "    }\n",
              "\n",
              "    .dataframe tbody tr th {\n",
              "        vertical-align: top;\n",
              "    }\n",
              "\n",
              "    .dataframe thead th {\n",
              "        text-align: right;\n",
              "    }\n",
              "</style>\n",
              "<table border=\"1\" class=\"dataframe\">\n",
              "  <thead>\n",
              "    <tr style=\"text-align: right;\">\n",
              "      <th></th>\n",
              "      <th>name</th>\n",
              "      <th>age</th>\n",
              "      <th>gender</th>\n",
              "      <th>complete_gender</th>\n",
              "      <th>adult or teen</th>\n",
              "      <th>introduce</th>\n",
              "    </tr>\n",
              "  </thead>\n",
              "  <tbody>\n",
              "    <tr>\n",
              "      <th>0</th>\n",
              "      <td>ahmed</td>\n",
              "      <td>19</td>\n",
              "      <td>m</td>\n",
              "      <td>male</td>\n",
              "      <td>teen</td>\n",
              "      <td>hello i am 19 years old</td>\n",
              "    </tr>\n",
              "    <tr>\n",
              "      <th>1</th>\n",
              "      <td>ali</td>\n",
              "      <td>23</td>\n",
              "      <td>m</td>\n",
              "      <td>male</td>\n",
              "      <td>adult</td>\n",
              "      <td>hello i am 23 years old</td>\n",
              "    </tr>\n",
              "    <tr>\n",
              "      <th>3</th>\n",
              "      <td>soha</td>\n",
              "      <td>20</td>\n",
              "      <td>f</td>\n",
              "      <td>female</td>\n",
              "      <td>teen</td>\n",
              "      <td>hello i am 20 years old</td>\n",
              "    </tr>\n",
              "    <tr>\n",
              "      <th>4</th>\n",
              "      <td>mohamed</td>\n",
              "      <td>22</td>\n",
              "      <td>m</td>\n",
              "      <td>male</td>\n",
              "      <td>adult</td>\n",
              "      <td>hello i am 22 years old</td>\n",
              "    </tr>\n",
              "  </tbody>\n",
              "</table>\n",
              "</div>\n",
              "      <button class=\"colab-df-convert\" onclick=\"convertToInteractive('df-f3f36fb6-9335-44f7-9082-26390d8174b3')\"\n",
              "              title=\"Convert this dataframe to an interactive table.\"\n",
              "              style=\"display:none;\">\n",
              "\n",
              "  <svg xmlns=\"http://www.w3.org/2000/svg\" height=\"24px\"viewBox=\"0 0 24 24\"\n",
              "       width=\"24px\">\n",
              "    <path d=\"M0 0h24v24H0V0z\" fill=\"none\"/>\n",
              "    <path d=\"M18.56 5.44l.94 2.06.94-2.06 2.06-.94-2.06-.94-.94-2.06-.94 2.06-2.06.94zm-11 1L8.5 8.5l.94-2.06 2.06-.94-2.06-.94L8.5 2.5l-.94 2.06-2.06.94zm10 10l.94 2.06.94-2.06 2.06-.94-2.06-.94-.94-2.06-.94 2.06-2.06.94z\"/><path d=\"M17.41 7.96l-1.37-1.37c-.4-.4-.92-.59-1.43-.59-.52 0-1.04.2-1.43.59L10.3 9.45l-7.72 7.72c-.78.78-.78 2.05 0 2.83L4 21.41c.39.39.9.59 1.41.59.51 0 1.02-.2 1.41-.59l7.78-7.78 2.81-2.81c.8-.78.8-2.07 0-2.86zM5.41 20L4 18.59l7.72-7.72 1.47 1.35L5.41 20z\"/>\n",
              "  </svg>\n",
              "      </button>\n",
              "\n",
              "\n",
              "\n",
              "    <div id=\"df-80ca1c0f-f708-416a-89cc-c31a81634a38\">\n",
              "      <button class=\"colab-df-quickchart\" onclick=\"quickchart('df-80ca1c0f-f708-416a-89cc-c31a81634a38')\"\n",
              "              title=\"Suggest charts.\"\n",
              "              style=\"display:none;\">\n",
              "\n",
              "<svg xmlns=\"http://www.w3.org/2000/svg\" height=\"24px\"viewBox=\"0 0 24 24\"\n",
              "     width=\"24px\">\n",
              "    <g>\n",
              "        <path d=\"M19 3H5c-1.1 0-2 .9-2 2v14c0 1.1.9 2 2 2h14c1.1 0 2-.9 2-2V5c0-1.1-.9-2-2-2zM9 17H7v-7h2v7zm4 0h-2V7h2v10zm4 0h-2v-4h2v4z\"/>\n",
              "    </g>\n",
              "</svg>\n",
              "      </button>\n",
              "    </div>\n",
              "\n",
              "<style>\n",
              "  .colab-df-quickchart {\n",
              "    background-color: #E8F0FE;\n",
              "    border: none;\n",
              "    border-radius: 50%;\n",
              "    cursor: pointer;\n",
              "    display: none;\n",
              "    fill: #1967D2;\n",
              "    height: 32px;\n",
              "    padding: 0 0 0 0;\n",
              "    width: 32px;\n",
              "  }\n",
              "\n",
              "  .colab-df-quickchart:hover {\n",
              "    background-color: #E2EBFA;\n",
              "    box-shadow: 0px 1px 2px rgba(60, 64, 67, 0.3), 0px 1px 3px 1px rgba(60, 64, 67, 0.15);\n",
              "    fill: #174EA6;\n",
              "  }\n",
              "\n",
              "  [theme=dark] .colab-df-quickchart {\n",
              "    background-color: #3B4455;\n",
              "    fill: #D2E3FC;\n",
              "  }\n",
              "\n",
              "  [theme=dark] .colab-df-quickchart:hover {\n",
              "    background-color: #434B5C;\n",
              "    box-shadow: 0px 1px 3px 1px rgba(0, 0, 0, 0.15);\n",
              "    filter: drop-shadow(0px 1px 2px rgba(0, 0, 0, 0.3));\n",
              "    fill: #FFFFFF;\n",
              "  }\n",
              "</style>\n",
              "\n",
              "    <script>\n",
              "      async function quickchart(key) {\n",
              "        const containerElement = document.querySelector('#' + key);\n",
              "        const charts = await google.colab.kernel.invokeFunction(\n",
              "            'suggestCharts', [key], {});\n",
              "      }\n",
              "    </script>\n",
              "\n",
              "      <script>\n",
              "\n",
              "function displayQuickchartButton(domScope) {\n",
              "  let quickchartButtonEl =\n",
              "    domScope.querySelector('#df-80ca1c0f-f708-416a-89cc-c31a81634a38 button.colab-df-quickchart');\n",
              "  quickchartButtonEl.style.display =\n",
              "    google.colab.kernel.accessAllowed ? 'block' : 'none';\n",
              "}\n",
              "\n",
              "        displayQuickchartButton(document);\n",
              "      </script>\n",
              "      <style>\n",
              "    .colab-df-container {\n",
              "      display:flex;\n",
              "      flex-wrap:wrap;\n",
              "      gap: 12px;\n",
              "    }\n",
              "\n",
              "    .colab-df-convert {\n",
              "      background-color: #E8F0FE;\n",
              "      border: none;\n",
              "      border-radius: 50%;\n",
              "      cursor: pointer;\n",
              "      display: none;\n",
              "      fill: #1967D2;\n",
              "      height: 32px;\n",
              "      padding: 0 0 0 0;\n",
              "      width: 32px;\n",
              "    }\n",
              "\n",
              "    .colab-df-convert:hover {\n",
              "      background-color: #E2EBFA;\n",
              "      box-shadow: 0px 1px 2px rgba(60, 64, 67, 0.3), 0px 1px 3px 1px rgba(60, 64, 67, 0.15);\n",
              "      fill: #174EA6;\n",
              "    }\n",
              "\n",
              "    [theme=dark] .colab-df-convert {\n",
              "      background-color: #3B4455;\n",
              "      fill: #D2E3FC;\n",
              "    }\n",
              "\n",
              "    [theme=dark] .colab-df-convert:hover {\n",
              "      background-color: #434B5C;\n",
              "      box-shadow: 0px 1px 3px 1px rgba(0, 0, 0, 0.15);\n",
              "      filter: drop-shadow(0px 1px 2px rgba(0, 0, 0, 0.3));\n",
              "      fill: #FFFFFF;\n",
              "    }\n",
              "  </style>\n",
              "\n",
              "      <script>\n",
              "        const buttonEl =\n",
              "          document.querySelector('#df-f3f36fb6-9335-44f7-9082-26390d8174b3 button.colab-df-convert');\n",
              "        buttonEl.style.display =\n",
              "          google.colab.kernel.accessAllowed ? 'block' : 'none';\n",
              "\n",
              "        async function convertToInteractive(key) {\n",
              "          const element = document.querySelector('#df-f3f36fb6-9335-44f7-9082-26390d8174b3');\n",
              "          const dataTable =\n",
              "            await google.colab.kernel.invokeFunction('convertToInteractive',\n",
              "                                                     [key], {});\n",
              "          if (!dataTable) return;\n",
              "\n",
              "          const docLinkHtml = 'Like what you see? Visit the ' +\n",
              "            '<a target=\"_blank\" href=https://colab.research.google.com/notebooks/data_table.ipynb>data table notebook</a>'\n",
              "            + ' to learn more about interactive tables.';\n",
              "          element.innerHTML = '';\n",
              "          dataTable['output_type'] = 'display_data';\n",
              "          await google.colab.output.renderOutput(dataTable, element);\n",
              "          const docLink = document.createElement('div');\n",
              "          docLink.innerHTML = docLinkHtml;\n",
              "          element.appendChild(docLink);\n",
              "        }\n",
              "      </script>\n",
              "    </div>\n",
              "  </div>\n"
            ]
          },
          "metadata": {},
          "execution_count": 71
        }
      ]
    },
    {
      "cell_type": "code",
      "source": [
        "import os"
      ],
      "metadata": {
        "id": "ejStdt7FbnoQ"
      },
      "execution_count": null,
      "outputs": []
    },
    {
      "cell_type": "code",
      "source": [
        "os.getcwd()"
      ],
      "metadata": {
        "colab": {
          "base_uri": "https://localhost:8080/",
          "height": 36
        },
        "id": "rqeOfNC9eASM",
        "outputId": "34312f96-bdc4-4f33-b997-f1441227e32a"
      },
      "execution_count": null,
      "outputs": [
        {
          "output_type": "execute_result",
          "data": {
            "text/plain": [
              "'/content'"
            ],
            "application/vnd.google.colaboratory.intrinsic+json": {
              "type": "string"
            }
          },
          "metadata": {},
          "execution_count": 79
        }
      ]
    },
    {
      "cell_type": "code",
      "source": [
        "df.to_csv('df.csv')"
      ],
      "metadata": {
        "id": "MrzgsYSVgXAU"
      },
      "execution_count": null,
      "outputs": []
    },
    {
      "cell_type": "code",
      "source": [
        "os.listdir()"
      ],
      "metadata": {
        "colab": {
          "base_uri": "https://localhost:8080/"
        },
        "id": "M9bIJ53xgekW",
        "outputId": "4abce572-85d8-4ace-a16e-2e81e9ae9138"
      },
      "execution_count": null,
      "outputs": [
        {
          "output_type": "execute_result",
          "data": {
            "text/plain": [
              "['.config', 'df.csv', 'sample_data']"
            ]
          },
          "metadata": {},
          "execution_count": 83
        }
      ]
    },
    {
      "cell_type": "code",
      "source": [
        "!python df.csv"
      ],
      "metadata": {
        "colab": {
          "base_uri": "https://localhost:8080/"
        },
        "id": "lHjI_a6hggzM",
        "outputId": "1f201965-3c2b-4b73-bf31-00ff215476f7"
      },
      "execution_count": null,
      "outputs": [
        {
          "output_type": "stream",
          "name": "stdout",
          "text": [
            "  File \"/content/df.csv\", line 1\n",
            "    ,A,B,C\n",
            "    ^\n",
            "SyntaxError: invalid syntax\n"
          ]
        }
      ]
    },
    {
      "cell_type": "markdown",
      "source": [
        "# Matplotlib"
      ],
      "metadata": {
        "id": "Ls7o67Gr2-Kr"
      }
    },
    {
      "cell_type": "code",
      "source": [
        "import matplotlib.pyplot as plt\n",
        "import numpy as np\n",
        "import pandas as pd"
      ],
      "metadata": {
        "id": "DD8dFEKtgsGZ"
      },
      "execution_count": null,
      "outputs": []
    },
    {
      "cell_type": "code",
      "source": [
        "x = np.arange(4)"
      ],
      "metadata": {
        "id": "LDq9_jBm3EhF"
      },
      "execution_count": null,
      "outputs": []
    },
    {
      "cell_type": "code",
      "source": [
        "x"
      ],
      "metadata": {
        "colab": {
          "base_uri": "https://localhost:8080/"
        },
        "id": "4VNKokL33IrH",
        "outputId": "90206e7e-058e-4880-b724-333c084375b9"
      },
      "execution_count": null,
      "outputs": [
        {
          "output_type": "execute_result",
          "data": {
            "text/plain": [
              "array([0, 1, 2, 3])"
            ]
          },
          "metadata": {},
          "execution_count": 6
        }
      ]
    },
    {
      "cell_type": "code",
      "source": [
        "plt.figure(figsize=(4, 2))\n",
        "plt.plot(x, x**2)\n",
        "plt.xlabel(\"x's\")\n",
        "plt.ylabel(\"y's\")\n",
        "plt.show()"
      ],
      "metadata": {
        "colab": {
          "base_uri": "https://localhost:8080/",
          "height": 234
        },
        "id": "tyP7hQov3JBp",
        "outputId": "92f517a4-629b-4b10-f68b-5b6b83630e31"
      },
      "execution_count": null,
      "outputs": [
        {
          "output_type": "display_data",
          "data": {
            "text/plain": [
              "<Figure size 400x200 with 1 Axes>"
            ],
            "image/png": "[encoded data removed]"
          },
          "metadata": {}
        }
      ]
    },
    {
      "cell_type": "code",
      "source": [
        "x = np.linspace(0, 10, 100)"
      ],
      "metadata": {
        "id": "r6NOoBm23PcY"
      },
      "execution_count": null,
      "outputs": []
    },
    {
      "cell_type": "code",
      "source": [
        "plt.figure(figsize=(5, 4))\n",
        "plt.plot(x, x, label='linear')\n",
        "plt.plot(x, x**2, linestyle='--', color='red', label='squrae')\n",
        "plt.plot(x, x**3, linestyle=':', label='quadratic')\n",
        "plt.legend()\n",
        "plt.show()"
      ],
      "metadata": {
        "colab": {
          "base_uri": "https://localhost:8080/",
          "height": 368
        },
        "id": "vQgac4qT3rOh",
        "outputId": "f5ab2bda-a422-4e10-aba1-570abd65668d"
      },
      "execution_count": null,
      "outputs": [
        {
          "output_type": "display_data",
          "data": {
            "text/plain": [
              "<Figure size 500x400 with 1 Axes>"
            ],
            "image/png": "[encoded data removed]"
          },
          "metadata": {}
        }
      ]
    },
    {
      "cell_type": "code",
      "source": [
        "fig, ax = plt.subplots(2, 2)\n",
        "ax[0, 0].plot(x, x)\n",
        "ax[0, 1].plot(x, x**2)\n",
        "ax[1, 0].plot(x, x**3)\n",
        "ax[1, 1].plot(x, x**4)\n",
        "\n",
        "ax[1, 0].set_yscale('log')\n",
        "plt.show()"
      ],
      "metadata": {
        "colab": {
          "base_uri": "https://localhost:8080/",
          "height": 430
        },
        "id": "RvbURKxw38D6",
        "outputId": "8e2c9e37-160c-4ca3-a564-8dcb4a14585c"
      },
      "execution_count": null,
      "outputs": [
        {
          "output_type": "display_data",
          "data": {
            "text/plain": [
              "<Figure size 640x480 with 4 Axes>"
            ],
            "image/png": "[encoded data removed]"
          },
          "metadata": {}
        }
      ]
    },
    {
      "cell_type": "markdown",
      "source": [
        "## bar chart"
      ],
      "metadata": {
        "id": "4VpkDkc65sIJ"
      }
    },
    {
      "cell_type": "code",
      "source": [
        "friends = {\"name\":['ahmed', 'ali', 'yasser', 'mai', 'soha', 'mohamed'],\n",
        "           'age':[19, 23, 22, 19, 20, 22],\n",
        "           'gender':['m', 'm', 'm', 'f', 'f', 'm']}"
      ],
      "metadata": {
        "id": "1k_SqNJP43tK"
      },
      "execution_count": null,
      "outputs": []
    },
    {
      "cell_type": "code",
      "source": [
        "df = pd.DataFrame(friends)"
      ],
      "metadata": {
        "id": "aLrNGY385_9u"
      },
      "execution_count": null,
      "outputs": []
    },
    {
      "cell_type": "code",
      "source": [
        "df"
      ],
      "metadata": {
        "colab": {
          "base_uri": "https://localhost:8080/",
          "height": 237
        },
        "id": "pMkUAQpi6Clr",
        "outputId": "c033b299-ca04-4e03-c2a5-d0cd9751d6ab"
      },
      "execution_count": null,
      "outputs": [
        {
          "output_type": "execute_result",
          "data": {
            "text/plain": [
              "      name  age gender\n",
              "0    ahmed   19      m\n",
              "1      ali   23      m\n",
              "2   yasser   22      m\n",
              "3      mai   19      f\n",
              "4     soha   20      f\n",
              "5  mohamed   22      m"
            ],
            "text/html": [
              "\n",
              "\n",
              "  <div id=\"df-5255717a-d175-47c9-9c1b-9e8ea591bc7c\">\n",
              "    <div class=\"colab-df-container\">\n",
              "      <div>\n",
              "<style scoped>\n",
              "    .dataframe tbody tr th:only-of-type {\n",
              "        vertical-align: middle;\n",
              "    }\n",
              "\n",
              "    .dataframe tbody tr th {\n",
              "        vertical-align: top;\n",
              "    }\n",
              "\n",
              "    .dataframe thead th {\n",
              "        text-align: right;\n",
              "    }\n",
              "</style>\n",
              "<table border=\"1\" class=\"dataframe\">\n",
              "  <thead>\n",
              "    <tr style=\"text-align: right;\">\n",
              "      <th></th>\n",
              "      <th>name</th>\n",
              "      <th>age</th>\n",
              "      <th>gender</th>\n",
              "    </tr>\n",
              "  </thead>\n",
              "  <tbody>\n",
              "    <tr>\n",
              "      <th>0</th>\n",
              "      <td>ahmed</td>\n",
              "      <td>19</td>\n",
              "      <td>m</td>\n",
              "    </tr>\n",
              "    <tr>\n",
              "      <th>1</th>\n",
              "      <td>ali</td>\n",
              "      <td>23</td>\n",
              "      <td>m</td>\n",
              "    </tr>\n",
              "    <tr>\n",
              "      <th>2</th>\n",
              "      <td>yasser</td>\n",
              "      <td>22</td>\n",
              "      <td>m</td>\n",
              "    </tr>\n",
              "    <tr>\n",
              "      <th>3</th>\n",
              "      <td>mai</td>\n",
              "      <td>19</td>\n",
              "      <td>f</td>\n",
              "    </tr>\n",
              "    <tr>\n",
              "      <th>4</th>\n",
              "      <td>soha</td>\n",
              "      <td>20</td>\n",
              "      <td>f</td>\n",
              "    </tr>\n",
              "    <tr>\n",
              "      <th>5</th>\n",
              "      <td>mohamed</td>\n",
              "      <td>22</td>\n",
              "      <td>m</td>\n",
              "    </tr>\n",
              "  </tbody>\n",
              "</table>\n",
              "</div>\n",
              "      <button class=\"colab-df-convert\" onclick=\"convertToInteractive('df-5255717a-d175-47c9-9c1b-9e8ea591bc7c')\"\n",
              "              title=\"Convert this dataframe to an interactive table.\"\n",
              "              style=\"display:none;\">\n",
              "\n",
              "  <svg xmlns=\"http://www.w3.org/2000/svg\" height=\"24px\"viewBox=\"0 0 24 24\"\n",
              "       width=\"24px\">\n",
              "    <path d=\"M0 0h24v24H0V0z\" fill=\"none\"/>\n",
              "    <path d=\"M18.56 5.44l.94 2.06.94-2.06 2.06-.94-2.06-.94-.94-2.06-.94 2.06-2.06.94zm-11 1L8.5 8.5l.94-2.06 2.06-.94-2.06-.94L8.5 2.5l-.94 2.06-2.06.94zm10 10l.94 2.06.94-2.06 2.06-.94-2.06-.94-.94-2.06-.94 2.06-2.06.94z\"/><path d=\"M17.41 7.96l-1.37-1.37c-.4-.4-.92-.59-1.43-.59-.52 0-1.04.2-1.43.59L10.3 9.45l-7.72 7.72c-.78.78-.78 2.05 0 2.83L4 21.41c.39.39.9.59 1.41.59.51 0 1.02-.2 1.41-.59l7.78-7.78 2.81-2.81c.8-.78.8-2.07 0-2.86zM5.41 20L4 18.59l7.72-7.72 1.47 1.35L5.41 20z\"/>\n",
              "  </svg>\n",
              "      </button>\n",
              "\n",
              "\n",
              "\n",
              "    <div id=\"df-90c5193d-99b3-4b2a-bd33-4ef4a588a791\">\n",
              "      <button class=\"colab-df-quickchart\" onclick=\"quickchart('df-90c5193d-99b3-4b2a-bd33-4ef4a588a791')\"\n",
              "              title=\"Suggest charts.\"\n",
              "              style=\"display:none;\">\n",
              "\n",
              "<svg xmlns=\"http://www.w3.org/2000/svg\" height=\"24px\"viewBox=\"0 0 24 24\"\n",
              "     width=\"24px\">\n",
              "    <g>\n",
              "        <path d=\"M19 3H5c-1.1 0-2 .9-2 2v14c0 1.1.9 2 2 2h14c1.1 0 2-.9 2-2V5c0-1.1-.9-2-2-2zM9 17H7v-7h2v7zm4 0h-2V7h2v10zm4 0h-2v-4h2v4z\"/>\n",
              "    </g>\n",
              "</svg>\n",
              "      </button>\n",
              "    </div>\n",
              "\n",
              "<style>\n",
              "  .colab-df-quickchart {\n",
              "    background-color: #E8F0FE;\n",
              "    border: none;\n",
              "    border-radius: 50%;\n",
              "    cursor: pointer;\n",
              "    display: none;\n",
              "    fill: #1967D2;\n",
              "    height: 32px;\n",
              "    padding: 0 0 0 0;\n",
              "    width: 32px;\n",
              "  }\n",
              "\n",
              "  .colab-df-quickchart:hover {\n",
              "    background-color: #E2EBFA;\n",
              "    box-shadow: 0px 1px 2px rgba(60, 64, 67, 0.3), 0px 1px 3px 1px rgba(60, 64, 67, 0.15);\n",
              "    fill: #174EA6;\n",
              "  }\n",
              "\n",
              "  [theme=dark] .colab-df-quickchart {\n",
              "    background-color: #3B4455;\n",
              "    fill: #D2E3FC;\n",
              "  }\n",
              "\n",
              "  [theme=dark] .colab-df-quickchart:hover {\n",
              "    background-color: #434B5C;\n",
              "    box-shadow: 0px 1px 3px 1px rgba(0, 0, 0, 0.15);\n",
              "    filter: drop-shadow(0px 1px 2px rgba(0, 0, 0, 0.3));\n",
              "    fill: #FFFFFF;\n",
              "  }\n",
              "</style>\n",
              "\n",
              "    <script>\n",
              "      async function quickchart(key) {\n",
              "        const containerElement = document.querySelector('#' + key);\n",
              "        const charts = await google.colab.kernel.invokeFunction(\n",
              "            'suggestCharts', [key], {});\n",
              "      }\n",
              "    </script>\n",
              "\n",
              "      <script>\n",
              "\n",
              "function displayQuickchartButton(domScope) {\n",
              "  let quickchartButtonEl =\n",
              "    domScope.querySelector('#df-90c5193d-99b3-4b2a-bd33-4ef4a588a791 button.colab-df-quickchart');\n",
              "  quickchartButtonEl.style.display =\n",
              "    google.colab.kernel.accessAllowed ? 'block' : 'none';\n",
              "}\n",
              "\n",
              "        displayQuickchartButton(document);\n",
              "      </script>\n",
              "      <style>\n",
              "    .colab-df-container {\n",
              "      display:flex;\n",
              "      flex-wrap:wrap;\n",
              "      gap: 12px;\n",
              "    }\n",
              "\n",
              "    .colab-df-convert {\n",
              "      background-color: #E8F0FE;\n",
              "      border: none;\n",
              "      border-radius: 50%;\n",
              "      cursor: pointer;\n",
              "      display: none;\n",
              "      fill: #1967D2;\n",
              "      height: 32px;\n",
              "      padding: 0 0 0 0;\n",
              "      width: 32px;\n",
              "    }\n",
              "\n",
              "    .colab-df-convert:hover {\n",
              "      background-color: #E2EBFA;\n",
              "      box-shadow: 0px 1px 2px rgba(60, 64, 67, 0.3), 0px 1px 3px 1px rgba(60, 64, 67, 0.15);\n",
              "      fill: #174EA6;\n",
              "    }\n",
              "\n",
              "    [theme=dark] .colab-df-convert {\n",
              "      background-color: #3B4455;\n",
              "      fill: #D2E3FC;\n",
              "    }\n",
              "\n",
              "    [theme=dark] .colab-df-convert:hover {\n",
              "      background-color: #434B5C;\n",
              "      box-shadow: 0px 1px 3px 1px rgba(0, 0, 0, 0.15);\n",
              "      filter: drop-shadow(0px 1px 2px rgba(0, 0, 0, 0.3));\n",
              "      fill: #FFFFFF;\n",
              "    }\n",
              "  </style>\n",
              "\n",
              "      <script>\n",
              "        const buttonEl =\n",
              "          document.querySelector('#df-5255717a-d175-47c9-9c1b-9e8ea591bc7c button.colab-df-convert');\n",
              "        buttonEl.style.display =\n",
              "          google.colab.kernel.accessAllowed ? 'block' : 'none';\n",
              "\n",
              "        async function convertToInteractive(key) {\n",
              "          const element = document.querySelector('#df-5255717a-d175-47c9-9c1b-9e8ea591bc7c');\n",
              "          const dataTable =\n",
              "            await google.colab.kernel.invokeFunction('convertToInteractive',\n",
              "                                                     [key], {});\n",
              "          if (!dataTable) return;\n",
              "\n",
              "          const docLinkHtml = 'Like what you see? Visit the ' +\n",
              "            '<a target=\"_blank\" href=https://colab.research.google.com/notebooks/data_table.ipynb>data table notebook</a>'\n",
              "            + ' to learn more about interactive tables.';\n",
              "          element.innerHTML = '';\n",
              "          dataTable['output_type'] = 'display_data';\n",
              "          await google.colab.output.renderOutput(dataTable, element);\n",
              "          const docLink = document.createElement('div');\n",
              "          docLink.innerHTML = docLinkHtml;\n",
              "          element.appendChild(docLink);\n",
              "        }\n",
              "      </script>\n",
              "    </div>\n",
              "  </div>\n"
            ]
          },
          "metadata": {},
          "execution_count": 57
        }
      ]
    },
    {
      "cell_type": "code",
      "source": [
        "count = df['gender'].value_counts()"
      ],
      "metadata": {
        "id": "dHBCqbp86Iz-"
      },
      "execution_count": null,
      "outputs": []
    },
    {
      "cell_type": "code",
      "source": [
        "count"
      ],
      "metadata": {
        "colab": {
          "base_uri": "https://localhost:8080/"
        },
        "id": "af3JUXW56RQ1",
        "outputId": "ac8c832b-c376-49de-841d-8628f4d03d19"
      },
      "execution_count": null,
      "outputs": [
        {
          "output_type": "execute_result",
          "data": {
            "text/plain": [
              "m    4\n",
              "f    2\n",
              "Name: gender, dtype: int64"
            ]
          },
          "metadata": {},
          "execution_count": 59
        }
      ]
    },
    {
      "cell_type": "code",
      "source": [
        "count = pd.DataFrame(count)"
      ],
      "metadata": {
        "id": "saoeySnS6R73"
      },
      "execution_count": null,
      "outputs": []
    },
    {
      "cell_type": "code",
      "source": [
        "count"
      ],
      "metadata": {
        "colab": {
          "base_uri": "https://localhost:8080/",
          "height": 112
        },
        "id": "RtGJZ3xQ6agx",
        "outputId": "a4d716bd-0208-4d04-d911-5b3df35c5070"
      },
      "execution_count": null,
      "outputs": [
        {
          "output_type": "execute_result",
          "data": {
            "text/plain": [
              "   gender\n",
              "m       4\n",
              "f       2"
            ],
            "text/html": [
              "\n",
              "\n",
              "  <div id=\"df-0b3c647e-1c8a-4f09-bdb6-3ca720561e2d\">\n",
              "    <div class=\"colab-df-container\">\n",
              "      <div>\n",
              "<style scoped>\n",
              "    .dataframe tbody tr th:only-of-type {\n",
              "        vertical-align: middle;\n",
              "    }\n",
              "\n",
              "    .dataframe tbody tr th {\n",
              "        vertical-align: top;\n",
              "    }\n",
              "\n",
              "    .dataframe thead th {\n",
              "        text-align: right;\n",
              "    }\n",
              "</style>\n",
              "<table border=\"1\" class=\"dataframe\">\n",
              "  <thead>\n",
              "    <tr style=\"text-align: right;\">\n",
              "      <th></th>\n",
              "      <th>gender</th>\n",
              "    </tr>\n",
              "  </thead>\n",
              "  <tbody>\n",
              "    <tr>\n",
              "      <th>m</th>\n",
              "      <td>4</td>\n",
              "    </tr>\n",
              "    <tr>\n",
              "      <th>f</th>\n",
              "      <td>2</td>\n",
              "    </tr>\n",
              "  </tbody>\n",
              "</table>\n",
              "</div>\n",
              "      <button class=\"colab-df-convert\" onclick=\"convertToInteractive('df-0b3c647e-1c8a-4f09-bdb6-3ca720561e2d')\"\n",
              "              title=\"Convert this dataframe to an interactive table.\"\n",
              "              style=\"display:none;\">\n",
              "\n",
              "  <svg xmlns=\"http://www.w3.org/2000/svg\" height=\"24px\"viewBox=\"0 0 24 24\"\n",
              "       width=\"24px\">\n",
              "    <path d=\"M0 0h24v24H0V0z\" fill=\"none\"/>\n",
              "    <path d=\"M18.56 5.44l.94 2.06.94-2.06 2.06-.94-2.06-.94-.94-2.06-.94 2.06-2.06.94zm-11 1L8.5 8.5l.94-2.06 2.06-.94-2.06-.94L8.5 2.5l-.94 2.06-2.06.94zm10 10l.94 2.06.94-2.06 2.06-.94-2.06-.94-.94-2.06-.94 2.06-2.06.94z\"/><path d=\"M17.41 7.96l-1.37-1.37c-.4-.4-.92-.59-1.43-.59-.52 0-1.04.2-1.43.59L10.3 9.45l-7.72 7.72c-.78.78-.78 2.05 0 2.83L4 21.41c.39.39.9.59 1.41.59.51 0 1.02-.2 1.41-.59l7.78-7.78 2.81-2.81c.8-.78.8-2.07 0-2.86zM5.41 20L4 18.59l7.72-7.72 1.47 1.35L5.41 20z\"/>\n",
              "  </svg>\n",
              "      </button>\n",
              "\n",
              "\n",
              "\n",
              "    <div id=\"df-d1b6132a-78aa-40cb-871b-e0a7d3392ffe\">\n",
              "      <button class=\"colab-df-quickchart\" onclick=\"quickchart('df-d1b6132a-78aa-40cb-871b-e0a7d3392ffe')\"\n",
              "              title=\"Suggest charts.\"\n",
              "              style=\"display:none;\">\n",
              "\n",
              "<svg xmlns=\"http://www.w3.org/2000/svg\" height=\"24px\"viewBox=\"0 0 24 24\"\n",
              "     width=\"24px\">\n",
              "    <g>\n",
              "        <path d=\"M19 3H5c-1.1 0-2 .9-2 2v14c0 1.1.9 2 2 2h14c1.1 0 2-.9 2-2V5c0-1.1-.9-2-2-2zM9 17H7v-7h2v7zm4 0h-2V7h2v10zm4 0h-2v-4h2v4z\"/>\n",
              "    </g>\n",
              "</svg>\n",
              "      </button>\n",
              "    </div>\n",
              "\n",
              "<style>\n",
              "  .colab-df-quickchart {\n",
              "    background-color: #E8F0FE;\n",
              "    border: none;\n",
              "    border-radius: 50%;\n",
              "    cursor: pointer;\n",
              "    display: none;\n",
              "    fill: #1967D2;\n",
              "    height: 32px;\n",
              "    padding: 0 0 0 0;\n",
              "    width: 32px;\n",
              "  }\n",
              "\n",
              "  .colab-df-quickchart:hover {\n",
              "    background-color: #E2EBFA;\n",
              "    box-shadow: 0px 1px 2px rgba(60, 64, 67, 0.3), 0px 1px 3px 1px rgba(60, 64, 67, 0.15);\n",
              "    fill: #174EA6;\n",
              "  }\n",
              "\n",
              "  [theme=dark] .colab-df-quickchart {\n",
              "    background-color: #3B4455;\n",
              "    fill: #D2E3FC;\n",
              "  }\n",
              "\n",
              "  [theme=dark] .colab-df-quickchart:hover {\n",
              "    background-color: #434B5C;\n",
              "    box-shadow: 0px 1px 3px 1px rgba(0, 0, 0, 0.15);\n",
              "    filter: drop-shadow(0px 1px 2px rgba(0, 0, 0, 0.3));\n",
              "    fill: #FFFFFF;\n",
              "  }\n",
              "</style>\n",
              "\n",
              "    <script>\n",
              "      async function quickchart(key) {\n",
              "        const containerElement = document.querySelector('#' + key);\n",
              "        const charts = await google.colab.kernel.invokeFunction(\n",
              "            'suggestCharts', [key], {});\n",
              "      }\n",
              "    </script>\n",
              "\n",
              "      <script>\n",
              "\n",
              "function displayQuickchartButton(domScope) {\n",
              "  let quickchartButtonEl =\n",
              "    domScope.querySelector('#df-d1b6132a-78aa-40cb-871b-e0a7d3392ffe button.colab-df-quickchart');\n",
              "  quickchartButtonEl.style.display =\n",
              "    google.colab.kernel.accessAllowed ? 'block' : 'none';\n",
              "}\n",
              "\n",
              "        displayQuickchartButton(document);\n",
              "      </script>\n",
              "      <style>\n",
              "    .colab-df-container {\n",
              "      display:flex;\n",
              "      flex-wrap:wrap;\n",
              "      gap: 12px;\n",
              "    }\n",
              "\n",
              "    .colab-df-convert {\n",
              "      background-color: #E8F0FE;\n",
              "      border: none;\n",
              "      border-radius: 50%;\n",
              "      cursor: pointer;\n",
              "      display: none;\n",
              "      fill: #1967D2;\n",
              "      height: 32px;\n",
              "      padding: 0 0 0 0;\n",
              "      width: 32px;\n",
              "    }\n",
              "\n",
              "    .colab-df-convert:hover {\n",
              "      background-color: #E2EBFA;\n",
              "      box-shadow: 0px 1px 2px rgba(60, 64, 67, 0.3), 0px 1px 3px 1px rgba(60, 64, 67, 0.15);\n",
              "      fill: #174EA6;\n",
              "    }\n",
              "\n",
              "    [theme=dark] .colab-df-convert {\n",
              "      background-color: #3B4455;\n",
              "      fill: #D2E3FC;\n",
              "    }\n",
              "\n",
              "    [theme=dark] .colab-df-convert:hover {\n",
              "      background-color: #434B5C;\n",
              "      box-shadow: 0px 1px 3px 1px rgba(0, 0, 0, 0.15);\n",
              "      filter: drop-shadow(0px 1px 2px rgba(0, 0, 0, 0.3));\n",
              "      fill: #FFFFFF;\n",
              "    }\n",
              "  </style>\n",
              "\n",
              "      <script>\n",
              "        const buttonEl =\n",
              "          document.querySelector('#df-0b3c647e-1c8a-4f09-bdb6-3ca720561e2d button.colab-df-convert');\n",
              "        buttonEl.style.display =\n",
              "          google.colab.kernel.accessAllowed ? 'block' : 'none';\n",
              "\n",
              "        async function convertToInteractive(key) {\n",
              "          const element = document.querySelector('#df-0b3c647e-1c8a-4f09-bdb6-3ca720561e2d');\n",
              "          const dataTable =\n",
              "            await google.colab.kernel.invokeFunction('convertToInteractive',\n",
              "                                                     [key], {});\n",
              "          if (!dataTable) return;\n",
              "\n",
              "          const docLinkHtml = 'Like what you see? Visit the ' +\n",
              "            '<a target=\"_blank\" href=https://colab.research.google.com/notebooks/data_table.ipynb>data table notebook</a>'\n",
              "            + ' to learn more about interactive tables.';\n",
              "          element.innerHTML = '';\n",
              "          dataTable['output_type'] = 'display_data';\n",
              "          await google.colab.output.renderOutput(dataTable, element);\n",
              "          const docLink = document.createElement('div');\n",
              "          docLink.innerHTML = docLinkHtml;\n",
              "          element.appendChild(docLink);\n",
              "        }\n",
              "      </script>\n",
              "    </div>\n",
              "  </div>\n"
            ]
          },
          "metadata": {},
          "execution_count": 61
        }
      ]
    },
    {
      "cell_type": "code",
      "source": [
        "count.index"
      ],
      "metadata": {
        "colab": {
          "base_uri": "https://localhost:8080/"
        },
        "id": "uGfodFog6oKv",
        "outputId": "b07aed05-a28a-4c90-cec6-483612c55977"
      },
      "execution_count": null,
      "outputs": [
        {
          "output_type": "execute_result",
          "data": {
            "text/plain": [
              "Index(['m', 'f'], dtype='object')"
            ]
          },
          "metadata": {},
          "execution_count": 62
        }
      ]
    },
    {
      "cell_type": "code",
      "source": [
        "count['gender']"
      ],
      "metadata": {
        "colab": {
          "base_uri": "https://localhost:8080/"
        },
        "id": "jy6Lqjvo652l",
        "outputId": "b85cb270-415d-412a-944e-50b69ab629b6"
      },
      "execution_count": null,
      "outputs": [
        {
          "output_type": "execute_result",
          "data": {
            "text/plain": [
              "m    4\n",
              "f    2\n",
              "Name: gender, dtype: int64"
            ]
          },
          "metadata": {},
          "execution_count": 63
        }
      ]
    },
    {
      "cell_type": "code",
      "source": [
        "plt.bar(count.index, count['gender'])\n",
        "plt.show()"
      ],
      "metadata": {
        "colab": {
          "base_uri": "https://localhost:8080/",
          "height": 430
        },
        "id": "GBPH7_w46baf",
        "outputId": "4cac57cc-82fc-42d9-c1ed-f65089433445"
      },
      "execution_count": null,
      "outputs": [
        {
          "output_type": "display_data",
          "data": {
            "text/plain": [
              "<Figure size 640x480 with 1 Axes>"
            ],
            "image/png": "[encoded data removed]"
          },
          "metadata": {}
        }
      ]
    },
    {
      "cell_type": "code",
      "source": [
        "male = df[df['gender'] == 'm']\n",
        "female = df[df['gender'] == 'f']"
      ],
      "metadata": {
        "id": "CAjsxn1b6tP2"
      },
      "execution_count": null,
      "outputs": []
    },
    {
      "cell_type": "code",
      "source": [
        "male"
      ],
      "metadata": {
        "colab": {
          "base_uri": "https://localhost:8080/",
          "height": 175
        },
        "id": "uObpGnMz71R4",
        "outputId": "294948cd-de58-44f2-972c-4ae59d287f79"
      },
      "execution_count": null,
      "outputs": [
        {
          "output_type": "execute_result",
          "data": {
            "text/plain": [
              "      name  age gender\n",
              "0    ahmed   19      m\n",
              "1      ali   23      m\n",
              "2   yasser   22      m\n",
              "5  mohamed   22      m"
            ],
            "text/html": [
              "\n",
              "\n",
              "  <div id=\"df-67aeb057-e2ae-480e-b34b-d6eb7032dddf\">\n",
              "    <div class=\"colab-df-container\">\n",
              "      <div>\n",
              "<style scoped>\n",
              "    .dataframe tbody tr th:only-of-type {\n",
              "        vertical-align: middle;\n",
              "    }\n",
              "\n",
              "    .dataframe tbody tr th {\n",
              "        vertical-align: top;\n",
              "    }\n",
              "\n",
              "    .dataframe thead th {\n",
              "        text-align: right;\n",
              "    }\n",
              "</style>\n",
              "<table border=\"1\" class=\"dataframe\">\n",
              "  <thead>\n",
              "    <tr style=\"text-align: right;\">\n",
              "      <th></th>\n",
              "      <th>name</th>\n",
              "      <th>age</th>\n",
              "      <th>gender</th>\n",
              "    </tr>\n",
              "  </thead>\n",
              "  <tbody>\n",
              "    <tr>\n",
              "      <th>0</th>\n",
              "      <td>ahmed</td>\n",
              "      <td>19</td>\n",
              "      <td>m</td>\n",
              "    </tr>\n",
              "    <tr>\n",
              "      <th>1</th>\n",
              "      <td>ali</td>\n",
              "      <td>23</td>\n",
              "      <td>m</td>\n",
              "    </tr>\n",
              "    <tr>\n",
              "      <th>2</th>\n",
              "      <td>yasser</td>\n",
              "      <td>22</td>\n",
              "      <td>m</td>\n",
              "    </tr>\n",
              "    <tr>\n",
              "      <th>5</th>\n",
              "      <td>mohamed</td>\n",
              "      <td>22</td>\n",
              "      <td>m</td>\n",
              "    </tr>\n",
              "  </tbody>\n",
              "</table>\n",
              "</div>\n",
              "      <button class=\"colab-df-convert\" onclick=\"convertToInteractive('df-67aeb057-e2ae-480e-b34b-d6eb7032dddf')\"\n",
              "              title=\"Convert this dataframe to an interactive table.\"\n",
              "              style=\"display:none;\">\n",
              "\n",
              "  <svg xmlns=\"http://www.w3.org/2000/svg\" height=\"24px\"viewBox=\"0 0 24 24\"\n",
              "       width=\"24px\">\n",
              "    <path d=\"M0 0h24v24H0V0z\" fill=\"none\"/>\n",
              "    <path d=\"M18.56 5.44l.94 2.06.94-2.06 2.06-.94-2.06-.94-.94-2.06-.94 2.06-2.06.94zm-11 1L8.5 8.5l.94-2.06 2.06-.94-2.06-.94L8.5 2.5l-.94 2.06-2.06.94zm10 10l.94 2.06.94-2.06 2.06-.94-2.06-.94-.94-2.06-.94 2.06-2.06.94z\"/><path d=\"M17.41 7.96l-1.37-1.37c-.4-.4-.92-.59-1.43-.59-.52 0-1.04.2-1.43.59L10.3 9.45l-7.72 7.72c-.78.78-.78 2.05 0 2.83L4 21.41c.39.39.9.59 1.41.59.51 0 1.02-.2 1.41-.59l7.78-7.78 2.81-2.81c.8-.78.8-2.07 0-2.86zM5.41 20L4 18.59l7.72-7.72 1.47 1.35L5.41 20z\"/>\n",
              "  </svg>\n",
              "      </button>\n",
              "\n",
              "\n",
              "\n",
              "    <div id=\"df-8e0b2474-50e9-4a04-9122-f73f0a5a63c0\">\n",
              "      <button class=\"colab-df-quickchart\" onclick=\"quickchart('df-8e0b2474-50e9-4a04-9122-f73f0a5a63c0')\"\n",
              "              title=\"Suggest charts.\"\n",
              "              style=\"display:none;\">\n",
              "\n",
              "<svg xmlns=\"http://www.w3.org/2000/svg\" height=\"24px\"viewBox=\"0 0 24 24\"\n",
              "     width=\"24px\">\n",
              "    <g>\n",
              "        <path d=\"M19 3H5c-1.1 0-2 .9-2 2v14c0 1.1.9 2 2 2h14c1.1 0 2-.9 2-2V5c0-1.1-.9-2-2-2zM9 17H7v-7h2v7zm4 0h-2V7h2v10zm4 0h-2v-4h2v4z\"/>\n",
              "    </g>\n",
              "</svg>\n",
              "      </button>\n",
              "    </div>\n",
              "\n",
              "<style>\n",
              "  .colab-df-quickchart {\n",
              "    background-color: #E8F0FE;\n",
              "    border: none;\n",
              "    border-radius: 50%;\n",
              "    cursor: pointer;\n",
              "    display: none;\n",
              "    fill: #1967D2;\n",
              "    height: 32px;\n",
              "    padding: 0 0 0 0;\n",
              "    width: 32px;\n",
              "  }\n",
              "\n",
              "  .colab-df-quickchart:hover {\n",
              "    background-color: #E2EBFA;\n",
              "    box-shadow: 0px 1px 2px rgba(60, 64, 67, 0.3), 0px 1px 3px 1px rgba(60, 64, 67, 0.15);\n",
              "    fill: #174EA6;\n",
              "  }\n",
              "\n",
              "  [theme=dark] .colab-df-quickchart {\n",
              "    background-color: #3B4455;\n",
              "    fill: #D2E3FC;\n",
              "  }\n",
              "\n",
              "  [theme=dark] .colab-df-quickchart:hover {\n",
              "    background-color: #434B5C;\n",
              "    box-shadow: 0px 1px 3px 1px rgba(0, 0, 0, 0.15);\n",
              "    filter: drop-shadow(0px 1px 2px rgba(0, 0, 0, 0.3));\n",
              "    fill: #FFFFFF;\n",
              "  }\n",
              "</style>\n",
              "\n",
              "    <script>\n",
              "      async function quickchart(key) {\n",
              "        const containerElement = document.querySelector('#' + key);\n",
              "        const charts = await google.colab.kernel.invokeFunction(\n",
              "            'suggestCharts', [key], {});\n",
              "      }\n",
              "    </script>\n",
              "\n",
              "      <script>\n",
              "\n",
              "function displayQuickchartButton(domScope) {\n",
              "  let quickchartButtonEl =\n",
              "    domScope.querySelector('#df-8e0b2474-50e9-4a04-9122-f73f0a5a63c0 button.colab-df-quickchart');\n",
              "  quickchartButtonEl.style.display =\n",
              "    google.colab.kernel.accessAllowed ? 'block' : 'none';\n",
              "}\n",
              "\n",
              "        displayQuickchartButton(document);\n",
              "      </script>\n",
              "      <style>\n",
              "    .colab-df-container {\n",
              "      display:flex;\n",
              "      flex-wrap:wrap;\n",
              "      gap: 12px;\n",
              "    }\n",
              "\n",
              "    .colab-df-convert {\n",
              "      background-color: #E8F0FE;\n",
              "      border: none;\n",
              "      border-radius: 50%;\n",
              "      cursor: pointer;\n",
              "      display: none;\n",
              "      fill: #1967D2;\n",
              "      height: 32px;\n",
              "      padding: 0 0 0 0;\n",
              "      width: 32px;\n",
              "    }\n",
              "\n",
              "    .colab-df-convert:hover {\n",
              "      background-color: #E2EBFA;\n",
              "      box-shadow: 0px 1px 2px rgba(60, 64, 67, 0.3), 0px 1px 3px 1px rgba(60, 64, 67, 0.15);\n",
              "      fill: #174EA6;\n",
              "    }\n",
              "\n",
              "    [theme=dark] .colab-df-convert {\n",
              "      background-color: #3B4455;\n",
              "      fill: #D2E3FC;\n",
              "    }\n",
              "\n",
              "    [theme=dark] .colab-df-convert:hover {\n",
              "      background-color: #434B5C;\n",
              "      box-shadow: 0px 1px 3px 1px rgba(0, 0, 0, 0.15);\n",
              "      filter: drop-shadow(0px 1px 2px rgba(0, 0, 0, 0.3));\n",
              "      fill: #FFFFFF;\n",
              "    }\n",
              "  </style>\n",
              "\n",
              "      <script>\n",
              "        const buttonEl =\n",
              "          document.querySelector('#df-67aeb057-e2ae-480e-b34b-d6eb7032dddf button.colab-df-convert');\n",
              "        buttonEl.style.display =\n",
              "          google.colab.kernel.accessAllowed ? 'block' : 'none';\n",
              "\n",
              "        async function convertToInteractive(key) {\n",
              "          const element = document.querySelector('#df-67aeb057-e2ae-480e-b34b-d6eb7032dddf');\n",
              "          const dataTable =\n",
              "            await google.colab.kernel.invokeFunction('convertToInteractive',\n",
              "                                                     [key], {});\n",
              "          if (!dataTable) return;\n",
              "\n",
              "          const docLinkHtml = 'Like what you see? Visit the ' +\n",
              "            '<a target=\"_blank\" href=https://colab.research.google.com/notebooks/data_table.ipynb>data table notebook</a>'\n",
              "            + ' to learn more about interactive tables.';\n",
              "          element.innerHTML = '';\n",
              "          dataTable['output_type'] = 'display_data';\n",
              "          await google.colab.output.renderOutput(dataTable, element);\n",
              "          const docLink = document.createElement('div');\n",
              "          docLink.innerHTML = docLinkHtml;\n",
              "          element.appendChild(docLink);\n",
              "        }\n",
              "      </script>\n",
              "    </div>\n",
              "  </div>\n"
            ]
          },
          "metadata": {},
          "execution_count": 66
        }
      ]
    },
    {
      "cell_type": "code",
      "source": [
        "male_count = male['age'].value_counts()\n",
        "male_count_df = pd.DataFrame(male_count)\n",
        "female_count = female['age'].value_counts()\n",
        "female_count_df = pd.DataFrame(female_count)"
      ],
      "metadata": {
        "id": "hlmj-irL7wTg"
      },
      "execution_count": null,
      "outputs": []
    },
    {
      "cell_type": "code",
      "source": [
        "male_count_df"
      ],
      "metadata": {
        "colab": {
          "base_uri": "https://localhost:8080/",
          "height": 143
        },
        "id": "ENuDtqWA79AW",
        "outputId": "18ac865d-cf93-4bd2-d8e5-1a08463de635"
      },
      "execution_count": null,
      "outputs": [
        {
          "output_type": "execute_result",
          "data": {
            "text/plain": [
              "    age\n",
              "22    2\n",
              "19    1\n",
              "23    1"
            ],
            "text/html": [
              "\n",
              "\n",
              "  <div id=\"df-03c6971a-899f-42cc-9147-93bd770783a0\">\n",
              "    <div class=\"colab-df-container\">\n",
              "      <div>\n",
              "<style scoped>\n",
              "    .dataframe tbody tr th:only-of-type {\n",
              "        vertical-align: middle;\n",
              "    }\n",
              "\n",
              "    .dataframe tbody tr th {\n",
              "        vertical-align: top;\n",
              "    }\n",
              "\n",
              "    .dataframe thead th {\n",
              "        text-align: right;\n",
              "    }\n",
              "</style>\n",
              "<table border=\"1\" class=\"dataframe\">\n",
              "  <thead>\n",
              "    <tr style=\"text-align: right;\">\n",
              "      <th></th>\n",
              "      <th>age</th>\n",
              "    </tr>\n",
              "  </thead>\n",
              "  <tbody>\n",
              "    <tr>\n",
              "      <th>22</th>\n",
              "      <td>2</td>\n",
              "    </tr>\n",
              "    <tr>\n",
              "      <th>19</th>\n",
              "      <td>1</td>\n",
              "    </tr>\n",
              "    <tr>\n",
              "      <th>23</th>\n",
              "      <td>1</td>\n",
              "    </tr>\n",
              "  </tbody>\n",
              "</table>\n",
              "</div>\n",
              "      <button class=\"colab-df-convert\" onclick=\"convertToInteractive('df-03c6971a-899f-42cc-9147-93bd770783a0')\"\n",
              "              title=\"Convert this dataframe to an interactive table.\"\n",
              "              style=\"display:none;\">\n",
              "\n",
              "  <svg xmlns=\"http://www.w3.org/2000/svg\" height=\"24px\"viewBox=\"0 0 24 24\"\n",
              "       width=\"24px\">\n",
              "    <path d=\"M0 0h24v24H0V0z\" fill=\"none\"/>\n",
              "    <path d=\"M18.56 5.44l.94 2.06.94-2.06 2.06-.94-2.06-.94-.94-2.06-.94 2.06-2.06.94zm-11 1L8.5 8.5l.94-2.06 2.06-.94-2.06-.94L8.5 2.5l-.94 2.06-2.06.94zm10 10l.94 2.06.94-2.06 2.06-.94-2.06-.94-.94-2.06-.94 2.06-2.06.94z\"/><path d=\"M17.41 7.96l-1.37-1.37c-.4-.4-.92-.59-1.43-.59-.52 0-1.04.2-1.43.59L10.3 9.45l-7.72 7.72c-.78.78-.78 2.05 0 2.83L4 21.41c.39.39.9.59 1.41.59.51 0 1.02-.2 1.41-.59l7.78-7.78 2.81-2.81c.8-.78.8-2.07 0-2.86zM5.41 20L4 18.59l7.72-7.72 1.47 1.35L5.41 20z\"/>\n",
              "  </svg>\n",
              "      </button>\n",
              "\n",
              "\n",
              "\n",
              "    <div id=\"df-41c24587-46e5-44b3-8e03-9b3afc1a0e09\">\n",
              "      <button class=\"colab-df-quickchart\" onclick=\"quickchart('df-41c24587-46e5-44b3-8e03-9b3afc1a0e09')\"\n",
              "              title=\"Suggest charts.\"\n",
              "              style=\"display:none;\">\n",
              "\n",
              "<svg xmlns=\"http://www.w3.org/2000/svg\" height=\"24px\"viewBox=\"0 0 24 24\"\n",
              "     width=\"24px\">\n",
              "    <g>\n",
              "        <path d=\"M19 3H5c-1.1 0-2 .9-2 2v14c0 1.1.9 2 2 2h14c1.1 0 2-.9 2-2V5c0-1.1-.9-2-2-2zM9 17H7v-7h2v7zm4 0h-2V7h2v10zm4 0h-2v-4h2v4z\"/>\n",
              "    </g>\n",
              "</svg>\n",
              "      </button>\n",
              "    </div>\n",
              "\n",
              "<style>\n",
              "  .colab-df-quickchart {\n",
              "    background-color: #E8F0FE;\n",
              "    border: none;\n",
              "    border-radius: 50%;\n",
              "    cursor: pointer;\n",
              "    display: none;\n",
              "    fill: #1967D2;\n",
              "    height: 32px;\n",
              "    padding: 0 0 0 0;\n",
              "    width: 32px;\n",
              "  }\n",
              "\n",
              "  .colab-df-quickchart:hover {\n",
              "    background-color: #E2EBFA;\n",
              "    box-shadow: 0px 1px 2px rgba(60, 64, 67, 0.3), 0px 1px 3px 1px rgba(60, 64, 67, 0.15);\n",
              "    fill: #174EA6;\n",
              "  }\n",
              "\n",
              "  [theme=dark] .colab-df-quickchart {\n",
              "    background-color: #3B4455;\n",
              "    fill: #D2E3FC;\n",
              "  }\n",
              "\n",
              "  [theme=dark] .colab-df-quickchart:hover {\n",
              "    background-color: #434B5C;\n",
              "    box-shadow: 0px 1px 3px 1px rgba(0, 0, 0, 0.15);\n",
              "    filter: drop-shadow(0px 1px 2px rgba(0, 0, 0, 0.3));\n",
              "    fill: #FFFFFF;\n",
              "  }\n",
              "</style>\n",
              "\n",
              "    <script>\n",
              "      async function quickchart(key) {\n",
              "        const containerElement = document.querySelector('#' + key);\n",
              "        const charts = await google.colab.kernel.invokeFunction(\n",
              "            'suggestCharts', [key], {});\n",
              "      }\n",
              "    </script>\n",
              "\n",
              "      <script>\n",
              "\n",
              "function displayQuickchartButton(domScope) {\n",
              "  let quickchartButtonEl =\n",
              "    domScope.querySelector('#df-41c24587-46e5-44b3-8e03-9b3afc1a0e09 button.colab-df-quickchart');\n",
              "  quickchartButtonEl.style.display =\n",
              "    google.colab.kernel.accessAllowed ? 'block' : 'none';\n",
              "}\n",
              "\n",
              "        displayQuickchartButton(document);\n",
              "      </script>\n",
              "      <style>\n",
              "    .colab-df-container {\n",
              "      display:flex;\n",
              "      flex-wrap:wrap;\n",
              "      gap: 12px;\n",
              "    }\n",
              "\n",
              "    .colab-df-convert {\n",
              "      background-color: #E8F0FE;\n",
              "      border: none;\n",
              "      border-radius: 50%;\n",
              "      cursor: pointer;\n",
              "      display: none;\n",
              "      fill: #1967D2;\n",
              "      height: 32px;\n",
              "      padding: 0 0 0 0;\n",
              "      width: 32px;\n",
              "    }\n",
              "\n",
              "    .colab-df-convert:hover {\n",
              "      background-color: #E2EBFA;\n",
              "      box-shadow: 0px 1px 2px rgba(60, 64, 67, 0.3), 0px 1px 3px 1px rgba(60, 64, 67, 0.15);\n",
              "      fill: #174EA6;\n",
              "    }\n",
              "\n",
              "    [theme=dark] .colab-df-convert {\n",
              "      background-color: #3B4455;\n",
              "      fill: #D2E3FC;\n",
              "    }\n",
              "\n",
              "    [theme=dark] .colab-df-convert:hover {\n",
              "      background-color: #434B5C;\n",
              "      box-shadow: 0px 1px 3px 1px rgba(0, 0, 0, 0.15);\n",
              "      filter: drop-shadow(0px 1px 2px rgba(0, 0, 0, 0.3));\n",
              "      fill: #FFFFFF;\n",
              "    }\n",
              "  </style>\n",
              "\n",
              "      <script>\n",
              "        const buttonEl =\n",
              "          document.querySelector('#df-03c6971a-899f-42cc-9147-93bd770783a0 button.colab-df-convert');\n",
              "        buttonEl.style.display =\n",
              "          google.colab.kernel.accessAllowed ? 'block' : 'none';\n",
              "\n",
              "        async function convertToInteractive(key) {\n",
              "          const element = document.querySelector('#df-03c6971a-899f-42cc-9147-93bd770783a0');\n",
              "          const dataTable =\n",
              "            await google.colab.kernel.invokeFunction('convertToInteractive',\n",
              "                                                     [key], {});\n",
              "          if (!dataTable) return;\n",
              "\n",
              "          const docLinkHtml = 'Like what you see? Visit the ' +\n",
              "            '<a target=\"_blank\" href=https://colab.research.google.com/notebooks/data_table.ipynb>data table notebook</a>'\n",
              "            + ' to learn more about interactive tables.';\n",
              "          element.innerHTML = '';\n",
              "          dataTable['output_type'] = 'display_data';\n",
              "          await google.colab.output.renderOutput(dataTable, element);\n",
              "          const docLink = document.createElement('div');\n",
              "          docLink.innerHTML = docLinkHtml;\n",
              "          element.appendChild(docLink);\n",
              "        }\n",
              "      </script>\n",
              "    </div>\n",
              "  </div>\n"
            ]
          },
          "metadata": {},
          "execution_count": 71
        }
      ]
    },
    {
      "cell_type": "code",
      "source": [
        "female_count_df"
      ],
      "metadata": {
        "colab": {
          "base_uri": "https://localhost:8080/",
          "height": 112
        },
        "id": "Pid8A0GG8IjK",
        "outputId": "a8da586a-6d39-4265-d98e-79c362b00826"
      },
      "execution_count": null,
      "outputs": [
        {
          "output_type": "execute_result",
          "data": {
            "text/plain": [
              "    age\n",
              "19    1\n",
              "20    1"
            ],
            "text/html": [
              "\n",
              "\n",
              "  <div id=\"df-b8f8b987-a25f-4bd9-bf46-53e4e2322077\">\n",
              "    <div class=\"colab-df-container\">\n",
              "      <div>\n",
              "<style scoped>\n",
              "    .dataframe tbody tr th:only-of-type {\n",
              "        vertical-align: middle;\n",
              "    }\n",
              "\n",
              "    .dataframe tbody tr th {\n",
              "        vertical-align: top;\n",
              "    }\n",
              "\n",
              "    .dataframe thead th {\n",
              "        text-align: right;\n",
              "    }\n",
              "</style>\n",
              "<table border=\"1\" class=\"dataframe\">\n",
              "  <thead>\n",
              "    <tr style=\"text-align: right;\">\n",
              "      <th></th>\n",
              "      <th>age</th>\n",
              "    </tr>\n",
              "  </thead>\n",
              "  <tbody>\n",
              "    <tr>\n",
              "      <th>19</th>\n",
              "      <td>1</td>\n",
              "    </tr>\n",
              "    <tr>\n",
              "      <th>20</th>\n",
              "      <td>1</td>\n",
              "    </tr>\n",
              "  </tbody>\n",
              "</table>\n",
              "</div>\n",
              "      <button class=\"colab-df-convert\" onclick=\"convertToInteractive('df-b8f8b987-a25f-4bd9-bf46-53e4e2322077')\"\n",
              "              title=\"Convert this dataframe to an interactive table.\"\n",
              "              style=\"display:none;\">\n",
              "\n",
              "  <svg xmlns=\"http://www.w3.org/2000/svg\" height=\"24px\"viewBox=\"0 0 24 24\"\n",
              "       width=\"24px\">\n",
              "    <path d=\"M0 0h24v24H0V0z\" fill=\"none\"/>\n",
              "    <path d=\"M18.56 5.44l.94 2.06.94-2.06 2.06-.94-2.06-.94-.94-2.06-.94 2.06-2.06.94zm-11 1L8.5 8.5l.94-2.06 2.06-.94-2.06-.94L8.5 2.5l-.94 2.06-2.06.94zm10 10l.94 2.06.94-2.06 2.06-.94-2.06-.94-.94-2.06-.94 2.06-2.06.94z\"/><path d=\"M17.41 7.96l-1.37-1.37c-.4-.4-.92-.59-1.43-.59-.52 0-1.04.2-1.43.59L10.3 9.45l-7.72 7.72c-.78.78-.78 2.05 0 2.83L4 21.41c.39.39.9.59 1.41.59.51 0 1.02-.2 1.41-.59l7.78-7.78 2.81-2.81c.8-.78.8-2.07 0-2.86zM5.41 20L4 18.59l7.72-7.72 1.47 1.35L5.41 20z\"/>\n",
              "  </svg>\n",
              "      </button>\n",
              "\n",
              "\n",
              "\n",
              "    <div id=\"df-46064b76-b808-4f9b-8c9b-5a96a4a18b7d\">\n",
              "      <button class=\"colab-df-quickchart\" onclick=\"quickchart('df-46064b76-b808-4f9b-8c9b-5a96a4a18b7d')\"\n",
              "              title=\"Suggest charts.\"\n",
              "              style=\"display:none;\">\n",
              "\n",
              "<svg xmlns=\"http://www.w3.org/2000/svg\" height=\"24px\"viewBox=\"0 0 24 24\"\n",
              "     width=\"24px\">\n",
              "    <g>\n",
              "        <path d=\"M19 3H5c-1.1 0-2 .9-2 2v14c0 1.1.9 2 2 2h14c1.1 0 2-.9 2-2V5c0-1.1-.9-2-2-2zM9 17H7v-7h2v7zm4 0h-2V7h2v10zm4 0h-2v-4h2v4z\"/>\n",
              "    </g>\n",
              "</svg>\n",
              "      </button>\n",
              "    </div>\n",
              "\n",
              "<style>\n",
              "  .colab-df-quickchart {\n",
              "    background-color: #E8F0FE;\n",
              "    border: none;\n",
              "    border-radius: 50%;\n",
              "    cursor: pointer;\n",
              "    display: none;\n",
              "    fill: #1967D2;\n",
              "    height: 32px;\n",
              "    padding: 0 0 0 0;\n",
              "    width: 32px;\n",
              "  }\n",
              "\n",
              "  .colab-df-quickchart:hover {\n",
              "    background-color: #E2EBFA;\n",
              "    box-shadow: 0px 1px 2px rgba(60, 64, 67, 0.3), 0px 1px 3px 1px rgba(60, 64, 67, 0.15);\n",
              "    fill: #174EA6;\n",
              "  }\n",
              "\n",
              "  [theme=dark] .colab-df-quickchart {\n",
              "    background-color: #3B4455;\n",
              "    fill: #D2E3FC;\n",
              "  }\n",
              "\n",
              "  [theme=dark] .colab-df-quickchart:hover {\n",
              "    background-color: #434B5C;\n",
              "    box-shadow: 0px 1px 3px 1px rgba(0, 0, 0, 0.15);\n",
              "    filter: drop-shadow(0px 1px 2px rgba(0, 0, 0, 0.3));\n",
              "    fill: #FFFFFF;\n",
              "  }\n",
              "</style>\n",
              "\n",
              "    <script>\n",
              "      async function quickchart(key) {\n",
              "        const containerElement = document.querySelector('#' + key);\n",
              "        const charts = await google.colab.kernel.invokeFunction(\n",
              "            'suggestCharts', [key], {});\n",
              "      }\n",
              "    </script>\n",
              "\n",
              "      <script>\n",
              "\n",
              "function displayQuickchartButton(domScope) {\n",
              "  let quickchartButtonEl =\n",
              "    domScope.querySelector('#df-46064b76-b808-4f9b-8c9b-5a96a4a18b7d button.colab-df-quickchart');\n",
              "  quickchartButtonEl.style.display =\n",
              "    google.colab.kernel.accessAllowed ? 'block' : 'none';\n",
              "}\n",
              "\n",
              "        displayQuickchartButton(document);\n",
              "      </script>\n",
              "      <style>\n",
              "    .colab-df-container {\n",
              "      display:flex;\n",
              "      flex-wrap:wrap;\n",
              "      gap: 12px;\n",
              "    }\n",
              "\n",
              "    .colab-df-convert {\n",
              "      background-color: #E8F0FE;\n",
              "      border: none;\n",
              "      border-radius: 50%;\n",
              "      cursor: pointer;\n",
              "      display: none;\n",
              "      fill: #1967D2;\n",
              "      height: 32px;\n",
              "      padding: 0 0 0 0;\n",
              "      width: 32px;\n",
              "    }\n",
              "\n",
              "    .colab-df-convert:hover {\n",
              "      background-color: #E2EBFA;\n",
              "      box-shadow: 0px 1px 2px rgba(60, 64, 67, 0.3), 0px 1px 3px 1px rgba(60, 64, 67, 0.15);\n",
              "      fill: #174EA6;\n",
              "    }\n",
              "\n",
              "    [theme=dark] .colab-df-convert {\n",
              "      background-color: #3B4455;\n",
              "      fill: #D2E3FC;\n",
              "    }\n",
              "\n",
              "    [theme=dark] .colab-df-convert:hover {\n",
              "      background-color: #434B5C;\n",
              "      box-shadow: 0px 1px 3px 1px rgba(0, 0, 0, 0.15);\n",
              "      filter: drop-shadow(0px 1px 2px rgba(0, 0, 0, 0.3));\n",
              "      fill: #FFFFFF;\n",
              "    }\n",
              "  </style>\n",
              "\n",
              "      <script>\n",
              "        const buttonEl =\n",
              "          document.querySelector('#df-b8f8b987-a25f-4bd9-bf46-53e4e2322077 button.colab-df-convert');\n",
              "        buttonEl.style.display =\n",
              "          google.colab.kernel.accessAllowed ? 'block' : 'none';\n",
              "\n",
              "        async function convertToInteractive(key) {\n",
              "          const element = document.querySelector('#df-b8f8b987-a25f-4bd9-bf46-53e4e2322077');\n",
              "          const dataTable =\n",
              "            await google.colab.kernel.invokeFunction('convertToInteractive',\n",
              "                                                     [key], {});\n",
              "          if (!dataTable) return;\n",
              "\n",
              "          const docLinkHtml = 'Like what you see? Visit the ' +\n",
              "            '<a target=\"_blank\" href=https://colab.research.google.com/notebooks/data_table.ipynb>data table notebook</a>'\n",
              "            + ' to learn more about interactive tables.';\n",
              "          element.innerHTML = '';\n",
              "          dataTable['output_type'] = 'display_data';\n",
              "          await google.colab.output.renderOutput(dataTable, element);\n",
              "          const docLink = document.createElement('div');\n",
              "          docLink.innerHTML = docLinkHtml;\n",
              "          element.appendChild(docLink);\n",
              "        }\n",
              "      </script>\n",
              "    </div>\n",
              "  </div>\n"
            ]
          },
          "metadata": {},
          "execution_count": 72
        }
      ]
    },
    {
      "cell_type": "code",
      "source": [
        "plt.bar(male_count_df.index, male_count_df['age'])"
      ],
      "metadata": {
        "colab": {
          "base_uri": "https://localhost:8080/",
          "height": 448
        },
        "id": "ya5rQPjT8pvf",
        "outputId": "dd5a95a3-5c76-4a37-af67-af4d8052a44b"
      },
      "execution_count": null,
      "outputs": [
        {
          "output_type": "execute_result",
          "data": {
            "text/plain": [
              "<BarContainer object of 3 artists>"
            ]
          },
          "metadata": {},
          "execution_count": 73
        },
        {
          "output_type": "display_data",
          "data": {
            "text/plain": [
              "<Figure size 640x480 with 1 Axes>"
            ],
            "image/png": "[encoded data removed]"
          },
          "metadata": {}
        }
      ]
    },
    {
      "cell_type": "code",
      "source": [
        "plt.hist(df[df['gender'] == 'm']['age']);"
      ],
      "metadata": {
        "id": "SZMwxrJrN4yb",
        "colab": {
          "base_uri": "https://localhost:8080/",
          "height": 430
        },
        "outputId": "c966c5aa-765f-4851-f430-2eaed2bfd305"
      },
      "execution_count": null,
      "outputs": [
        {
          "output_type": "display_data",
          "data": {
            "text/plain": [
              "<Figure size 640x480 with 1 Axes>"
            ],
            "image/png": "[encoded data removed]"
          },
          "metadata": {}
        }
      ]
    },
    {
      "cell_type": "code",
      "source": [
        "counts = df[df['gender'] == 'm']['age'].value_counts()"
      ],
      "metadata": {
        "id": "TvzgTe8vQMCa"
      },
      "execution_count": null,
      "outputs": []
    },
    {
      "cell_type": "code",
      "source": [
        "counts"
      ],
      "metadata": {
        "colab": {
          "base_uri": "https://localhost:8080/"
        },
        "id": "lX6nrCbzUOrU",
        "outputId": "71f129b3-7963-41ea-96e3-9e8f7c306a41"
      },
      "execution_count": null,
      "outputs": [
        {
          "output_type": "execute_result",
          "data": {
            "text/plain": [
              "22    2\n",
              "19    1\n",
              "23    1\n",
              "Name: age, dtype: int64"
            ]
          },
          "metadata": {},
          "execution_count": 129
        }
      ]
    },
    {
      "cell_type": "code",
      "source": [
        "counts.index.values.tolist()"
      ],
      "metadata": {
        "colab": {
          "base_uri": "https://localhost:8080/"
        },
        "id": "MLT9DIN0URT-",
        "outputId": "40c463c6-7715-4222-e311-ad1483c84cb6"
      },
      "execution_count": null,
      "outputs": [
        {
          "output_type": "execute_result",
          "data": {
            "text/plain": [
              "[22, 19, 23]"
            ]
          },
          "metadata": {},
          "execution_count": 130
        }
      ]
    },
    {
      "cell_type": "code",
      "source": [
        "plt.pie(counts, labels=counts.index.values.tolist());"
      ],
      "metadata": {
        "colab": {
          "base_uri": "https://localhost:8080/",
          "height": 406
        },
        "id": "2vhveNGqUUu5",
        "outputId": "1b6f5d6f-09bd-4471-c371-07683ac80e94"
      },
      "execution_count": null,
      "outputs": [
        {
          "output_type": "display_data",
          "data": {
            "text/plain": [
              "<Figure size 640x480 with 1 Axes>"
            ],
            "image/png": "[encoded data removed]"
          },
          "metadata": {}
        }
      ]
    },
    {
      "cell_type": "code",
      "source": [
        "import pandas as pd\n",
        "airbnb = pd.read_csv('airbnb-listings.csv')"
      ],
      "metadata": {
        "id": "M-OlSaA4UcuW"
      },
      "execution_count": 2,
      "outputs": []
    },
    {
      "cell_type": "code",
      "source": [
        "airbnb.shape"
      ],
      "metadata": {
        "colab": {
          "base_uri": "https://localhost:8080/"
        },
        "id": "xm_nf5rjzQ5o",
        "outputId": "5ac5e639-c805-4804-c510-3b2db2e7357c"
      },
      "execution_count": 4,
      "outputs": [
        {
          "output_type": "execute_result",
          "data": {
            "text/plain": [
              "(7608, 18)"
            ]
          },
          "metadata": {},
          "execution_count": 4
        }
      ]
    },
    {
      "cell_type": "code",
      "source": [
        "airbnb.head()"
      ],
      "metadata": {
        "colab": {
          "base_uri": "https://localhost:8080/",
          "height": 686
        },
        "id": "NdEU1Q1-zZO6",
        "outputId": "fcba7496-2337-41f8-c260-40fcfce9651f"
      },
      "execution_count": 5,
      "outputs": [
        {
          "output_type": "execute_result",
          "data": {
            "text/plain": [
              "       id                                               name  host_id  \\\n",
              "0    2818  Condo in Amsterdam · ★4.89 · 1 bedroom · 2 bed...     3159   \n",
              "1   20168  Townhouse in Amsterdam · ★4.44 · 1 bedroom · 1...    59484   \n",
              "2  213371  Rental unit in Amsterdam · ★4.86 · 3 bedrooms ...  1100324   \n",
              "3  155548  Rental unit in Amsterdam · ★4.76 · 1 bedroom ·...   748161   \n",
              "4   27886  Houseboat in Amsterdam · ★4.94 · 1 bedroom · 1...    97647   \n",
              "\n",
              "   host_name  neighbourhood_group                           neighbourhood  \\\n",
              "0     Daniel                  NaN  Oostelijk Havengebied - Indische Buurt   \n",
              "1  Alexander                  NaN                            Centrum-Oost   \n",
              "2    Hendrik                  NaN                 De Pijp - Rivierenbuurt   \n",
              "3      Maria                  NaN                                Oud-Oost   \n",
              "4       Flip                  NaN                            Centrum-West   \n",
              "\n",
              "   latitude  longitude        room_type  price  minimum_nights  \\\n",
              "0  52.36435    4.94358     Private room     69               3   \n",
              "1  52.36407    4.89393     Private room    106               1   \n",
              "2  52.35150    4.89656  Entire home/apt    270               4   \n",
              "3  52.36420    4.92829  Entire home/apt    200               3   \n",
              "4  52.38761    4.89188     Private room    137               3   \n",
              "\n",
              "   number_of_reviews last_review  reviews_per_month  \\\n",
              "0                336  2023-05-31               1.95   \n",
              "1                339  2020-04-09               2.10   \n",
              "2                 23  2023-01-08               0.16   \n",
              "3                 21  2019-08-20               0.15   \n",
              "4                251  2023-05-01               1.81   \n",
              "\n",
              "   calculated_host_listings_count  availability_365  number_of_reviews_ltm  \\\n",
              "0                               1                 7                     40   \n",
              "1                               2                 0                      0   \n",
              "2                               1                 2                      1   \n",
              "3                               1                 0                      0   \n",
              "4                               1                 0                     20   \n",
              "\n",
              "                    license  \n",
              "0                       NaN  \n",
              "1                       NaN  \n",
              "2  0363 F88F 4B47 6E9B 225B  \n",
              "3  0363 A562 4D7E 4A91 60DF  \n",
              "4                       NaN  "
            ],
            "text/html": [
              "\n",
              "\n",
              "  <div id=\"df-24704f64-000c-458d-9ab9-3c36f8d82445\">\n",
              "    <div class=\"colab-df-container\">\n",
              "      <div>\n",
              "<style scoped>\n",
              "    .dataframe tbody tr th:only-of-type {\n",
              "        vertical-align: middle;\n",
              "    }\n",
              "\n",
              "    .dataframe tbody tr th {\n",
              "        vertical-align: top;\n",
              "    }\n",
              "\n",
              "    .dataframe thead th {\n",
              "        text-align: right;\n",
              "    }\n",
              "</style>\n",
              "<table border=\"1\" class=\"dataframe\">\n",
              "  <thead>\n",
              "    <tr style=\"text-align: right;\">\n",
              "      <th></th>\n",
              "      <th>id</th>\n",
              "      <th>name</th>\n",
              "      <th>host_id</th>\n",
              "      <th>host_name</th>\n",
              "      <th>neighbourhood_group</th>\n",
              "      <th>neighbourhood</th>\n",
              "      <th>latitude</th>\n",
              "      <th>longitude</th>\n",
              "      <th>room_type</th>\n",
              "      <th>price</th>\n",
              "      <th>minimum_nights</th>\n",
              "      <th>number_of_reviews</th>\n",
              "      <th>last_review</th>\n",
              "      <th>reviews_per_month</th>\n",
              "      <th>calculated_host_listings_count</th>\n",
              "      <th>availability_365</th>\n",
              "      <th>number_of_reviews_ltm</th>\n",
              "      <th>license</th>\n",
              "    </tr>\n",
              "  </thead>\n",
              "  <tbody>\n",
              "    <tr>\n",
              "      <th>0</th>\n",
              "      <td>2818</td>\n",
              "      <td>Condo in Amsterdam · ★4.89 · 1 bedroom · 2 bed...</td>\n",
              "      <td>3159</td>\n",
              "      <td>Daniel</td>\n",
              "      <td>NaN</td>\n",
              "      <td>Oostelijk Havengebied - Indische Buurt</td>\n",
              "      <td>52.36435</td>\n",
              "      <td>4.94358</td>\n",
              "      <td>Private room</td>\n",
              "      <td>69</td>\n",
              "      <td>3</td>\n",
              "      <td>336</td>\n",
              "      <td>2023-05-31</td>\n",
              "      <td>1.95</td>\n",
              "      <td>1</td>\n",
              "      <td>7</td>\n",
              "      <td>40</td>\n",
              "      <td>NaN</td>\n",
              "    </tr>\n",
              "    <tr>\n",
              "      <th>1</th>\n",
              "      <td>20168</td>\n",
              "      <td>Townhouse in Amsterdam · ★4.44 · 1 bedroom · 1...</td>\n",
              "      <td>59484</td>\n",
              "      <td>Alexander</td>\n",
              "      <td>NaN</td>\n",
              "      <td>Centrum-Oost</td>\n",
              "      <td>52.36407</td>\n",
              "      <td>4.89393</td>\n",
              "      <td>Private room</td>\n",
              "      <td>106</td>\n",
              "      <td>1</td>\n",
              "      <td>339</td>\n",
              "      <td>2020-04-09</td>\n",
              "      <td>2.10</td>\n",
              "      <td>2</td>\n",
              "      <td>0</td>\n",
              "      <td>0</td>\n",
              "      <td>NaN</td>\n",
              "    </tr>\n",
              "    <tr>\n",
              "      <th>2</th>\n",
              "      <td>213371</td>\n",
              "      <td>Rental unit in Amsterdam · ★4.86 · 3 bedrooms ...</td>\n",
              "      <td>1100324</td>\n",
              "      <td>Hendrik</td>\n",
              "      <td>NaN</td>\n",
              "      <td>De Pijp - Rivierenbuurt</td>\n",
              "      <td>52.35150</td>\n",
              "      <td>4.89656</td>\n",
              "      <td>Entire home/apt</td>\n",
              "      <td>270</td>\n",
              "      <td>4</td>\n",
              "      <td>23</td>\n",
              "      <td>2023-01-08</td>\n",
              "      <td>0.16</td>\n",
              "      <td>1</td>\n",
              "      <td>2</td>\n",
              "      <td>1</td>\n",
              "      <td>0363 F88F 4B47 6E9B 225B</td>\n",
              "    </tr>\n",
              "    <tr>\n",
              "      <th>3</th>\n",
              "      <td>155548</td>\n",
              "      <td>Rental unit in Amsterdam · ★4.76 · 1 bedroom ·...</td>\n",
              "      <td>748161</td>\n",
              "      <td>Maria</td>\n",
              "      <td>NaN</td>\n",
              "      <td>Oud-Oost</td>\n",
              "      <td>52.36420</td>\n",
              "      <td>4.92829</td>\n",
              "      <td>Entire home/apt</td>\n",
              "      <td>200</td>\n",
              "      <td>3</td>\n",
              "      <td>21</td>\n",
              "      <td>2019-08-20</td>\n",
              "      <td>0.15</td>\n",
              "      <td>1</td>\n",
              "      <td>0</td>\n",
              "      <td>0</td>\n",
              "      <td>0363 A562 4D7E 4A91 60DF</td>\n",
              "    </tr>\n",
              "    <tr>\n",
              "      <th>4</th>\n",
              "      <td>27886</td>\n",
              "      <td>Houseboat in Amsterdam · ★4.94 · 1 bedroom · 1...</td>\n",
              "      <td>97647</td>\n",
              "      <td>Flip</td>\n",
              "      <td>NaN</td>\n",
              "      <td>Centrum-West</td>\n",
              "      <td>52.38761</td>\n",
              "      <td>4.89188</td>\n",
              "      <td>Private room</td>\n",
              "      <td>137</td>\n",
              "      <td>3</td>\n",
              "      <td>251</td>\n",
              "      <td>2023-05-01</td>\n",
              "      <td>1.81</td>\n",
              "      <td>1</td>\n",
              "      <td>0</td>\n",
              "      <td>20</td>\n",
              "      <td>NaN</td>\n",
              "    </tr>\n",
              "  </tbody>\n",
              "</table>\n",
              "</div>\n",
              "      <button class=\"colab-df-convert\" onclick=\"convertToInteractive('df-24704f64-000c-458d-9ab9-3c36f8d82445')\"\n",
              "              title=\"Convert this dataframe to an interactive table.\"\n",
              "              style=\"display:none;\">\n",
              "\n",
              "  <svg xmlns=\"http://www.w3.org/2000/svg\" height=\"24px\"viewBox=\"0 0 24 24\"\n",
              "       width=\"24px\">\n",
              "    <path d=\"M0 0h24v24H0V0z\" fill=\"none\"/>\n",
              "    <path d=\"M18.56 5.44l.94 2.06.94-2.06 2.06-.94-2.06-.94-.94-2.06-.94 2.06-2.06.94zm-11 1L8.5 8.5l.94-2.06 2.06-.94-2.06-.94L8.5 2.5l-.94 2.06-2.06.94zm10 10l.94 2.06.94-2.06 2.06-.94-2.06-.94-.94-2.06-.94 2.06-2.06.94z\"/><path d=\"M17.41 7.96l-1.37-1.37c-.4-.4-.92-.59-1.43-.59-.52 0-1.04.2-1.43.59L10.3 9.45l-7.72 7.72c-.78.78-.78 2.05 0 2.83L4 21.41c.39.39.9.59 1.41.59.51 0 1.02-.2 1.41-.59l7.78-7.78 2.81-2.81c.8-.78.8-2.07 0-2.86zM5.41 20L4 18.59l7.72-7.72 1.47 1.35L5.41 20z\"/>\n",
              "  </svg>\n",
              "      </button>\n",
              "\n",
              "\n",
              "\n",
              "    <div id=\"df-a59de118-ff7c-4e1f-9eab-1f7fdd5a2180\">\n",
              "      <button class=\"colab-df-quickchart\" onclick=\"quickchart('df-a59de118-ff7c-4e1f-9eab-1f7fdd5a2180')\"\n",
              "              title=\"Suggest charts.\"\n",
              "              style=\"display:none;\">\n",
              "\n",
              "<svg xmlns=\"http://www.w3.org/2000/svg\" height=\"24px\"viewBox=\"0 0 24 24\"\n",
              "     width=\"24px\">\n",
              "    <g>\n",
              "        <path d=\"M19 3H5c-1.1 0-2 .9-2 2v14c0 1.1.9 2 2 2h14c1.1 0 2-.9 2-2V5c0-1.1-.9-2-2-2zM9 17H7v-7h2v7zm4 0h-2V7h2v10zm4 0h-2v-4h2v4z\"/>\n",
              "    </g>\n",
              "</svg>\n",
              "      </button>\n",
              "    </div>\n",
              "\n",
              "<style>\n",
              "  .colab-df-quickchart {\n",
              "    background-color: #E8F0FE;\n",
              "    border: none;\n",
              "    border-radius: 50%;\n",
              "    cursor: pointer;\n",
              "    display: none;\n",
              "    fill: #1967D2;\n",
              "    height: 32px;\n",
              "    padding: 0 0 0 0;\n",
              "    width: 32px;\n",
              "  }\n",
              "\n",
              "  .colab-df-quickchart:hover {\n",
              "    background-color: #E2EBFA;\n",
              "    box-shadow: 0px 1px 2px rgba(60, 64, 67, 0.3), 0px 1px 3px 1px rgba(60, 64, 67, 0.15);\n",
              "    fill: #174EA6;\n",
              "  }\n",
              "\n",
              "  [theme=dark] .colab-df-quickchart {\n",
              "    background-color: #3B4455;\n",
              "    fill: #D2E3FC;\n",
              "  }\n",
              "\n",
              "  [theme=dark] .colab-df-quickchart:hover {\n",
              "    background-color: #434B5C;\n",
              "    box-shadow: 0px 1px 3px 1px rgba(0, 0, 0, 0.15);\n",
              "    filter: drop-shadow(0px 1px 2px rgba(0, 0, 0, 0.3));\n",
              "    fill: #FFFFFF;\n",
              "  }\n",
              "</style>\n",
              "\n",
              "    <script>\n",
              "      async function quickchart(key) {\n",
              "        const containerElement = document.querySelector('#' + key);\n",
              "        const charts = await google.colab.kernel.invokeFunction(\n",
              "            'suggestCharts', [key], {});\n",
              "      }\n",
              "    </script>\n",
              "\n",
              "      <script>\n",
              "\n",
              "function displayQuickchartButton(domScope) {\n",
              "  let quickchartButtonEl =\n",
              "    domScope.querySelector('#df-a59de118-ff7c-4e1f-9eab-1f7fdd5a2180 button.colab-df-quickchart');\n",
              "  quickchartButtonEl.style.display =\n",
              "    google.colab.kernel.accessAllowed ? 'block' : 'none';\n",
              "}\n",
              "\n",
              "        displayQuickchartButton(document);\n",
              "      </script>\n",
              "      <style>\n",
              "    .colab-df-container {\n",
              "      display:flex;\n",
              "      flex-wrap:wrap;\n",
              "      gap: 12px;\n",
              "    }\n",
              "\n",
              "    .colab-df-convert {\n",
              "      background-color: #E8F0FE;\n",
              "      border: none;\n",
              "      border-radius: 50%;\n",
              "      cursor: pointer;\n",
              "      display: none;\n",
              "      fill: #1967D2;\n",
              "      height: 32px;\n",
              "      padding: 0 0 0 0;\n",
              "      width: 32px;\n",
              "    }\n",
              "\n",
              "    .colab-df-convert:hover {\n",
              "      background-color: #E2EBFA;\n",
              "      box-shadow: 0px 1px 2px rgba(60, 64, 67, 0.3), 0px 1px 3px 1px rgba(60, 64, 67, 0.15);\n",
              "      fill: #174EA6;\n",
              "    }\n",
              "\n",
              "    [theme=dark] .colab-df-convert {\n",
              "      background-color: #3B4455;\n",
              "      fill: #D2E3FC;\n",
              "    }\n",
              "\n",
              "    [theme=dark] .colab-df-convert:hover {\n",
              "      background-color: #434B5C;\n",
              "      box-shadow: 0px 1px 3px 1px rgba(0, 0, 0, 0.15);\n",
              "      filter: drop-shadow(0px 1px 2px rgba(0, 0, 0, 0.3));\n",
              "      fill: #FFFFFF;\n",
              "    }\n",
              "  </style>\n",
              "\n",
              "      <script>\n",
              "        const buttonEl =\n",
              "          document.querySelector('#df-24704f64-000c-458d-9ab9-3c36f8d82445 button.colab-df-convert');\n",
              "        buttonEl.style.display =\n",
              "          google.colab.kernel.accessAllowed ? 'block' : 'none';\n",
              "\n",
              "        async function convertToInteractive(key) {\n",
              "          const element = document.querySelector('#df-24704f64-000c-458d-9ab9-3c36f8d82445');\n",
              "          const dataTable =\n",
              "            await google.colab.kernel.invokeFunction('convertToInteractive',\n",
              "                                                     [key], {});\n",
              "          if (!dataTable) return;\n",
              "\n",
              "          const docLinkHtml = 'Like what you see? Visit the ' +\n",
              "            '<a target=\"_blank\" href=https://colab.research.google.com/notebooks/data_table.ipynb>data table notebook</a>'\n",
              "            + ' to learn more about interactive tables.';\n",
              "          element.innerHTML = '';\n",
              "          dataTable['output_type'] = 'display_data';\n",
              "          await google.colab.output.renderOutput(dataTable, element);\n",
              "          const docLink = document.createElement('div');\n",
              "          docLink.innerHTML = docLinkHtml;\n",
              "          element.appendChild(docLink);\n",
              "        }\n",
              "      </script>\n",
              "    </div>\n",
              "  </div>\n"
            ]
          },
          "metadata": {},
          "execution_count": 5
        }
      ]
    },
    {
      "cell_type": "code",
      "source": [],
      "metadata": {
        "id": "3vzjmrbezcLE"
      },
      "execution_count": null,
      "outputs": []
    }
  ]
}